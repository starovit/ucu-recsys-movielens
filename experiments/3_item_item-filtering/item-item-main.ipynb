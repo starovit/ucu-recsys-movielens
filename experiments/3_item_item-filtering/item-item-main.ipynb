{
 "cells": [
  {
   "cell_type": "code",
   "id": "initial_id",
   "metadata": {
    "collapsed": true,
    "ExecuteTime": {
     "end_time": "2024-06-16T18:49:22.093473Z",
     "start_time": "2024-06-16T18:49:21.548679Z"
    }
   },
   "source": [
    "import pandas as pd\n",
    "from src.utils import TrainTestSplitter, read_pickles\n",
    "from src.models import ItemItemModel, BaseModelAverage\n",
    "from src.metrics import ml_metrics, predictive_metrics, rank_metrics\n",
    "from tqdm import tqdm\n",
    "tqdm.pandas()"
   ],
   "outputs": [],
   "execution_count": 2
  },
  {
   "metadata": {
    "ExecuteTime": {
     "end_time": "2024-06-16T18:49:22.457151Z",
     "start_time": "2024-06-16T18:49:22.362118Z"
    }
   },
   "cell_type": "code",
   "source": "df_movies, df_users, df_ratings = read_pickles(\"../../data/ml-1m-after_eda/\")",
   "id": "f194a5ff50a4c36d",
   "outputs": [],
   "execution_count": 3
  },
  {
   "metadata": {
    "ExecuteTime": {
     "end_time": "2024-06-16T18:49:24.993821Z",
     "start_time": "2024-06-16T18:49:23.511588Z"
    }
   },
   "cell_type": "code",
   "source": [
    "train, test = TrainTestSplitter.split_by_percent(df_ratings, 0.8)\n",
    "print(f\"Train shape: {train.shape}\")\n",
    "print(f\"Test shape: {test.shape}\")\n",
    "\n",
    "true_scores = test[\"Rating\"]\n",
    "\n",
    "base_model = BaseModelAverage()\n",
    "base_model.fit(train)\n",
    "predicted_scores = base_model.predict(test[\"MovieID\"])\n",
    "\n",
    "# evaluate\n",
    "print(f\"ML merics: {ml_metrics(true_scores, predicted_scores)}\")\n",
    "print(f\"Predictive merics: {predictive_metrics(test, predicted_scores, k=5)}\")\n",
    "print(f\"Rank merics: {rank_metrics(test, predicted_scores, k=1, threshold=5)}\")"
   ],
   "id": "3bbc995a74f0b78f",
   "outputs": [
    {
     "name": "stdout",
     "output_type": "stream",
     "text": [
      "Train shape: (800167, 6)\n",
      "Test shape: (200042, 6)\n",
      "ML merics: {'mae': 0.785, 'rmse': 0.985, 'precision': 0.805, 'recall': 0.361, 'f1': 0.498, 'roc_auc': 0.617}\n",
      "Predictive merics: {'k': 5, 'threshold': 4, 'precision_at_k': 0.869, 'recall_at_k': 0.101, 'avrg_prec_at_k': 0.869, 'n_users_with_k': 1246}\n",
      "Rank merics: {'mean_reciprocal_rank': 2.034, 'hit_rate': 0.903}\n"
     ]
    }
   ],
   "execution_count": 4
  },
  {
   "metadata": {},
   "cell_type": "markdown",
   "source": "# Item - Item ",
   "id": "ea9c1fd29defef26"
  },
  {
   "metadata": {
    "ExecuteTime": {
     "end_time": "2024-06-16T18:49:26.351296Z",
     "start_time": "2024-06-16T18:49:25.556466Z"
    }
   },
   "cell_type": "code",
   "source": [
    "item_item_model = ItemItemModel(num_of_similar_items=300)\n",
    "item_item_model.fit(rading_df=df_ratings)\n",
    "predicted_scores_for_each_film, indexes_of_similar_items = item_item_model.predict(user_id=20, film_id=100)"
   ],
   "id": "c0ac94bedef8de6c",
   "outputs": [],
   "execution_count": 5
  },
  {
   "metadata": {
    "ExecuteTime": {
     "end_time": "2024-06-16T18:49:26.755770Z",
     "start_time": "2024-06-16T18:49:26.753043Z"
    }
   },
   "cell_type": "code",
   "source": "predicted_scores_for_each_film",
   "id": "f1f6edb4dd07a19d",
   "outputs": [
    {
     "data": {
      "text/plain": [
       "4.0"
      ]
     },
     "execution_count": 6,
     "metadata": {},
     "output_type": "execute_result"
    }
   ],
   "execution_count": 6
  },
  {
   "metadata": {},
   "cell_type": "markdown",
   "source": "## We take only first 10 000 items to make predictions faster",
   "id": "6f29883ef3f10a72"
  },
  {
   "metadata": {
    "ExecuteTime": {
     "end_time": "2024-06-16T18:59:08.677040Z",
     "start_time": "2024-06-16T18:58:47.104939Z"
    }
   },
   "cell_type": "code",
   "source": [
    "X_test = test[[\"UserID\", \"MovieID\"]][:10000]\n",
    "y_test = test[\"Rating\"][:10000]\n",
    "\n",
    "def predict_wrapper(row):\n",
    "    user_id = row[\"UserID\"]\n",
    "    movie_id = row[\"MovieID\"]\n",
    "    predict, indexes_of_similar_items =  item_item_model.predict(user_id, movie_id)\n",
    "    return predict\n",
    "\n",
    "predict = X_test.progress_apply(predict_wrapper, axis=1).tolist()"
   ],
   "id": "d1a3abd56217e57a",
   "outputs": [
    {
     "name": "stderr",
     "output_type": "stream",
     "text": [
      "  0%|          | 0/10000 [00:00<?, ?it/s]/Users/yuriivoievidka/MLProjects/IT-jim/Test Task/.venv/lib/python3.11/site-packages/numpy/core/fromnumeric.py:3504: RuntimeWarning: Mean of empty slice.\n",
      "  return _methods._mean(a, axis=axis, dtype=dtype,\n",
      "/Users/yuriivoievidka/MLProjects/IT-jim/Test Task/.venv/lib/python3.11/site-packages/numpy/core/_methods.py:129: RuntimeWarning: invalid value encountered in scalar divide\n",
      "  ret = ret.dtype.type(ret / rcount)\n",
      "100%|██████████| 10000/10000 [00:21<00:00, 463.69it/s]\n"
     ]
    }
   ],
   "execution_count": 18
  },
  {
   "metadata": {
    "ExecuteTime": {
     "end_time": "2024-06-16T19:00:48.928976Z",
     "start_time": "2024-06-16T19:00:48.926645Z"
    }
   },
   "cell_type": "code",
   "source": [
    "y_pred = pd.DataFrame(predict, columns=[\"Rating\"])\n",
    "y_pred.fillna(0, inplace=True)"
   ],
   "id": "4caa946930712d81",
   "outputs": [],
   "execution_count": 23
  },
  {
   "metadata": {
    "ExecuteTime": {
     "end_time": "2024-06-16T19:04:00.257460Z",
     "start_time": "2024-06-16T19:03:59.080420Z"
    }
   },
   "cell_type": "code",
   "source": [
    "print(f\"ML merics: {ml_metrics(y_test, y_pred)}\")\n",
    "print(f\"Predictive merics: {predictive_metrics(test, y_pred, k=5)}\")\n",
    "print(f\"Rank merics: {rank_metrics(test, y_pred, k=4, threshold=3)}\")"
   ],
   "id": "dd78a9380341d9a8",
   "outputs": [
    {
     "name": "stdout",
     "output_type": "stream",
     "text": [
      "ML merics: {'mae': 1.023, 'rmse': 1.38, 'precision': 0.624, 'recall': 0.964, 'f1': 0.758, 'roc_auc': 0.532}\n",
      "Predictive merics: {'k': 5, 'threshold': 4, 'precision_at_k': 0.631, 'recall_at_k': 0.075, 'avrg_prec_at_k': 0.631, 'n_users_with_k': 1246}\n",
      "Rank merics: {'mean_reciprocal_rank': 1.226, 'hit_rate': 0.938}\n"
     ]
    }
   ],
   "execution_count": 26
  },
  {
   "metadata": {},
   "cell_type": "code",
   "outputs": [],
   "execution_count": null,
   "source": "",
   "id": "5e57ea60cbbbbfb7"
  }
 ],
 "metadata": {
  "kernelspec": {
   "display_name": "Python 3",
   "language": "python",
   "name": "python3"
  },
  "language_info": {
   "codemirror_mode": {
    "name": "ipython",
    "version": 2
   },
   "file_extension": ".py",
   "mimetype": "text/x-python",
   "name": "python",
   "nbconvert_exporter": "python",
   "pygments_lexer": "ipython2",
   "version": "2.7.6"
  }
 },
 "nbformat": 4,
 "nbformat_minor": 5
}
