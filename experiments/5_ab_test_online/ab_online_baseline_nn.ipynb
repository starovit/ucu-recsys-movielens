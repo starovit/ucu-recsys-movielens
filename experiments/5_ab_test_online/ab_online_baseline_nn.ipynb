{
 "cells": [
  {
   "cell_type": "code",
   "execution_count": 7,
   "metadata": {},
   "outputs": [],
   "source": [
    "import numpy as np\n",
    "import pandas as pd\n",
    "import torch\n",
    "\n",
    "from src import utils, models, metrics"
   ]
  },
  {
   "cell_type": "code",
   "execution_count": 18,
   "metadata": {},
   "outputs": [],
   "source": [
    "df_movies, df_users, df_ratings = utils.read_pickles(\"../../data/ml-1m-after_eda/\")"
   ]
  },
  {
   "cell_type": "markdown",
   "metadata": {},
   "source": [
    "### Baseline predictor"
   ]
  },
  {
   "cell_type": "code",
   "execution_count": 38,
   "metadata": {},
   "outputs": [
    {
     "data": {
      "text/plain": [
       "array([4, 4, 5, ..., 4, 3, 4])"
      ]
     },
     "execution_count": 38,
     "metadata": {},
     "output_type": "execute_result"
    }
   ],
   "source": [
    "train, test = utils.TrainTestSplitter.split_by_percent(df_ratings, 0.8,\n",
    "                                                       sort_by_datetime=True)\n",
    "true_ratings = test[\"Rating\"].values\n",
    "true_ratings"
   ]
  },
  {
   "cell_type": "code",
   "execution_count": 21,
   "metadata": {},
   "outputs": [],
   "source": [
    "base_model = models.BaseModelAverage()\n",
    "base_model.fit(train)\n",
    "predicted_scores_baseline = base_model.predict(test[\"MovieID\"])"
   ]
  },
  {
   "cell_type": "code",
   "execution_count": 33,
   "metadata": {},
   "outputs": [
    {
     "data": {
      "text/plain": [
       "array([3.58507223, 3.75510204, 4.17142857, ..., 3.10513447, 3.25333333,\n",
       "       2.68571429])"
      ]
     },
     "execution_count": 33,
     "metadata": {},
     "output_type": "execute_result"
    }
   ],
   "source": [
    "predicted_scores_baseline"
   ]
  },
  {
   "cell_type": "markdown",
   "metadata": {},
   "source": [
    "### DeepLearning predictor"
   ]
  },
  {
   "cell_type": "code",
   "execution_count": 74,
   "metadata": {},
   "outputs": [
    {
     "data": {
      "text/html": [
       "<div>\n",
       "<style scoped>\n",
       "    .dataframe tbody tr th:only-of-type {\n",
       "        vertical-align: middle;\n",
       "    }\n",
       "\n",
       "    .dataframe tbody tr th {\n",
       "        vertical-align: top;\n",
       "    }\n",
       "\n",
       "    .dataframe thead th {\n",
       "        text-align: right;\n",
       "    }\n",
       "</style>\n",
       "<table border=\"1\" class=\"dataframe\">\n",
       "  <thead>\n",
       "    <tr style=\"text-align: right;\">\n",
       "      <th></th>\n",
       "      <th>Rating</th>\n",
       "      <th>AvgUserRating</th>\n",
       "      <th>AvgMovieRating</th>\n",
       "      <th>Gender_F</th>\n",
       "      <th>Gender_M</th>\n",
       "      <th>Age_1</th>\n",
       "      <th>Age_18</th>\n",
       "      <th>Age_25</th>\n",
       "      <th>Age_35</th>\n",
       "      <th>Age_45</th>\n",
       "      <th>...</th>\n",
       "      <th>Decade_1910</th>\n",
       "      <th>Decade_1920</th>\n",
       "      <th>Decade_1930</th>\n",
       "      <th>Decade_1940</th>\n",
       "      <th>Decade_1950</th>\n",
       "      <th>Decade_1960</th>\n",
       "      <th>Decade_1970</th>\n",
       "      <th>Decade_1980</th>\n",
       "      <th>Decade_1990</th>\n",
       "      <th>Decade_2000</th>\n",
       "    </tr>\n",
       "  </thead>\n",
       "  <tbody>\n",
       "    <tr>\n",
       "      <th>0</th>\n",
       "      <td>4</td>\n",
       "      <td>NaN</td>\n",
       "      <td>NaN</td>\n",
       "      <td>0</td>\n",
       "      <td>1</td>\n",
       "      <td>0</td>\n",
       "      <td>0</td>\n",
       "      <td>1</td>\n",
       "      <td>0</td>\n",
       "      <td>0</td>\n",
       "      <td>...</td>\n",
       "      <td>0</td>\n",
       "      <td>0</td>\n",
       "      <td>0</td>\n",
       "      <td>0</td>\n",
       "      <td>0</td>\n",
       "      <td>0</td>\n",
       "      <td>1</td>\n",
       "      <td>0</td>\n",
       "      <td>0</td>\n",
       "      <td>0</td>\n",
       "    </tr>\n",
       "    <tr>\n",
       "      <th>1</th>\n",
       "      <td>4</td>\n",
       "      <td>4.0</td>\n",
       "      <td>NaN</td>\n",
       "      <td>0</td>\n",
       "      <td>1</td>\n",
       "      <td>0</td>\n",
       "      <td>0</td>\n",
       "      <td>1</td>\n",
       "      <td>0</td>\n",
       "      <td>0</td>\n",
       "      <td>...</td>\n",
       "      <td>0</td>\n",
       "      <td>0</td>\n",
       "      <td>0</td>\n",
       "      <td>0</td>\n",
       "      <td>0</td>\n",
       "      <td>0</td>\n",
       "      <td>0</td>\n",
       "      <td>0</td>\n",
       "      <td>1</td>\n",
       "      <td>0</td>\n",
       "    </tr>\n",
       "    <tr>\n",
       "      <th>2</th>\n",
       "      <td>5</td>\n",
       "      <td>4.0</td>\n",
       "      <td>NaN</td>\n",
       "      <td>0</td>\n",
       "      <td>1</td>\n",
       "      <td>0</td>\n",
       "      <td>0</td>\n",
       "      <td>1</td>\n",
       "      <td>0</td>\n",
       "      <td>0</td>\n",
       "      <td>...</td>\n",
       "      <td>0</td>\n",
       "      <td>0</td>\n",
       "      <td>0</td>\n",
       "      <td>0</td>\n",
       "      <td>0</td>\n",
       "      <td>0</td>\n",
       "      <td>0</td>\n",
       "      <td>0</td>\n",
       "      <td>1</td>\n",
       "      <td>0</td>\n",
       "    </tr>\n",
       "  </tbody>\n",
       "</table>\n",
       "<p>3 rows × 113 columns</p>\n",
       "</div>"
      ],
      "text/plain": [
       "   Rating  AvgUserRating  AvgMovieRating  Gender_F  Gender_M  Age_1  Age_18  \\\n",
       "0       4            NaN             NaN         0         1      0       0   \n",
       "1       4            4.0             NaN         0         1      0       0   \n",
       "2       5            4.0             NaN         0         1      0       0   \n",
       "\n",
       "   Age_25  Age_35  Age_45  ...  Decade_1910  Decade_1920  Decade_1930  \\\n",
       "0       1       0       0  ...            0            0            0   \n",
       "1       1       0       0  ...            0            0            0   \n",
       "2       1       0       0  ...            0            0            0   \n",
       "\n",
       "   Decade_1940  Decade_1950  Decade_1960  Decade_1970  Decade_1980  \\\n",
       "0            0            0            0            1            0   \n",
       "1            0            0            0            0            0   \n",
       "2            0            0            0            0            0   \n",
       "\n",
       "   Decade_1990  Decade_2000  \n",
       "0            0            0  \n",
       "1            1            0  \n",
       "2            1            0  \n",
       "\n",
       "[3 rows x 113 columns]"
      ]
     },
     "execution_count": 74,
     "metadata": {},
     "output_type": "execute_result"
    }
   ],
   "source": [
    "df = utils.dl_data_pipeline(df_movies, df_users, df_ratings)\n",
    "df = df.drop([\"UserID\", \"MovieID\"], axis=1)\n",
    "df.head(3)"
   ]
  },
  {
   "cell_type": "code",
   "execution_count": 75,
   "metadata": {},
   "outputs": [],
   "source": [
    "train, test = utils.TrainTestSplitter.split_by_percent(df, 0.8)"
   ]
  },
  {
   "cell_type": "code",
   "execution_count": 76,
   "metadata": {},
   "outputs": [],
   "source": [
    "mean_users_rating = train[\"AvgUserRating\"].mean()\n",
    "mean_movies_rating = train[\"AvgMovieRating\"].mean()\n",
    "\n",
    "train[\"AvgUserRating\"] = train[\"AvgUserRating\"].fillna(mean_users_rating)\n",
    "train[\"AvgMovieRating\"] = train[\"AvgMovieRating\"].fillna(mean_movies_rating)\n",
    "\n",
    "test[\"AvgUserRating\"] = test[\"AvgUserRating\"].fillna(mean_users_rating)\n",
    "test[\"AvgMovieRating\"] = test[\"AvgMovieRating\"].fillna(mean_movies_rating)"
   ]
  },
  {
   "cell_type": "code",
   "execution_count": 77,
   "metadata": {},
   "outputs": [
    {
     "data": {
      "text/plain": [
       "MovieRatingNN(\n",
       "  (layer1): Linear(in_features=112, out_features=128, bias=True)\n",
       "  (layer2): Linear(in_features=128, out_features=64, bias=True)\n",
       "  (output_reg): Linear(in_features=64, out_features=1, bias=True)\n",
       ")"
      ]
     },
     "execution_count": 77,
     "metadata": {},
     "output_type": "execute_result"
    }
   ],
   "source": [
    "model = models.MovieRatingNN(112)\n",
    "model.load_state_dict(torch.load(\"../../artifacts/simple_nn.pth\"))\n",
    "model.eval()"
   ]
  },
  {
   "cell_type": "code",
   "execution_count": 78,
   "metadata": {},
   "outputs": [],
   "source": [
    "test_tensor = torch.tensor(test.drop([\"Rating\"], axis=1).values,\n",
    "                           dtype=torch.float32)\n",
    "predicted_scores_nn = model.forward(test_tensor).detach().numpy().flatten()"
   ]
  },
  {
   "cell_type": "markdown",
   "metadata": {},
   "source": [
    "### A/B Tester"
   ]
  },
  {
   "cell_type": "code",
   "execution_count": 79,
   "metadata": {},
   "outputs": [],
   "source": [
    "from scipy import stats\n",
    "\n",
    "class IncrementalABTester:\n",
    "    def __init__(self):\n",
    "        self.true_ratings = np.array([])\n",
    "        self.predictions_baseline = np.array([])\n",
    "        self.predictions_nn = np.array([])\n",
    "\n",
    "    def add_data(self, true_rating, prediction_baseline, prediction_nn):\n",
    "        self.true_ratings = np.append(self.true_ratings, true_rating)\n",
    "        self.predictions_baseline = np.append(self.predictions_baseline, prediction_baseline)\n",
    "        self.predictions_nn = np.append(self.predictions_nn, prediction_nn)\n",
    "\n",
    "    def rmse(self, predictions):\n",
    "        return np.sqrt(np.mean((self.true_ratings - predictions) ** 2))\n",
    "\n",
    "    def run_tests(self):\n",
    "        rmse_baseline = self.rmse(self.predictions_baseline)\n",
    "        rmse_nn = self.rmse(self.predictions_nn)\n",
    "        \n",
    "        # Conduct a paired t-test if we have enough data\n",
    "        if len(self.true_ratings) > 1:\n",
    "            _, p_value = stats.ttest_rel(self.predictions_baseline, self.predictions_nn)\n",
    "        else:\n",
    "            p_value = np.nan  # Not enough data to test\n",
    "        \n",
    "        results = {\n",
    "            'rmse_baseline': rmse_baseline,\n",
    "            'rmse_nn': rmse_nn,\n",
    "            'p_value': p_value\n",
    "        }\n",
    "        \n",
    "        return results"
   ]
  },
  {
   "cell_type": "code",
   "execution_count": 80,
   "metadata": {},
   "outputs": [
    {
     "name": "stdout",
     "output_type": "stream",
     "text": [
      "After 20000 records:  {'rmse_baseline': 0.9698346482311361, 'rmse_nn': 0.9254584371866704, 'p_value': 0.0}\n",
      "After 40000 records:  {'rmse_baseline': 0.9734893374751389, 'rmse_nn': 0.9389369210299985, 'p_value': 0.0}\n",
      "After 60000 records:  {'rmse_baseline': 0.972793583637622, 'rmse_nn': 0.9382951779884745, 'p_value': 0.0}\n",
      "After 80000 records:  {'rmse_baseline': 0.9739648946897694, 'rmse_nn': 0.9369347013156845, 'p_value': 0.0}\n",
      "After 100000 records:  {'rmse_baseline': 0.9830537119479884, 'rmse_nn': 0.9373680171427647, 'p_value': 0.0}\n",
      "After 120000 records:  {'rmse_baseline': 0.9767075100658202, 'rmse_nn': 0.934343118054592, 'p_value': 0.0}\n",
      "After 140000 records:  {'rmse_baseline': 0.9706905793988605, 'rmse_nn': 0.9299150845867491, 'p_value': 0.0}\n",
      "After 160000 records:  {'rmse_baseline': 0.9690716596690375, 'rmse_nn': 0.9280923062889181, 'p_value': 0.0}\n",
      "After 180000 records:  {'rmse_baseline': 0.9680760821842996, 'rmse_nn': 0.928584281646724, 'p_value': 0.0}\n",
      "After 200000 records:  {'rmse_baseline': 0.9692284089570785, 'rmse_nn': 0.9309572878329452, 'p_value': 0.0}\n"
     ]
    }
   ],
   "source": [
    "tester = IncrementalABTester()\n",
    "\n",
    "for true, baseline, nn in zip(true_ratings, predicted_scores_baseline,\n",
    "                              predicted_scores_nn):\n",
    "    tester.add_data(true, baseline, nn)\n",
    "    if len(tester.true_ratings) % 20000 == 0:  # Periodic testing, e.g., every 5 records\n",
    "        results = tester.run_tests()\n",
    "        print(f\"After {len(tester.true_ratings)} records: \", results)"
   ]
  },
  {
   "cell_type": "code",
   "execution_count": 94,
   "metadata": {},
   "outputs": [
    {
     "data": {
      "image/png": "[encoded data removed]",
      "text/plain": [
       "<Figure size 1000x600 with 1 Axes>"
      ]
     },
     "metadata": {},
     "output_type": "display_data"
    }
   ],
   "source": [
    "import matplotlib.pyplot as plt\n",
    "\n",
    "# Calculate errors\n",
    "errors_baseline = abs(true_ratings - predicted_scores_baseline)\n",
    "errors_nn = abs(true_ratings - predicted_scores_nn)\n",
    "\n",
    "# Calculate mean errors\n",
    "mean_abs_error_baseline = np.mean(errors_baseline)\n",
    "mean_abs_error_nn = np.mean(errors_nn)\n",
    "\n",
    "# Plotting histograms\n",
    "plt.figure(figsize=(10, 6))\n",
    "plt.hist(errors_baseline, bins=100, alpha=0.5, label='Baseline Errors', color='blue')\n",
    "plt.hist(errors_nn, bins=100, alpha=0.5, label='NN Errors', color='red')\n",
    "\n",
    "# Adding mean lines\n",
    "plt.axvline(mean_abs_error_baseline, color='blue', linestyle='dashed', linewidth=2, label=f'Mean Baseline Error: {mean_error_baseline:.2f}')\n",
    "plt.axvline(mean_abs_error_nn, color='red', linestyle='dashed', linewidth=2, label=f'Mean NN Error: {mean_error_nn:.2f}')\n",
    "\n",
    "# Adding labels and legend\n",
    "plt.xlabel('Error')\n",
    "plt.ylabel('Frequency')\n",
    "plt.title('Histogram of Prediction Errors')\n",
    "plt.legend()\n",
    "\n",
    "plt.show()"
   ]
  }
 ],
 "metadata": {
  "kernelspec": {
   "display_name": "ucu-recsys",
   "language": "python",
   "name": "python3"
  },
  "language_info": {
   "codemirror_mode": {
    "name": "ipython",
    "version": 3
   },
   "file_extension": ".py",
   "mimetype": "text/x-python",
   "name": "python",
   "nbconvert_exporter": "python",
   "pygments_lexer": "ipython3",
   "version": "3.11.8"
  }
 },
 "nbformat": 4,
 "nbformat_minor": 2
}
