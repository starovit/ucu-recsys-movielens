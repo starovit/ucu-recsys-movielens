{
 "cells": [
  {
   "cell_type": "code",
   "id": "initial_id",
   "metadata": {
    "collapsed": true,
    "ExecuteTime": {
     "end_time": "2024-06-16T19:21:17.155272Z",
     "start_time": "2024-06-16T19:21:16.328973Z"
    }
   },
   "source": [
    "import pandas as pd\n",
    "import numpy as np\n",
    "import warnings\n",
    "import matplotlib.pyplot as plt\n",
    "from scipy import sparse\n",
    "from scipy.sparse import bsr_array\n",
    "\n",
    "warnings.filterwarnings('ignore', category=pd.errors.ParserWarning)"
   ],
   "execution_count": 1,
   "outputs": []
  },
  {
   "metadata": {},
   "cell_type": "markdown",
   "source": "## Data Extraction",
   "id": "82084db6886f6e9d"
  },
  {
   "metadata": {
    "ExecuteTime": {
     "end_time": "2024-06-16T19:23:04.905678Z",
     "start_time": "2024-06-16T19:23:04.794115Z"
    }
   },
   "cell_type": "code",
   "source": [
    "df_movies = pd.read_pickle(\"../../data/ml-1m-after_eda/movies.pickle\")\n",
    "df_users = pd.read_pickle(\"../../data/ml-1m-after_eda/users.pickle\")\n",
    "df_ratings = pd.read_pickle(\"../../data/ml-1m-after_eda/ratings.pickle\")"
   ],
   "id": "398ffffb7c00252",
   "execution_count": 21,
   "outputs": []
  },
  {
   "metadata": {
    "ExecuteTime": {
     "end_time": "2024-06-16T19:21:17.723963Z",
     "start_time": "2024-06-16T19:21:17.717662Z"
    }
   },
   "cell_type": "code",
   "source": "df_ratings.head()",
   "id": "2604b1f9f329e58d",
   "execution_count": 3,
   "outputs": []
  },
  {
   "metadata": {
    "ExecuteTime": {
     "end_time": "2024-06-16T19:21:18.663243Z",
     "start_time": "2024-06-16T19:21:18.614152Z"
    }
   },
   "cell_type": "code",
   "source": "users_movies_rating = df_movies.merge(df_users, how=\"left\", on=\"UserID\")",
   "id": "5597a23c79a16d90",
   "execution_count": 4,
   "outputs": []
  },
  {
   "metadata": {},
   "cell_type": "code",
   "execution_count": null,
   "source": "",
   "id": "4f539c40dcf37c78",
   "outputs": []
  },
  {
   "metadata": {},
   "cell_type": "markdown",
   "source": [
    "## Data Extraction\n",
    "\n",
    "---"
   ],
   "id": "113f614e1266d16c"
  },
  {
   "metadata": {},
   "cell_type": "markdown",
   "source": "Sum of ratings",
   "id": "7c068b74f24e8c5e"
  },
  {
   "metadata": {
    "ExecuteTime": {
     "end_time": "2024-06-14T19:16:09.838923Z",
     "start_time": "2024-06-14T19:16:09.810953Z"
    }
   },
   "cell_type": "code",
   "source": "films_summed_by_rating = df_ratings.groupby(\"MovieID\").sum()\n",
   "id": "89aaf3e771ee1036",
   "execution_count": 11,
   "outputs": []
  },
  {
   "metadata": {
    "ExecuteTime": {
     "end_time": "2024-06-15T10:32:40.873403Z",
     "start_time": "2024-06-15T10:32:40.737584Z"
    }
   },
   "cell_type": "code",
   "source": "films_summed_by_rating.head(1200)",
   "id": "88a4eb7694b1c77b",
   "execution_count": 8,
   "outputs": []
  },
  {
   "metadata": {},
   "cell_type": "markdown",
   "source": "Average Rating",
   "id": "b41ab3644f980e1b"
  },
  {
   "metadata": {
    "ExecuteTime": {
     "end_time": "2024-06-14T19:16:11.798197Z",
     "start_time": "2024-06-14T19:16:11.774376Z"
    }
   },
   "cell_type": "code",
   "source": "films_summed_by_rating_averaged = df_ratings.groupby(\"MovieID\").sum() ",
   "id": "655431be8a433dff",
   "execution_count": 13,
   "outputs": []
  },
  {
   "metadata": {},
   "cell_type": "markdown",
   "source": [
    "# Building User Filters\n",
    "\n",
    "# Similarity measures \n",
    "- Cosine similarity"
   ],
   "id": "50631e4de7d85759"
  },
  {
   "metadata": {
    "ExecuteTime": {
     "end_time": "2024-06-15T10:45:12.824081Z",
     "start_time": "2024-06-15T10:45:12.820137Z"
    }
   },
   "cell_type": "code",
   "source": "df_movies['Genres'].unique()",
   "id": "fa957f93614f8d31",
   "execution_count": 13,
   "outputs": []
  },
  {
   "metadata": {
    "ExecuteTime": {
     "end_time": "2024-06-15T10:45:55.746132Z",
     "start_time": "2024-06-15T10:45:55.742316Z"
    }
   },
   "cell_type": "code",
   "source": [
    "r,c = df_movies[df_movies['Genres']=='(no genres listed)'].shape\n",
    "print('The number of movies which do not have info about genres:',r)"
   ],
   "id": "5caee9f685611561",
   "execution_count": 14,
   "outputs": []
  },
  {
   "metadata": {
    "ExecuteTime": {
     "end_time": "2024-06-16T19:22:31.056197Z",
     "start_time": "2024-06-16T19:22:31.053035Z"
    }
   },
   "cell_type": "code",
   "source": "train_dataframe = df_movies.copy()",
   "id": "8a73a049baf0743",
   "execution_count": 12,
   "outputs": []
  },
  {
   "metadata": {
    "ExecuteTime": {
     "end_time": "2024-06-15T10:56:20.236377Z",
     "start_time": "2024-06-15T10:56:19.948280Z"
    }
   },
   "cell_type": "code",
   "source": [
    "df_movies['Genres'] = df_movies['Genres'].str.replace('|',' ')\n",
    "# count the number of occurences for each genre in the data set\n",
    "counts = dict()\n",
    "for i in df_movies.index:\n",
    "    for g in df_movies.loc[i,'Genres'].split(' '):\n",
    "        if g not in counts:\n",
    "            counts[g] = 1\n",
    "        else:\n",
    "            counts[g] = counts[g] + 1\n",
    "            \n",
    "# create a bar chart\n",
    "plt.bar(list(counts.keys()), counts.values(), color='g')\n",
    "plt.xticks(rotation=45)\n",
    "plt.xlabel('Genres')\n",
    "plt.ylabel('Counts')"
   ],
   "id": "337e3c3c3d958d27",
   "execution_count": 18,
   "outputs": []
  },
  {
   "metadata": {
    "ExecuteTime": {
     "end_time": "2024-06-15T16:52:30.972215Z",
     "start_time": "2024-06-15T16:52:30.966700Z"
    }
   },
   "cell_type": "code",
   "source": "train_dataframe.head()",
   "id": "6f8f45107ce743b3",
   "execution_count": 109,
   "outputs": []
  },
  {
   "metadata": {
    "ExecuteTime": {
     "end_time": "2024-06-15T11:25:56.483906Z",
     "start_time": "2024-06-15T11:25:56.480438Z"
    }
   },
   "cell_type": "code",
   "source": "list(counts.keys())",
   "id": "b5fe165622f716f4",
   "execution_count": 31,
   "outputs": []
  },
  {
   "metadata": {
    "ExecuteTime": {
     "end_time": "2024-06-15T11:26:20.081331Z",
     "start_time": "2024-06-15T11:26:20.076193Z"
    }
   },
   "cell_type": "code",
   "source": "train_dataframe[list(counts.keys())] = 0",
   "id": "84891ca27e5367bb",
   "execution_count": 32,
   "outputs": []
  },
  {
   "metadata": {
    "ExecuteTime": {
     "end_time": "2024-06-16T19:21:46.655149Z",
     "start_time": "2024-06-16T19:21:46.515710Z"
    }
   },
   "cell_type": "code",
   "source": [
    "# for genre in counts.keys():\n",
    "train_dataframe['Genres'].apply(lambda x: x.split('|')) \n",
    "\n",
    "train_dataframe.apply()\n",
    "    # if \n",
    "\n",
    "# train_dataframe['Genres'].str.split('|',expand=True)"
   ],
   "id": "5c181c9aaaaabc39",
   "execution_count": 8,
   "outputs": []
  },
  {
   "metadata": {
    "ExecuteTime": {
     "end_time": "2024-06-15T16:51:46.300805Z",
     "start_time": "2024-06-15T16:51:46.294325Z"
    }
   },
   "cell_type": "code",
   "source": "train_dataframe.head()",
   "id": "77e2484e8cdbd198",
   "execution_count": 103,
   "outputs": []
  },
  {
   "metadata": {
    "ExecuteTime": {
     "end_time": "2024-06-15T13:55:13.506301Z",
     "start_time": "2024-06-15T13:55:13.503992Z"
    }
   },
   "cell_type": "code",
   "source": "len(train_dataframe)",
   "id": "9cf3b0e024a67d1b",
   "execution_count": 87,
   "outputs": []
  },
  {
   "metadata": {
    "ExecuteTime": {
     "end_time": "2024-06-15T12:51:40.228003Z",
     "start_time": "2024-06-15T12:51:35.582095Z"
    }
   },
   "cell_type": "code",
   "source": "from sklearn.feature_extraction.text import TfidfVectorizer\n",
   "id": "5c813b1a418957af",
   "execution_count": 34,
   "outputs": []
  },
  {
   "metadata": {
    "ExecuteTime": {
     "end_time": "2024-06-16T19:23:11.048518Z",
     "start_time": "2024-06-16T19:23:11.039273Z"
    }
   },
   "cell_type": "code",
   "source": "df_movies",
   "id": "3120060fb8dccb63",
   "execution_count": 22,
   "outputs": []
  },
  {
   "metadata": {
    "ExecuteTime": {
     "end_time": "2024-06-16T19:22:48.586952Z",
     "start_time": "2024-06-16T19:22:48.583902Z"
    }
   },
   "cell_type": "code",
   "source": "train_dataframe = df_movies.copy()",
   "id": "dd453d45e6fc2a8c",
   "execution_count": 18,
   "outputs": []
  },
  {
   "metadata": {
    "ExecuteTime": {
     "end_time": "2024-06-16T19:22:43.608768Z",
     "start_time": "2024-06-16T19:22:43.605273Z"
    }
   },
   "cell_type": "code",
   "source": [
    "train_dataframe['Genres'] = train_dataframe['Genres'].str.replace('Sci-Fi','SciFi')\n",
    "# train_dataframe['Genres'] = train_dataframe['Genres'].str.replace('Film-Noir','Noir')\n",
    "# train_dataframe['Genres'] = train_dataframe['Genres'].str.replace('Children\\'s','Child')\n",
    "# train_dataframe['Film_Year'] = train_dataframe['Title'].str.extract(r'(\\d{4})')\n",
    "# train_dataframe['Film_Year'] = pd.to_numeric(train_dataframe['Film_Year'], errors='coerce')\n",
    "# # create an object for TfidfVectorizer\n",
    "# tfidf_vector = TfidfVectorizer(stop_words='english')\n",
    "# # apply the object to the genres column\n",
    "# tfidf_matrix = tfidf_vector.fit_transform(train_dataframe['Genres'])"
   ],
   "id": "b5146e8ca012484b",
   "execution_count": 16,
   "outputs": []
  },
  {
   "metadata": {
    "ExecuteTime": {
     "end_time": "2024-06-16T19:22:49.874137Z",
     "start_time": "2024-06-16T19:22:49.866476Z"
    }
   },
   "cell_type": "code",
   "source": "train_dataframe.head()",
   "id": "f83764a08d42bc1e",
   "execution_count": 19,
   "outputs": []
  },
  {
   "metadata": {
    "ExecuteTime": {
     "end_time": "2024-06-15T17:45:13.074130Z",
     "start_time": "2024-06-15T17:45:13.069846Z"
    }
   },
   "cell_type": "code",
   "source": [
    "# sparse_years = sparse.csr_matrix(np.array((train_dataframe['Film_Year'] - np.mean(train_dataframe['Film_Year']) / np.std(train_dataframe['Film_Year'])))).T\n",
    "\n",
    "# tfidf_matrix = sparse.hstack([tfidf_matrix, sparse_years])\n",
    "print(\"Data:\", type(tfidf_matrix))"
   ],
   "id": "6d0cf0fa320f3550",
   "execution_count": 164,
   "outputs": []
  },
  {
   "metadata": {
    "ExecuteTime": {
     "end_time": "2024-06-15T17:45:13.423268Z",
     "start_time": "2024-06-15T17:45:13.421531Z"
    }
   },
   "cell_type": "code",
   "source": "tfidf_matrix.a = 0\n",
   "id": "7520c0e0bd9fa34",
   "execution_count": 165,
   "outputs": []
  },
  {
   "metadata": {
    "ExecuteTime": {
     "end_time": "2024-06-15T17:45:13.913386Z",
     "start_time": "2024-06-15T17:45:13.910662Z"
    }
   },
   "cell_type": "code",
   "source": "tfidf_matrix.shape",
   "id": "378ae828081355a3",
   "execution_count": 166,
   "outputs": []
  },
  {
   "metadata": {
    "ExecuteTime": {
     "end_time": "2024-06-15T17:42:45.117377Z",
     "start_time": "2024-06-15T17:42:45.114463Z"
    }
   },
   "cell_type": "code",
   "source": "print(list(enumerate(tfidf_vector.get_feature_names_out())))\n",
   "id": "1b184acf27cef517",
   "execution_count": 152,
   "outputs": []
  },
  {
   "metadata": {
    "ExecuteTime": {
     "end_time": "2024-06-15T17:45:18.139068Z",
     "start_time": "2024-06-15T17:45:18.136773Z"
    }
   },
   "cell_type": "code",
   "source": "tfidf_vector = TfidfVectorizer(stop_words='english')\n",
   "id": "e77e9492fa951a60",
   "execution_count": 168,
   "outputs": []
  },
  {
   "metadata": {
    "ExecuteTime": {
     "end_time": "2024-06-15T17:45:18.610192Z",
     "start_time": "2024-06-15T17:45:18.451286Z"
    }
   },
   "cell_type": "code",
   "source": [
    "from sklearn.metrics.pairwise import linear_kernel\n",
    "\n",
    "sim_matrix = linear_kernel(tfidf_matrix, tfidf_matrix)"
   ],
   "id": "b75648d39a067ecb",
   "execution_count": 169,
   "outputs": []
  },
  {
   "metadata": {
    "ExecuteTime": {
     "end_time": "2024-06-15T17:45:19.005410Z",
     "start_time": "2024-06-15T17:45:19.002939Z"
    }
   },
   "cell_type": "code",
   "source": "print(sim_matrix)",
   "id": "8285eb8f29bc1846",
   "execution_count": 170,
   "outputs": []
  },
  {
   "metadata": {
    "ExecuteTime": {
     "end_time": "2024-06-15T17:45:20.662922Z",
     "start_time": "2024-06-15T17:45:20.659591Z"
    }
   },
   "cell_type": "code",
   "source": "type(sim_matrix)",
   "id": "b6a2e55ef24bbf0a",
   "execution_count": 171,
   "outputs": []
  },
  {
   "metadata": {
    "ExecuteTime": {
     "end_time": "2024-06-15T17:45:20.884474Z",
     "start_time": "2024-06-15T17:45:20.880275Z"
    }
   },
   "cell_type": "code",
   "source": "sim_matrix.shape",
   "id": "51334c87447bbdec",
   "execution_count": 172,
   "outputs": []
  },
  {
   "metadata": {
    "ExecuteTime": {
     "end_time": "2024-06-15T17:45:21.202205Z",
     "start_time": "2024-06-15T17:45:21.198676Z"
    }
   },
   "cell_type": "code",
   "source": [
    "def similar_movies(movie_index, n_neighbours=10):\n",
    "    film_similarities = sim_matrix[movie_index]\n",
    "    print(f\"Let's try to find similar movies to film: {train_dataframe.iloc[movie_index]['Title']}, {train_dataframe.iloc[movie_index]['Genres']}\")\n",
    "    inxex_of_similarties = film_similarities.argsort()[::-1][:n_neighbours]\n",
    "    for i in inxex_of_similarties: \n",
    "        print(f\"Movie with Id: {i}, Title: {train_dataframe.iloc[i]['Title']}, Genres: {train_dataframe.iloc[i]['Genres']} \")\n",
    "    \n",
    "    return inxex_of_similarties\n",
    "    "
   ],
   "id": "e58236700ecd63d8",
   "execution_count": 173,
   "outputs": []
  },
  {
   "metadata": {
    "ExecuteTime": {
     "end_time": "2024-06-15T17:45:24.050134Z",
     "start_time": "2024-06-15T17:45:24.044345Z"
    }
   },
   "cell_type": "code",
   "source": "similar_movies(20)",
   "id": "bc2d71e84e7c84be",
   "execution_count": 175,
   "outputs": []
  },
  {
   "metadata": {},
   "cell_type": "code",
   "execution_count": null,
   "source": "",
   "id": "ad8b00013d3701e9",
   "outputs": []
  }
 ],
 "metadata": {
  "kernelspec": {
   "display_name": "Python 3",
   "language": "python",
   "name": "python3"
  },
  "language_info": {
   "codemirror_mode": {
    "name": "ipython",
    "version": 2
   },
   "file_extension": ".py",
   "mimetype": "text/x-python",
   "name": "python",
   "nbconvert_exporter": "python",
   "pygments_lexer": "ipython2",
   "version": "2.7.6"
  }
 },
 "nbformat": 4,
 "nbformat_minor": 5
}
