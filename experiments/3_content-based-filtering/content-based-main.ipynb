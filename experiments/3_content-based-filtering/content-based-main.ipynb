{
 "cells": [
  {
   "cell_type": "code",
   "id": "initial_id",
   "metadata": {
    "collapsed": true,
    "ExecuteTime": {
     "end_time": "2024-06-16T19:20:57.265085Z",
     "start_time": "2024-06-16T19:20:56.744557Z"
    }
   },
   "source": [
    "import pandas as pd\n",
    "import numpy as np\n",
    "import warnings\n",
    "from src.models import ContentBasedModel\n",
    "from src.utils import read_pickles\n",
    "\n",
    "warnings.filterwarnings('ignore', category=pd.errors.ParserWarning)"
   ],
   "outputs": [],
   "execution_count": 1
  },
  {
   "metadata": {},
   "cell_type": "markdown",
   "source": "## Data Extraction\n",
   "id": "a5f91689a858125"
  },
  {
   "metadata": {
    "ExecuteTime": {
     "end_time": "2024-06-16T19:25:04.345817Z",
     "start_time": "2024-06-16T19:25:04.338974Z"
    }
   },
   "cell_type": "code",
   "source": [
    "path_to_folder=\"../../data/ml-1m/\"\n",
    "df_movies = pd.read_csv(path_to_folder+\"movies.dat\", header=None, sep=\"::\")\n",
    "df_movies.columns = [\"MovieID\", \"Title\", \"Genres\"]"
   ],
   "id": "ffc72d8ccd31ef72",
   "outputs": [],
   "execution_count": 5
  },
  {
   "metadata": {
    "ExecuteTime": {
     "end_time": "2024-06-16T19:25:46.909998Z",
     "start_time": "2024-06-16T19:25:46.863724Z"
    }
   },
   "cell_type": "code",
   "source": [
    "model = ContentBasedModel(num_of_movies_to_recommend=15)\n",
    "model.fit(df_movies=df_movies)"
   ],
   "id": "9c847c6ca81cd425",
   "outputs": [],
   "execution_count": 9
  },
  {
   "metadata": {
    "ExecuteTime": {
     "end_time": "2024-06-16T19:25:47.251840Z",
     "start_time": "2024-06-16T19:25:47.248595Z"
    }
   },
   "cell_type": "code",
   "source": "model.predict(movie_id=100)",
   "id": "23b2b0da4ac0b245",
   "outputs": [
    {
     "name": "stdout",
     "output_type": "stream",
     "text": [
      "Let's try to find similar movies to film: Mr. Wrong (1996), Comedy\n",
      "Movie with Id: 2180, Title: My Blue Heaven (1990), Genres: Comedy \n",
      "Movie with Id: 3292, Title: Bull Durham (1988), Genres: Comedy \n",
      "Movie with Id: 441, Title: Fatal Instinct (1993), Genres: Comedy \n",
      "Movie with Id: 2226, Title: Impostors, The (1998), Genres: Comedy \n",
      "Movie with Id: 3240, Title: Dog's Life, A (1920), Genres: Comedy \n",
      "Movie with Id: 3237, Title: Circus, The (1928), Genres: Comedy \n",
      "Movie with Id: 2227, Title: Night at the Roxbury, A (1998), Genres: Comedy \n",
      "Movie with Id: 445, Title: Fear of a Black Hat (1993), Genres: Comedy \n",
      "Movie with Id: 3233, Title: Beautiful People (1999), Genres: Comedy \n",
      "Movie with Id: 2230, Title: Battle of the Sexes, The (1959), Genres: Comedy \n",
      "Movie with Id: 449, Title: For Love or Money (1993), Genres: Comedy \n",
      "Movie with Id: 2232, Title: History of the World: Part I (1981), Genres: Comedy \n",
      "Movie with Id: 2233, Title: My Cousin Vinny (1992), Genres: Comedy \n",
      "Movie with Id: 2237, Title: Holy Man (1998), Genres: Comedy \n",
      "Movie with Id: 3221, Title: Soft Toilet Seats (1999), Genres: Comedy \n"
     ]
    },
    {
     "data": {
      "text/plain": [
       "array([2180, 3292,  441, 2226, 3240, 3237, 2227,  445, 3233, 2230,  449,\n",
       "       2232, 2233, 2237, 3221])"
      ]
     },
     "execution_count": 10,
     "metadata": {},
     "output_type": "execute_result"
    }
   ],
   "execution_count": 10
  }
 ],
 "metadata": {
  "kernelspec": {
   "display_name": "Python 3",
   "language": "python",
   "name": "python3"
  },
  "language_info": {
   "codemirror_mode": {
    "name": "ipython",
    "version": 2
   },
   "file_extension": ".py",
   "mimetype": "text/x-python",
   "name": "python",
   "nbconvert_exporter": "python",
   "pygments_lexer": "ipython2",
   "version": "2.7.6"
  }
 },
 "nbformat": 4,
 "nbformat_minor": 5
}
