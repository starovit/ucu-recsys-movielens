{
 "cells": [
  {
   "cell_type": "code",
   "id": "initial_id",
   "metadata": {
    "collapsed": true,
    "ExecuteTime": {
     "end_time": "2024-06-16T19:20:57.265085Z",
     "start_time": "2024-06-16T19:20:56.744557Z"
    }
   },
   "source": [
    "import pandas as pd\n",
    "import numpy as np\n",
    "import warnings\n",
    "from src.models import ContentBasedModel\n",
    "from src.utils import read_pickles\n",
    "\n",
    "warnings.filterwarnings('ignore', category=pd.errors.ParserWarning)"
   ],
   "execution_count": 1,
   "outputs": []
  },
  {
   "metadata": {},
   "cell_type": "markdown",
   "source": "## Data Extraction\n",
   "id": "a5f91689a858125"
  },
  {
   "metadata": {
    "ExecuteTime": {
     "end_time": "2024-06-16T19:25:04.345817Z",
     "start_time": "2024-06-16T19:25:04.338974Z"
    }
   },
   "cell_type": "code",
   "source": [
    "path_to_folder=\"../../data/ml-1m/\"\n",
    "df_movies = pd.read_csv(path_to_folder+\"movies.dat\", header=None, sep=\"::\")\n",
    "df_movies.columns = [\"MovieID\", \"Title\", \"Genres\"]"
   ],
   "id": "ffc72d8ccd31ef72",
   "execution_count": 5,
   "outputs": []
  },
  {
   "metadata": {
    "ExecuteTime": {
     "end_time": "2024-06-16T19:25:46.909998Z",
     "start_time": "2024-06-16T19:25:46.863724Z"
    }
   },
   "cell_type": "code",
   "source": [
    "model = ContentBasedModel(num_of_movies_to_recommend=15)\n",
    "model.fit(df_movies=df_movies)"
   ],
   "id": "9c847c6ca81cd425",
   "execution_count": 9,
   "outputs": []
  },
  {
   "metadata": {
    "ExecuteTime": {
     "end_time": "2024-06-16T19:25:47.251840Z",
     "start_time": "2024-06-16T19:25:47.248595Z"
    }
   },
   "cell_type": "code",
   "source": "model.predict(movie_id=100)",
   "id": "23b2b0da4ac0b245",
   "execution_count": 10,
   "outputs": []
  }
 ],
 "metadata": {
  "kernelspec": {
   "display_name": "Python 3",
   "language": "python",
   "name": "python3"
  },
  "language_info": {
   "codemirror_mode": {
    "name": "ipython",
    "version": 2
   },
   "file_extension": ".py",
   "mimetype": "text/x-python",
   "name": "python",
   "nbconvert_exporter": "python",
   "pygments_lexer": "ipython2",
   "version": "2.7.6"
  }
 },
 "nbformat": 4,
 "nbformat_minor": 5
}
