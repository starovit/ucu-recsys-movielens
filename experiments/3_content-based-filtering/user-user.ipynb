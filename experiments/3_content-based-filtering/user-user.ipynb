{
 "cells": [
  {
   "cell_type": "code",
   "metadata": {
    "ExecuteTime": {
     "end_time": "2024-06-16T19:12:33.406114Z",
     "start_time": "2024-06-16T19:12:33.237198Z"
    }
   },
   "source": [
    "import numpy as np\n",
    "import pandas as pd"
   ],
   "outputs": [],
   "execution_count": 1
  },
  {
   "cell_type": "code",
   "metadata": {
    "ExecuteTime": {
     "end_time": "2024-06-16T19:12:33.509328Z",
     "start_time": "2024-06-16T19:12:33.504473Z"
    }
   },
   "source": "from src.utils import cosine_similarity, read_pickles",
   "outputs": [],
   "execution_count": 2
  },
  {
   "cell_type": "code",
   "metadata": {
    "ExecuteTime": {
     "end_time": "2024-06-16T19:12:33.668460Z",
     "start_time": "2024-06-16T19:12:33.596122Z"
    }
   },
   "source": "df_movies, df_users, df_ratings = read_pickles(\"../../data/ml-1m/\")",
   "outputs": [
    {
     "ename": "TypeError",
     "evalue": "read_pickles() missing 1 required positional argument: 'path_to_folder'",
     "output_type": "error",
     "traceback": [
      "\u001B[0;31m---------------------------------------------------------------------------\u001B[0m",
      "\u001B[0;31mTypeError\u001B[0m                                 Traceback (most recent call last)",
      "Cell \u001B[0;32mIn[3], line 1\u001B[0m\n\u001B[0;32m----> 1\u001B[0m df_movies, df_users, df_ratings \u001B[38;5;241m=\u001B[39m \u001B[43mread_pickles\u001B[49m\u001B[43m(\u001B[49m\u001B[43m)\u001B[49m\n",
      "\u001B[0;31mTypeError\u001B[0m: read_pickles() missing 1 required positional argument: 'path_to_folder'"
     ]
    }
   ],
   "execution_count": 3
  },
  {
   "cell_type": "code",
   "metadata": {
    "ExecuteTime": {
     "end_time": "2024-06-16T19:12:33.831673Z",
     "start_time": "2024-06-16T19:12:33.820540Z"
    }
   },
   "source": [
    "def train_test_split(df, split_date):\n",
    "    train = df[df[\"Date\"] < split_date][[\"UserID\", \"MovieID\", \"Rating\"]]\n",
    "    test = df[df[\"Date\"] >= split_date][[\"UserID\", \"MovieID\", \"Rating\"]]\n",
    "    return train, test\n",
    "\n",
    "split_date = pd.to_datetime(\"2000-12-02\").date()\n",
    "train, test = train_test_split(df_ratings, split_date)\n",
    "print(f\"Train shape: {train.shape}\")\n",
    "print(f\"Test shape: {test.shape}\")"
   ],
   "outputs": [
    {
     "ename": "NameError",
     "evalue": "name 'df_ratings' is not defined",
     "output_type": "error",
     "traceback": [
      "\u001B[0;31m---------------------------------------------------------------------------\u001B[0m",
      "\u001B[0;31mNameError\u001B[0m                                 Traceback (most recent call last)",
      "Cell \u001B[0;32mIn[4], line 7\u001B[0m\n\u001B[1;32m      4\u001B[0m     \u001B[38;5;28;01mreturn\u001B[39;00m train, test\n\u001B[1;32m      6\u001B[0m split_date \u001B[38;5;241m=\u001B[39m pd\u001B[38;5;241m.\u001B[39mto_datetime(\u001B[38;5;124m\"\u001B[39m\u001B[38;5;124m2000-12-02\u001B[39m\u001B[38;5;124m\"\u001B[39m)\u001B[38;5;241m.\u001B[39mdate()\n\u001B[0;32m----> 7\u001B[0m train, test \u001B[38;5;241m=\u001B[39m train_test_split(\u001B[43mdf_ratings\u001B[49m, split_date)\n\u001B[1;32m      8\u001B[0m \u001B[38;5;28mprint\u001B[39m(\u001B[38;5;124mf\u001B[39m\u001B[38;5;124m\"\u001B[39m\u001B[38;5;124mTrain shape: \u001B[39m\u001B[38;5;132;01m{\u001B[39;00mtrain\u001B[38;5;241m.\u001B[39mshape\u001B[38;5;132;01m}\u001B[39;00m\u001B[38;5;124m\"\u001B[39m)\n\u001B[1;32m      9\u001B[0m \u001B[38;5;28mprint\u001B[39m(\u001B[38;5;124mf\u001B[39m\u001B[38;5;124m\"\u001B[39m\u001B[38;5;124mTest shape: \u001B[39m\u001B[38;5;132;01m{\u001B[39;00mtest\u001B[38;5;241m.\u001B[39mshape\u001B[38;5;132;01m}\u001B[39;00m\u001B[38;5;124m\"\u001B[39m)\n",
      "\u001B[0;31mNameError\u001B[0m: name 'df_ratings' is not defined"
     ]
    }
   ],
   "execution_count": 4
  },
  {
   "cell_type": "markdown",
   "metadata": {
    "ExecuteTime": {
     "end_time": "2024-06-16T19:12:34.136614Z",
     "start_time": "2024-06-16T19:12:34.125559Z"
    }
   },
   "source": [
    "### User-User"
   ]
  },
  {
   "cell_type": "code",
   "metadata": {
    "ExecuteTime": {
     "end_time": "2024-06-16T14:38:40.532724Z",
     "start_time": "2024-06-16T14:38:40.160453Z"
    }
   },
   "source": [
    "from sklearn.metrics.pairwise import cosine_similarity"
   ],
   "outputs": [],
   "execution_count": 11
  },
  {
   "cell_type": "code",
   "metadata": {
    "ExecuteTime": {
     "end_time": "2024-06-16T14:38:40.555426Z",
     "start_time": "2024-06-16T14:38:40.533505Z"
    }
   },
   "source": [
    "test = test[test[\"UserID\"].isin(train[\"UserID\"])]\n",
    "test = test[test[\"MovieID\"].isin(train[\"MovieID\"])]\n",
    "print(f\"Test shape after deleting 'cold-start' users: {test.shape}\")"
   ],
   "outputs": [
    {
     "ename": "NameError",
     "evalue": "name 'test' is not defined",
     "output_type": "error",
     "traceback": [
      "\u001B[0;31m---------------------------------------------------------------------------\u001B[0m",
      "\u001B[0;31mNameError\u001B[0m                                 Traceback (most recent call last)",
      "Cell \u001B[0;32mIn[12], line 1\u001B[0m\n\u001B[0;32m----> 1\u001B[0m test \u001B[38;5;241m=\u001B[39m \u001B[43mtest\u001B[49m[test[\u001B[38;5;124m\"\u001B[39m\u001B[38;5;124mUserID\u001B[39m\u001B[38;5;124m\"\u001B[39m]\u001B[38;5;241m.\u001B[39misin(train[\u001B[38;5;124m\"\u001B[39m\u001B[38;5;124mUserID\u001B[39m\u001B[38;5;124m\"\u001B[39m])]\n\u001B[1;32m      2\u001B[0m test \u001B[38;5;241m=\u001B[39m test[test[\u001B[38;5;124m\"\u001B[39m\u001B[38;5;124mMovieID\u001B[39m\u001B[38;5;124m\"\u001B[39m]\u001B[38;5;241m.\u001B[39misin(train[\u001B[38;5;124m\"\u001B[39m\u001B[38;5;124mMovieID\u001B[39m\u001B[38;5;124m\"\u001B[39m])]\n\u001B[1;32m      3\u001B[0m \u001B[38;5;28mprint\u001B[39m(\u001B[38;5;124mf\u001B[39m\u001B[38;5;124m\"\u001B[39m\u001B[38;5;124mTest shape after deleting \u001B[39m\u001B[38;5;124m'\u001B[39m\u001B[38;5;124mcold-start\u001B[39m\u001B[38;5;124m'\u001B[39m\u001B[38;5;124m users: \u001B[39m\u001B[38;5;132;01m{\u001B[39;00mtest\u001B[38;5;241m.\u001B[39mshape\u001B[38;5;132;01m}\u001B[39;00m\u001B[38;5;124m\"\u001B[39m)\n",
      "\u001B[0;31mNameError\u001B[0m: name 'test' is not defined"
     ]
    }
   ],
   "execution_count": 12
  },
  {
   "cell_type": "code",
   "metadata": {
    "ExecuteTime": {
     "end_time": "2024-06-16T14:38:40.958630Z",
     "start_time": "2024-06-16T14:38:40.946883Z"
    }
   },
   "source": [
    "rating_matrix = train.pivot_table(index='UserID', columns='MovieID',\\\n",
    "                                  values='Rating', fill_value=0)\n",
    "rating_matrix.head(3)"
   ],
   "outputs": [
    {
     "ename": "NameError",
     "evalue": "name 'train' is not defined",
     "output_type": "error",
     "traceback": [
      "\u001B[0;31m---------------------------------------------------------------------------\u001B[0m",
      "\u001B[0;31mNameError\u001B[0m                                 Traceback (most recent call last)",
      "Cell \u001B[0;32mIn[13], line 1\u001B[0m\n\u001B[0;32m----> 1\u001B[0m rating_matrix \u001B[38;5;241m=\u001B[39m \u001B[43mtrain\u001B[49m\u001B[38;5;241m.\u001B[39mpivot_table(index\u001B[38;5;241m=\u001B[39m\u001B[38;5;124m'\u001B[39m\u001B[38;5;124mUserID\u001B[39m\u001B[38;5;124m'\u001B[39m, columns\u001B[38;5;241m=\u001B[39m\u001B[38;5;124m'\u001B[39m\u001B[38;5;124mMovieID\u001B[39m\u001B[38;5;124m'\u001B[39m,\\\n\u001B[1;32m      2\u001B[0m                                   values\u001B[38;5;241m=\u001B[39m\u001B[38;5;124m'\u001B[39m\u001B[38;5;124mRating\u001B[39m\u001B[38;5;124m'\u001B[39m, fill_value\u001B[38;5;241m=\u001B[39m\u001B[38;5;241m0\u001B[39m)\n\u001B[1;32m      3\u001B[0m rating_matrix\u001B[38;5;241m.\u001B[39mhead(\u001B[38;5;241m3\u001B[39m)\n",
      "\u001B[0;31mNameError\u001B[0m: name 'train' is not defined"
     ]
    }
   ],
   "execution_count": 13
  },
  {
   "cell_type": "code",
   "metadata": {
    "ExecuteTime": {
     "end_time": "2024-06-16T14:38:41.118810Z",
     "start_time": "2024-06-16T14:38:41.106995Z"
    }
   },
   "source": [
    "user_similarity = cosine_similarity(rating_matrix)\n",
    "user_similarity_df = pd.DataFrame(user_similarity, index=rating_matrix.index,\n",
    "                                  columns=rating_matrix.index)"
   ],
   "outputs": [
    {
     "ename": "NameError",
     "evalue": "name 'rating_matrix' is not defined",
     "output_type": "error",
     "traceback": [
      "\u001B[0;31m---------------------------------------------------------------------------\u001B[0m",
      "\u001B[0;31mNameError\u001B[0m                                 Traceback (most recent call last)",
      "Cell \u001B[0;32mIn[14], line 1\u001B[0m\n\u001B[0;32m----> 1\u001B[0m user_similarity \u001B[38;5;241m=\u001B[39m cosine_similarity(\u001B[43mrating_matrix\u001B[49m)\n\u001B[1;32m      2\u001B[0m user_similarity_df \u001B[38;5;241m=\u001B[39m pd\u001B[38;5;241m.\u001B[39mDataFrame(user_similarity, index\u001B[38;5;241m=\u001B[39mrating_matrix\u001B[38;5;241m.\u001B[39mindex,\n\u001B[1;32m      3\u001B[0m                                   columns\u001B[38;5;241m=\u001B[39mrating_matrix\u001B[38;5;241m.\u001B[39mindex)\n",
      "\u001B[0;31mNameError\u001B[0m: name 'rating_matrix' is not defined"
     ]
    }
   ],
   "execution_count": 14
  },
  {
   "cell_type": "code",
   "metadata": {
    "ExecuteTime": {
     "end_time": "2024-06-16T14:38:41.266453Z",
     "start_time": "2024-06-16T14:38:41.255202Z"
    }
   },
   "source": [
    "top_n = 30\n",
    "neighbors_dict = {}\n",
    "\n",
    "for i in range(user_similarity_df.shape[0]):\n",
    "    row = user_similarity_df.iloc[i]\n",
    "    user = row.index[i]\n",
    "    row = row[row.index != user]\n",
    "    neighbors = list(np.argsort(row)[::-1][:top_n])\n",
    "    neighbors_dict[user] = neighbors"
   ],
   "outputs": [
    {
     "ename": "NameError",
     "evalue": "name 'user_similarity_df' is not defined",
     "output_type": "error",
     "traceback": [
      "\u001B[0;31m---------------------------------------------------------------------------\u001B[0m",
      "\u001B[0;31mNameError\u001B[0m                                 Traceback (most recent call last)",
      "Cell \u001B[0;32mIn[15], line 4\u001B[0m\n\u001B[1;32m      1\u001B[0m top_n \u001B[38;5;241m=\u001B[39m \u001B[38;5;241m30\u001B[39m\n\u001B[1;32m      2\u001B[0m neighbors_dict \u001B[38;5;241m=\u001B[39m {}\n\u001B[0;32m----> 4\u001B[0m \u001B[38;5;28;01mfor\u001B[39;00m i \u001B[38;5;129;01min\u001B[39;00m \u001B[38;5;28mrange\u001B[39m(\u001B[43muser_similarity_df\u001B[49m\u001B[38;5;241m.\u001B[39mshape[\u001B[38;5;241m0\u001B[39m]):\n\u001B[1;32m      5\u001B[0m     row \u001B[38;5;241m=\u001B[39m user_similarity_df\u001B[38;5;241m.\u001B[39miloc[i]\n\u001B[1;32m      6\u001B[0m     user \u001B[38;5;241m=\u001B[39m row\u001B[38;5;241m.\u001B[39mindex[i]\n",
      "\u001B[0;31mNameError\u001B[0m: name 'user_similarity_df' is not defined"
     ]
    }
   ],
   "execution_count": 15
  },
  {
   "cell_type": "code",
   "metadata": {
    "ExecuteTime": {
     "end_time": "2024-06-16T14:38:41.524379Z",
     "start_time": "2024-06-16T14:38:41.510531Z"
    }
   },
   "source": [
    "X_test = test[[\"UserID\", \"MovieID\"]]\n",
    "y_test = test[\"Rating\"]\n",
    "\n",
    "predict = []\n",
    "for _, row in X_test.iterrows():\n",
    "    user = row[\"UserID\"]\n",
    "    movie = row[\"MovieID\"]\n",
    "    user_neighbors = neighbors_dict[user]\n",
    "    filtered_df = rating_matrix[rating_matrix.index.isin(neighbors)]\n",
    "    filtered_df = filtered_df.loc[:, movie]\n",
    "    pred = filtered_df[filtered_df != 0].mean()\n",
    "    predict.append(pred)"
   ],
   "outputs": [
    {
     "ename": "NameError",
     "evalue": "name 'test' is not defined",
     "output_type": "error",
     "traceback": [
      "\u001B[0;31m---------------------------------------------------------------------------\u001B[0m",
      "\u001B[0;31mNameError\u001B[0m                                 Traceback (most recent call last)",
      "Cell \u001B[0;32mIn[16], line 1\u001B[0m\n\u001B[0;32m----> 1\u001B[0m X_test \u001B[38;5;241m=\u001B[39m \u001B[43mtest\u001B[49m[[\u001B[38;5;124m\"\u001B[39m\u001B[38;5;124mUserID\u001B[39m\u001B[38;5;124m\"\u001B[39m, \u001B[38;5;124m\"\u001B[39m\u001B[38;5;124mMovieID\u001B[39m\u001B[38;5;124m\"\u001B[39m]]\n\u001B[1;32m      2\u001B[0m y_test \u001B[38;5;241m=\u001B[39m test[\u001B[38;5;124m\"\u001B[39m\u001B[38;5;124mRating\u001B[39m\u001B[38;5;124m\"\u001B[39m]\n\u001B[1;32m      4\u001B[0m predict \u001B[38;5;241m=\u001B[39m []\n",
      "\u001B[0;31mNameError\u001B[0m: name 'test' is not defined"
     ]
    }
   ],
   "execution_count": 16
  },
  {
   "cell_type": "code",
   "metadata": {
    "ExecuteTime": {
     "end_time": "2024-06-16T14:38:41.669875Z",
     "start_time": "2024-06-16T14:38:41.660231Z"
    }
   },
   "source": [
    "predict_scores = np.array(predict)\n",
    "true_scores = np.array(y_test)"
   ],
   "outputs": [
    {
     "ename": "NameError",
     "evalue": "name 'predict' is not defined",
     "output_type": "error",
     "traceback": [
      "\u001B[0;31m---------------------------------------------------------------------------\u001B[0m",
      "\u001B[0;31mNameError\u001B[0m                                 Traceback (most recent call last)",
      "Cell \u001B[0;32mIn[17], line 1\u001B[0m\n\u001B[0;32m----> 1\u001B[0m predict_scores \u001B[38;5;241m=\u001B[39m np\u001B[38;5;241m.\u001B[39marray(\u001B[43mpredict\u001B[49m)\n\u001B[1;32m      2\u001B[0m true_scores \u001B[38;5;241m=\u001B[39m np\u001B[38;5;241m.\u001B[39marray(y_test)\n",
      "\u001B[0;31mNameError\u001B[0m: name 'predict' is not defined"
     ]
    }
   ],
   "execution_count": 17
  },
  {
   "cell_type": "code",
   "metadata": {
    "ExecuteTime": {
     "end_time": "2024-06-16T14:38:41.905539Z",
     "start_time": "2024-06-16T14:38:41.901203Z"
    }
   },
   "source": [
    "from sklearn.metrics import mean_absolute_error, mean_squared_error\n",
    "from sklearn.metrics import precision_score, recall_score\n",
    "\n",
    "def apply_ml_metrics(true_scores, predict_scores, threshold=4):\n",
    "    indexes =~np.isnan(predict_scores)\n",
    "    true_scores = true_scores[indexes]\n",
    "    predict_scores = predict_scores[indexes]\n",
    "\n",
    "    true_scores_cat = (true_scores >= threshold).astype(int)\n",
    "    predict_scores_cat = (predict_scores >= threshold).astype(int)\n",
    "    \n",
    "    mae = mean_absolute_error(true_scores, predict_scores)\n",
    "    rmse = np.sqrt(mean_squared_error(true_scores, predict_scores))\n",
    "    precision = precision_score(true_scores_cat, predict_scores_cat)\n",
    "    recall = recall_score(true_scores_cat, predict_scores_cat)\n",
    "\n",
    "    return {\"mae\": round(mae, 3),\n",
    "            \"rmse\": round(rmse, 3),\n",
    "            \"precision\": round(precision, 3),\n",
    "            \"recall\": round(recall, 3)}"
   ],
   "outputs": [],
   "execution_count": 18
  },
  {
   "cell_type": "code",
   "metadata": {
    "ExecuteTime": {
     "end_time": "2024-06-16T14:38:42.413239Z",
     "start_time": "2024-06-16T14:38:42.400641Z"
    }
   },
   "source": [
    "true_scores[~np.isnan(predict_scores)].shape"
   ],
   "outputs": [
    {
     "ename": "NameError",
     "evalue": "name 'true_scores' is not defined",
     "output_type": "error",
     "traceback": [
      "\u001B[0;31m---------------------------------------------------------------------------\u001B[0m",
      "\u001B[0;31mNameError\u001B[0m                                 Traceback (most recent call last)",
      "Cell \u001B[0;32mIn[19], line 1\u001B[0m\n\u001B[0;32m----> 1\u001B[0m \u001B[43mtrue_scores\u001B[49m[\u001B[38;5;241m~\u001B[39mnp\u001B[38;5;241m.\u001B[39misnan(predict_scores)]\u001B[38;5;241m.\u001B[39mshape\n",
      "\u001B[0;31mNameError\u001B[0m: name 'true_scores' is not defined"
     ]
    }
   ],
   "execution_count": 19
  },
  {
   "cell_type": "code",
   "metadata": {
    "ExecuteTime": {
     "end_time": "2024-06-16T14:38:42.828931Z",
     "start_time": "2024-06-16T14:38:42.818876Z"
    }
   },
   "source": [
    "apply_ml_metrics(true_scores, predict_scores)"
   ],
   "outputs": [
    {
     "ename": "NameError",
     "evalue": "name 'true_scores' is not defined",
     "output_type": "error",
     "traceback": [
      "\u001B[0;31m---------------------------------------------------------------------------\u001B[0m",
      "\u001B[0;31mNameError\u001B[0m                                 Traceback (most recent call last)",
      "Cell \u001B[0;32mIn[20], line 1\u001B[0m\n\u001B[0;32m----> 1\u001B[0m apply_ml_metrics(\u001B[43mtrue_scores\u001B[49m, predict_scores)\n",
      "\u001B[0;31mNameError\u001B[0m: name 'true_scores' is not defined"
     ]
    }
   ],
   "execution_count": 20
  },
  {
   "metadata": {},
   "cell_type": "code",
   "outputs": [],
   "execution_count": null,
   "source": ""
  }
 ],
 "metadata": {
  "kernelspec": {
   "display_name": "ucu-recsys",
   "language": "python",
   "name": "python3"
  },
  "language_info": {
   "codemirror_mode": {
    "name": "ipython",
    "version": 3
   },
   "file_extension": ".py",
   "mimetype": "text/x-python",
   "name": "python",
   "nbconvert_exporter": "python",
   "pygments_lexer": "ipython3",
   "version": "3.11.8"
  }
 },
 "nbformat": 4,
 "nbformat_minor": 2
}
