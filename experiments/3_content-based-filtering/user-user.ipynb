{
 "cells": [
  {
   "cell_type": "code",
   "metadata": {
    "ExecuteTime": {
     "end_time": "2024-06-16T14:44:39.329867Z",
     "start_time": "2024-06-16T14:44:39.328310Z"
    }
   },
   "source": [
    "import numpy as np\n",
    "import pandas as pd"
   ],
   "outputs": [],
   "execution_count": 24
  },
  {
   "cell_type": "code",
   "metadata": {
    "ExecuteTime": {
     "end_time": "2024-06-16T14:44:39.459643Z",
     "start_time": "2024-06-16T14:44:39.457946Z"
    }
   },
   "source": "from src.utils import cosine_similarity, read_pickles",
   "outputs": [],
   "execution_count": 25
  },
  {
   "cell_type": "code",
   "metadata": {
    "ExecuteTime": {
     "end_time": "2024-06-16T14:44:47.618140Z",
     "start_time": "2024-06-16T14:44:47.555529Z"
    }
   },
   "source": "df_movies, df_users, df_ratings = read_pickles(\"../../data/ml-1m/\")",
   "outputs": [
    {
     "ename": "FileNotFoundError",
     "evalue": "[Errno 2] No such file or directory: '../../data/ml-1m/movies.pickle'",
     "output_type": "error",
     "traceback": [
      "\u001B[0;31m---------------------------------------------------------------------------\u001B[0m",
      "\u001B[0;31mFileNotFoundError\u001B[0m                         Traceback (most recent call last)",
      "Cell \u001B[0;32mIn[28], line 1\u001B[0m\n\u001B[0;32m----> 1\u001B[0m df_movies, df_users, df_ratings \u001B[38;5;241m=\u001B[39m \u001B[43mread_pickles\u001B[49m\u001B[43m(\u001B[49m\u001B[43m)\u001B[49m\n",
      "File \u001B[0;32m~/UCU/Recomender-Systems/ucu-recsys-movielens/src/src/src/utils.py:6\u001B[0m, in \u001B[0;36mread_pickles\u001B[0;34m(path_to_folder)\u001B[0m\n\u001B[1;32m      5\u001B[0m \u001B[38;5;28;01mdef\u001B[39;00m \u001B[38;5;21mread_pickles\u001B[39m(path_to_folder\u001B[38;5;241m=\u001B[39m\u001B[38;5;124m\"\u001B[39m\u001B[38;5;124m../../data/ml-1m/\u001B[39m\u001B[38;5;124m\"\u001B[39m):\n\u001B[0;32m----> 6\u001B[0m     df_movies \u001B[38;5;241m=\u001B[39m \u001B[43mpd\u001B[49m\u001B[38;5;241;43m.\u001B[39;49m\u001B[43mread_pickle\u001B[49m\u001B[43m(\u001B[49m\u001B[43mpath_to_folder\u001B[49m\u001B[38;5;241;43m+\u001B[39;49m\u001B[38;5;124;43m\"\u001B[39;49m\u001B[38;5;124;43mmovies.pickle\u001B[39;49m\u001B[38;5;124;43m\"\u001B[39;49m\u001B[43m)\u001B[49m\n\u001B[1;32m      7\u001B[0m     df_users \u001B[38;5;241m=\u001B[39m pd\u001B[38;5;241m.\u001B[39mread_pickle(path_to_folder\u001B[38;5;241m+\u001B[39m\u001B[38;5;124m\"\u001B[39m\u001B[38;5;124musers.pickle\u001B[39m\u001B[38;5;124m\"\u001B[39m)\n\u001B[1;32m      8\u001B[0m     df_ratings \u001B[38;5;241m=\u001B[39m pd\u001B[38;5;241m.\u001B[39mread_pickle(path_to_folder\u001B[38;5;241m+\u001B[39m\u001B[38;5;124m\"\u001B[39m\u001B[38;5;124mratings.pickle\u001B[39m\u001B[38;5;124m\"\u001B[39m)\n",
      "File \u001B[0;32m~/MLProjects/IT-jim/Test Task/.venv/lib/python3.11/site-packages/pandas/io/pickle.py:185\u001B[0m, in \u001B[0;36mread_pickle\u001B[0;34m(filepath_or_buffer, compression, storage_options)\u001B[0m\n\u001B[1;32m    123\u001B[0m \u001B[38;5;250m\u001B[39m\u001B[38;5;124;03m\"\"\"\u001B[39;00m\n\u001B[1;32m    124\u001B[0m \u001B[38;5;124;03mLoad pickled pandas object (or any object) from file.\u001B[39;00m\n\u001B[1;32m    125\u001B[0m \n\u001B[0;32m   (...)\u001B[0m\n\u001B[1;32m    182\u001B[0m \u001B[38;5;124;03m4    4    9\u001B[39;00m\n\u001B[1;32m    183\u001B[0m \u001B[38;5;124;03m\"\"\"\u001B[39;00m\n\u001B[1;32m    184\u001B[0m excs_to_catch \u001B[38;5;241m=\u001B[39m (\u001B[38;5;167;01mAttributeError\u001B[39;00m, \u001B[38;5;167;01mImportError\u001B[39;00m, \u001B[38;5;167;01mModuleNotFoundError\u001B[39;00m, \u001B[38;5;167;01mTypeError\u001B[39;00m)\n\u001B[0;32m--> 185\u001B[0m \u001B[38;5;28;01mwith\u001B[39;00m \u001B[43mget_handle\u001B[49m\u001B[43m(\u001B[49m\n\u001B[1;32m    186\u001B[0m \u001B[43m    \u001B[49m\u001B[43mfilepath_or_buffer\u001B[49m\u001B[43m,\u001B[49m\n\u001B[1;32m    187\u001B[0m \u001B[43m    \u001B[49m\u001B[38;5;124;43m\"\u001B[39;49m\u001B[38;5;124;43mrb\u001B[39;49m\u001B[38;5;124;43m\"\u001B[39;49m\u001B[43m,\u001B[49m\n\u001B[1;32m    188\u001B[0m \u001B[43m    \u001B[49m\u001B[43mcompression\u001B[49m\u001B[38;5;241;43m=\u001B[39;49m\u001B[43mcompression\u001B[49m\u001B[43m,\u001B[49m\n\u001B[1;32m    189\u001B[0m \u001B[43m    \u001B[49m\u001B[43mis_text\u001B[49m\u001B[38;5;241;43m=\u001B[39;49m\u001B[38;5;28;43;01mFalse\u001B[39;49;00m\u001B[43m,\u001B[49m\n\u001B[1;32m    190\u001B[0m \u001B[43m    \u001B[49m\u001B[43mstorage_options\u001B[49m\u001B[38;5;241;43m=\u001B[39;49m\u001B[43mstorage_options\u001B[49m\u001B[43m,\u001B[49m\n\u001B[1;32m    191\u001B[0m \u001B[43m\u001B[49m\u001B[43m)\u001B[49m \u001B[38;5;28;01mas\u001B[39;00m handles:\n\u001B[1;32m    192\u001B[0m     \u001B[38;5;66;03m# 1) try standard library Pickle\u001B[39;00m\n\u001B[1;32m    193\u001B[0m     \u001B[38;5;66;03m# 2) try pickle_compat (older pandas version) to handle subclass changes\u001B[39;00m\n\u001B[1;32m    194\u001B[0m     \u001B[38;5;66;03m# 3) try pickle_compat with latin-1 encoding upon a UnicodeDecodeError\u001B[39;00m\n\u001B[1;32m    196\u001B[0m     \u001B[38;5;28;01mtry\u001B[39;00m:\n\u001B[1;32m    197\u001B[0m         \u001B[38;5;66;03m# TypeError for Cython complaints about object.__new__ vs Tick.__new__\u001B[39;00m\n\u001B[1;32m    198\u001B[0m         \u001B[38;5;28;01mtry\u001B[39;00m:\n",
      "File \u001B[0;32m~/MLProjects/IT-jim/Test Task/.venv/lib/python3.11/site-packages/pandas/io/common.py:882\u001B[0m, in \u001B[0;36mget_handle\u001B[0;34m(path_or_buf, mode, encoding, compression, memory_map, is_text, errors, storage_options)\u001B[0m\n\u001B[1;32m    873\u001B[0m         handle \u001B[38;5;241m=\u001B[39m \u001B[38;5;28mopen\u001B[39m(\n\u001B[1;32m    874\u001B[0m             handle,\n\u001B[1;32m    875\u001B[0m             ioargs\u001B[38;5;241m.\u001B[39mmode,\n\u001B[0;32m   (...)\u001B[0m\n\u001B[1;32m    878\u001B[0m             newline\u001B[38;5;241m=\u001B[39m\u001B[38;5;124m\"\u001B[39m\u001B[38;5;124m\"\u001B[39m,\n\u001B[1;32m    879\u001B[0m         )\n\u001B[1;32m    880\u001B[0m     \u001B[38;5;28;01melse\u001B[39;00m:\n\u001B[1;32m    881\u001B[0m         \u001B[38;5;66;03m# Binary mode\u001B[39;00m\n\u001B[0;32m--> 882\u001B[0m         handle \u001B[38;5;241m=\u001B[39m \u001B[38;5;28;43mopen\u001B[39;49m\u001B[43m(\u001B[49m\u001B[43mhandle\u001B[49m\u001B[43m,\u001B[49m\u001B[43m \u001B[49m\u001B[43mioargs\u001B[49m\u001B[38;5;241;43m.\u001B[39;49m\u001B[43mmode\u001B[49m\u001B[43m)\u001B[49m\n\u001B[1;32m    883\u001B[0m     handles\u001B[38;5;241m.\u001B[39mappend(handle)\n\u001B[1;32m    885\u001B[0m \u001B[38;5;66;03m# Convert BytesIO or file objects passed with an encoding\u001B[39;00m\n",
      "\u001B[0;31mFileNotFoundError\u001B[0m: [Errno 2] No such file or directory: '../../data/ml-1m/movies.pickle'"
     ]
    }
   ],
   "execution_count": 28
  },
  {
   "cell_type": "code",
   "metadata": {
    "ExecuteTime": {
     "end_time": "2024-06-16T14:44:39.925530Z",
     "start_time": "2024-06-16T14:44:39.913140Z"
    }
   },
   "source": [
    "def train_test_split(df, split_date):\n",
    "    train = df[df[\"Date\"] < split_date][[\"UserID\", \"MovieID\", \"Rating\"]]\n",
    "    test = df[df[\"Date\"] >= split_date][[\"UserID\", \"MovieID\", \"Rating\"]]\n",
    "    return train, test\n",
    "\n",
    "split_date = pd.to_datetime(\"2000-12-02\").date()\n",
    "train, test = train_test_split(df_ratings, split_date)\n",
    "print(f\"Train shape: {train.shape}\")\n",
    "print(f\"Test shape: {test.shape}\")"
   ],
   "outputs": [
    {
     "ename": "NameError",
     "evalue": "name 'df_ratings' is not defined",
     "output_type": "error",
     "traceback": [
      "\u001B[0;31m---------------------------------------------------------------------------\u001B[0m",
      "\u001B[0;31mNameError\u001B[0m                                 Traceback (most recent call last)",
      "Cell \u001B[0;32mIn[27], line 7\u001B[0m\n\u001B[1;32m      4\u001B[0m     \u001B[38;5;28;01mreturn\u001B[39;00m train, test\n\u001B[1;32m      6\u001B[0m split_date \u001B[38;5;241m=\u001B[39m pd\u001B[38;5;241m.\u001B[39mto_datetime(\u001B[38;5;124m\"\u001B[39m\u001B[38;5;124m2000-12-02\u001B[39m\u001B[38;5;124m\"\u001B[39m)\u001B[38;5;241m.\u001B[39mdate()\n\u001B[0;32m----> 7\u001B[0m train, test \u001B[38;5;241m=\u001B[39m train_test_split(\u001B[43mdf_ratings\u001B[49m, split_date)\n\u001B[1;32m      8\u001B[0m \u001B[38;5;28mprint\u001B[39m(\u001B[38;5;124mf\u001B[39m\u001B[38;5;124m\"\u001B[39m\u001B[38;5;124mTrain shape: \u001B[39m\u001B[38;5;132;01m{\u001B[39;00mtrain\u001B[38;5;241m.\u001B[39mshape\u001B[38;5;132;01m}\u001B[39;00m\u001B[38;5;124m\"\u001B[39m)\n\u001B[1;32m      9\u001B[0m \u001B[38;5;28mprint\u001B[39m(\u001B[38;5;124mf\u001B[39m\u001B[38;5;124m\"\u001B[39m\u001B[38;5;124mTest shape: \u001B[39m\u001B[38;5;132;01m{\u001B[39;00mtest\u001B[38;5;241m.\u001B[39mshape\u001B[38;5;132;01m}\u001B[39;00m\u001B[38;5;124m\"\u001B[39m)\n",
      "\u001B[0;31mNameError\u001B[0m: name 'df_ratings' is not defined"
     ]
    }
   ],
   "execution_count": 27
  },
  {
   "cell_type": "markdown",
   "metadata": {},
   "source": [
    "### User-User"
   ]
  },
  {
   "cell_type": "code",
   "metadata": {
    "ExecuteTime": {
     "end_time": "2024-06-16T14:38:40.532724Z",
     "start_time": "2024-06-16T14:38:40.160453Z"
    }
   },
   "source": [
    "from sklearn.metrics.pairwise import cosine_similarity"
   ],
   "outputs": [],
   "execution_count": 11
  },
  {
   "cell_type": "code",
   "metadata": {
    "ExecuteTime": {
     "end_time": "2024-06-16T14:38:40.555426Z",
     "start_time": "2024-06-16T14:38:40.533505Z"
    }
   },
   "source": [
    "test = test[test[\"UserID\"].isin(train[\"UserID\"])]\n",
    "test = test[test[\"MovieID\"].isin(train[\"MovieID\"])]\n",
    "print(f\"Test shape after deleting 'cold-start' users: {test.shape}\")"
   ],
   "outputs": [
    {
     "ename": "NameError",
     "evalue": "name 'test' is not defined",
     "output_type": "error",
     "traceback": [
      "\u001B[0;31m---------------------------------------------------------------------------\u001B[0m",
      "\u001B[0;31mNameError\u001B[0m                                 Traceback (most recent call last)",
      "Cell \u001B[0;32mIn[12], line 1\u001B[0m\n\u001B[0;32m----> 1\u001B[0m test \u001B[38;5;241m=\u001B[39m \u001B[43mtest\u001B[49m[test[\u001B[38;5;124m\"\u001B[39m\u001B[38;5;124mUserID\u001B[39m\u001B[38;5;124m\"\u001B[39m]\u001B[38;5;241m.\u001B[39misin(train[\u001B[38;5;124m\"\u001B[39m\u001B[38;5;124mUserID\u001B[39m\u001B[38;5;124m\"\u001B[39m])]\n\u001B[1;32m      2\u001B[0m test \u001B[38;5;241m=\u001B[39m test[test[\u001B[38;5;124m\"\u001B[39m\u001B[38;5;124mMovieID\u001B[39m\u001B[38;5;124m\"\u001B[39m]\u001B[38;5;241m.\u001B[39misin(train[\u001B[38;5;124m\"\u001B[39m\u001B[38;5;124mMovieID\u001B[39m\u001B[38;5;124m\"\u001B[39m])]\n\u001B[1;32m      3\u001B[0m \u001B[38;5;28mprint\u001B[39m(\u001B[38;5;124mf\u001B[39m\u001B[38;5;124m\"\u001B[39m\u001B[38;5;124mTest shape after deleting \u001B[39m\u001B[38;5;124m'\u001B[39m\u001B[38;5;124mcold-start\u001B[39m\u001B[38;5;124m'\u001B[39m\u001B[38;5;124m users: \u001B[39m\u001B[38;5;132;01m{\u001B[39;00mtest\u001B[38;5;241m.\u001B[39mshape\u001B[38;5;132;01m}\u001B[39;00m\u001B[38;5;124m\"\u001B[39m)\n",
      "\u001B[0;31mNameError\u001B[0m: name 'test' is not defined"
     ]
    }
   ],
   "execution_count": 12
  },
  {
   "cell_type": "code",
   "metadata": {
    "ExecuteTime": {
     "end_time": "2024-06-16T14:38:40.958630Z",
     "start_time": "2024-06-16T14:38:40.946883Z"
    }
   },
   "source": [
    "rating_matrix = train.pivot_table(index='UserID', columns='MovieID',\\\n",
    "                                  values='Rating', fill_value=0)\n",
    "rating_matrix.head(3)"
   ],
   "outputs": [
    {
     "ename": "NameError",
     "evalue": "name 'train' is not defined",
     "output_type": "error",
     "traceback": [
      "\u001B[0;31m---------------------------------------------------------------------------\u001B[0m",
      "\u001B[0;31mNameError\u001B[0m                                 Traceback (most recent call last)",
      "Cell \u001B[0;32mIn[13], line 1\u001B[0m\n\u001B[0;32m----> 1\u001B[0m rating_matrix \u001B[38;5;241m=\u001B[39m \u001B[43mtrain\u001B[49m\u001B[38;5;241m.\u001B[39mpivot_table(index\u001B[38;5;241m=\u001B[39m\u001B[38;5;124m'\u001B[39m\u001B[38;5;124mUserID\u001B[39m\u001B[38;5;124m'\u001B[39m, columns\u001B[38;5;241m=\u001B[39m\u001B[38;5;124m'\u001B[39m\u001B[38;5;124mMovieID\u001B[39m\u001B[38;5;124m'\u001B[39m,\\\n\u001B[1;32m      2\u001B[0m                                   values\u001B[38;5;241m=\u001B[39m\u001B[38;5;124m'\u001B[39m\u001B[38;5;124mRating\u001B[39m\u001B[38;5;124m'\u001B[39m, fill_value\u001B[38;5;241m=\u001B[39m\u001B[38;5;241m0\u001B[39m)\n\u001B[1;32m      3\u001B[0m rating_matrix\u001B[38;5;241m.\u001B[39mhead(\u001B[38;5;241m3\u001B[39m)\n",
      "\u001B[0;31mNameError\u001B[0m: name 'train' is not defined"
     ]
    }
   ],
   "execution_count": 13
  },
  {
   "cell_type": "code",
   "metadata": {
    "ExecuteTime": {
     "end_time": "2024-06-16T14:38:41.118810Z",
     "start_time": "2024-06-16T14:38:41.106995Z"
    }
   },
   "source": [
    "user_similarity = cosine_similarity(rating_matrix)\n",
    "user_similarity_df = pd.DataFrame(user_similarity, index=rating_matrix.index,\n",
    "                                  columns=rating_matrix.index)"
   ],
   "outputs": [
    {
     "ename": "NameError",
     "evalue": "name 'rating_matrix' is not defined",
     "output_type": "error",
     "traceback": [
      "\u001B[0;31m---------------------------------------------------------------------------\u001B[0m",
      "\u001B[0;31mNameError\u001B[0m                                 Traceback (most recent call last)",
      "Cell \u001B[0;32mIn[14], line 1\u001B[0m\n\u001B[0;32m----> 1\u001B[0m user_similarity \u001B[38;5;241m=\u001B[39m cosine_similarity(\u001B[43mrating_matrix\u001B[49m)\n\u001B[1;32m      2\u001B[0m user_similarity_df \u001B[38;5;241m=\u001B[39m pd\u001B[38;5;241m.\u001B[39mDataFrame(user_similarity, index\u001B[38;5;241m=\u001B[39mrating_matrix\u001B[38;5;241m.\u001B[39mindex,\n\u001B[1;32m      3\u001B[0m                                   columns\u001B[38;5;241m=\u001B[39mrating_matrix\u001B[38;5;241m.\u001B[39mindex)\n",
      "\u001B[0;31mNameError\u001B[0m: name 'rating_matrix' is not defined"
     ]
    }
   ],
   "execution_count": 14
  },
  {
   "cell_type": "code",
   "metadata": {
    "ExecuteTime": {
     "end_time": "2024-06-16T14:38:41.266453Z",
     "start_time": "2024-06-16T14:38:41.255202Z"
    }
   },
   "source": [
    "top_n = 30\n",
    "neighbors_dict = {}\n",
    "\n",
    "for i in range(user_similarity_df.shape[0]):\n",
    "    row = user_similarity_df.iloc[i]\n",
    "    user = row.index[i]\n",
    "    row = row[row.index != user]\n",
    "    neighbors = list(np.argsort(row)[::-1][:top_n])\n",
    "    neighbors_dict[user] = neighbors"
   ],
   "outputs": [
    {
     "ename": "NameError",
     "evalue": "name 'user_similarity_df' is not defined",
     "output_type": "error",
     "traceback": [
      "\u001B[0;31m---------------------------------------------------------------------------\u001B[0m",
      "\u001B[0;31mNameError\u001B[0m                                 Traceback (most recent call last)",
      "Cell \u001B[0;32mIn[15], line 4\u001B[0m\n\u001B[1;32m      1\u001B[0m top_n \u001B[38;5;241m=\u001B[39m \u001B[38;5;241m30\u001B[39m\n\u001B[1;32m      2\u001B[0m neighbors_dict \u001B[38;5;241m=\u001B[39m {}\n\u001B[0;32m----> 4\u001B[0m \u001B[38;5;28;01mfor\u001B[39;00m i \u001B[38;5;129;01min\u001B[39;00m \u001B[38;5;28mrange\u001B[39m(\u001B[43muser_similarity_df\u001B[49m\u001B[38;5;241m.\u001B[39mshape[\u001B[38;5;241m0\u001B[39m]):\n\u001B[1;32m      5\u001B[0m     row \u001B[38;5;241m=\u001B[39m user_similarity_df\u001B[38;5;241m.\u001B[39miloc[i]\n\u001B[1;32m      6\u001B[0m     user \u001B[38;5;241m=\u001B[39m row\u001B[38;5;241m.\u001B[39mindex[i]\n",
      "\u001B[0;31mNameError\u001B[0m: name 'user_similarity_df' is not defined"
     ]
    }
   ],
   "execution_count": 15
  },
  {
   "cell_type": "code",
   "metadata": {
    "ExecuteTime": {
     "end_time": "2024-06-16T14:38:41.524379Z",
     "start_time": "2024-06-16T14:38:41.510531Z"
    }
   },
   "source": [
    "X_test = test[[\"UserID\", \"MovieID\"]]\n",
    "y_test = test[\"Rating\"]\n",
    "\n",
    "predict = []\n",
    "for _, row in X_test.iterrows():\n",
    "    user = row[\"UserID\"]\n",
    "    movie = row[\"MovieID\"]\n",
    "    user_neighbors = neighbors_dict[user]\n",
    "    filtered_df = rating_matrix[rating_matrix.index.isin(neighbors)]\n",
    "    filtered_df = filtered_df.loc[:, movie]\n",
    "    pred = filtered_df[filtered_df != 0].mean()\n",
    "    predict.append(pred)"
   ],
   "outputs": [
    {
     "ename": "NameError",
     "evalue": "name 'test' is not defined",
     "output_type": "error",
     "traceback": [
      "\u001B[0;31m---------------------------------------------------------------------------\u001B[0m",
      "\u001B[0;31mNameError\u001B[0m                                 Traceback (most recent call last)",
      "Cell \u001B[0;32mIn[16], line 1\u001B[0m\n\u001B[0;32m----> 1\u001B[0m X_test \u001B[38;5;241m=\u001B[39m \u001B[43mtest\u001B[49m[[\u001B[38;5;124m\"\u001B[39m\u001B[38;5;124mUserID\u001B[39m\u001B[38;5;124m\"\u001B[39m, \u001B[38;5;124m\"\u001B[39m\u001B[38;5;124mMovieID\u001B[39m\u001B[38;5;124m\"\u001B[39m]]\n\u001B[1;32m      2\u001B[0m y_test \u001B[38;5;241m=\u001B[39m test[\u001B[38;5;124m\"\u001B[39m\u001B[38;5;124mRating\u001B[39m\u001B[38;5;124m\"\u001B[39m]\n\u001B[1;32m      4\u001B[0m predict \u001B[38;5;241m=\u001B[39m []\n",
      "\u001B[0;31mNameError\u001B[0m: name 'test' is not defined"
     ]
    }
   ],
   "execution_count": 16
  },
  {
   "cell_type": "code",
   "metadata": {
    "ExecuteTime": {
     "end_time": "2024-06-16T14:38:41.669875Z",
     "start_time": "2024-06-16T14:38:41.660231Z"
    }
   },
   "source": [
    "predict_scores = np.array(predict)\n",
    "true_scores = np.array(y_test)"
   ],
   "outputs": [
    {
     "ename": "NameError",
     "evalue": "name 'predict' is not defined",
     "output_type": "error",
     "traceback": [
      "\u001B[0;31m---------------------------------------------------------------------------\u001B[0m",
      "\u001B[0;31mNameError\u001B[0m                                 Traceback (most recent call last)",
      "Cell \u001B[0;32mIn[17], line 1\u001B[0m\n\u001B[0;32m----> 1\u001B[0m predict_scores \u001B[38;5;241m=\u001B[39m np\u001B[38;5;241m.\u001B[39marray(\u001B[43mpredict\u001B[49m)\n\u001B[1;32m      2\u001B[0m true_scores \u001B[38;5;241m=\u001B[39m np\u001B[38;5;241m.\u001B[39marray(y_test)\n",
      "\u001B[0;31mNameError\u001B[0m: name 'predict' is not defined"
     ]
    }
   ],
   "execution_count": 17
  },
  {
   "cell_type": "code",
   "metadata": {
    "ExecuteTime": {
     "end_time": "2024-06-16T14:38:41.905539Z",
     "start_time": "2024-06-16T14:38:41.901203Z"
    }
   },
   "source": [
    "from sklearn.metrics import mean_absolute_error, mean_squared_error\n",
    "from sklearn.metrics import precision_score, recall_score\n",
    "\n",
    "def apply_ml_metrics(true_scores, predict_scores, threshold=4):\n",
    "    indexes =~np.isnan(predict_scores)\n",
    "    true_scores = true_scores[indexes]\n",
    "    predict_scores = predict_scores[indexes]\n",
    "\n",
    "    true_scores_cat = (true_scores >= threshold).astype(int)\n",
    "    predict_scores_cat = (predict_scores >= threshold).astype(int)\n",
    "    \n",
    "    mae = mean_absolute_error(true_scores, predict_scores)\n",
    "    rmse = np.sqrt(mean_squared_error(true_scores, predict_scores))\n",
    "    precision = precision_score(true_scores_cat, predict_scores_cat)\n",
    "    recall = recall_score(true_scores_cat, predict_scores_cat)\n",
    "\n",
    "    return {\"mae\": round(mae, 3),\n",
    "            \"rmse\": round(rmse, 3),\n",
    "            \"precision\": round(precision, 3),\n",
    "            \"recall\": round(recall, 3)}"
   ],
   "outputs": [],
   "execution_count": 18
  },
  {
   "cell_type": "code",
   "metadata": {
    "ExecuteTime": {
     "end_time": "2024-06-16T14:38:42.413239Z",
     "start_time": "2024-06-16T14:38:42.400641Z"
    }
   },
   "source": [
    "true_scores[~np.isnan(predict_scores)].shape"
   ],
   "outputs": [
    {
     "ename": "NameError",
     "evalue": "name 'true_scores' is not defined",
     "output_type": "error",
     "traceback": [
      "\u001B[0;31m---------------------------------------------------------------------------\u001B[0m",
      "\u001B[0;31mNameError\u001B[0m                                 Traceback (most recent call last)",
      "Cell \u001B[0;32mIn[19], line 1\u001B[0m\n\u001B[0;32m----> 1\u001B[0m \u001B[43mtrue_scores\u001B[49m[\u001B[38;5;241m~\u001B[39mnp\u001B[38;5;241m.\u001B[39misnan(predict_scores)]\u001B[38;5;241m.\u001B[39mshape\n",
      "\u001B[0;31mNameError\u001B[0m: name 'true_scores' is not defined"
     ]
    }
   ],
   "execution_count": 19
  },
  {
   "cell_type": "code",
   "metadata": {
    "ExecuteTime": {
     "end_time": "2024-06-16T14:38:42.828931Z",
     "start_time": "2024-06-16T14:38:42.818876Z"
    }
   },
   "source": [
    "apply_ml_metrics(true_scores, predict_scores)"
   ],
   "outputs": [
    {
     "ename": "NameError",
     "evalue": "name 'true_scores' is not defined",
     "output_type": "error",
     "traceback": [
      "\u001B[0;31m---------------------------------------------------------------------------\u001B[0m",
      "\u001B[0;31mNameError\u001B[0m                                 Traceback (most recent call last)",
      "Cell \u001B[0;32mIn[20], line 1\u001B[0m\n\u001B[0;32m----> 1\u001B[0m apply_ml_metrics(\u001B[43mtrue_scores\u001B[49m, predict_scores)\n",
      "\u001B[0;31mNameError\u001B[0m: name 'true_scores' is not defined"
     ]
    }
   ],
   "execution_count": 20
  },
  {
   "metadata": {},
   "cell_type": "code",
   "outputs": [],
   "execution_count": null,
   "source": ""
  }
 ],
 "metadata": {
  "kernelspec": {
   "display_name": "ucu-recsys",
   "language": "python",
   "name": "python3"
  },
  "language_info": {
   "codemirror_mode": {
    "name": "ipython",
    "version": 3
   },
   "file_extension": ".py",
   "mimetype": "text/x-python",
   "name": "python",
   "nbconvert_exporter": "python",
   "pygments_lexer": "ipython3",
   "version": "3.11.8"
  }
 },
 "nbformat": 4,
 "nbformat_minor": 2
}
