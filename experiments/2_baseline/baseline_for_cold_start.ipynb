{
 "cells": [
  {
   "cell_type": "code",
   "execution_count": 48,
   "metadata": {},
   "source": [
    "import pandas as pd\n",
    "import numpy as np\n",
    "import pickle"
   ],
   "outputs": []
  },
  {
   "cell_type": "code",
   "execution_count": 7,
   "metadata": {},
   "source": [
    "basic_path_to_dataset = \"../../data/ml-1m-after_eda/\""
   ],
   "outputs": []
  },
  {
   "cell_type": "code",
   "execution_count": 8,
   "metadata": {},
   "source": [
    "with open(f'{basic_path_to_dataset}movies.pickle', 'rb') as file:\n",
    "    movies = pickle.load(file)\n",
    "\n",
    "with open(f'{basic_path_to_dataset}ratings.pickle', 'rb') as file:\n",
    "    ratings = pickle.load(file)\n",
    "\n",
    "with open(f'{basic_path_to_dataset}users.pickle', 'rb') as file:\n",
    "    users = pickle.load(file)"
   ],
   "outputs": []
  },
  {
   "cell_type": "code",
   "execution_count": 10,
   "metadata": {},
   "source": [
    "ratings.head()"
   ],
   "outputs": []
  },
  {
   "attachments": {},
   "cell_type": "markdown",
   "metadata": {},
   "source": [
    "## Sum of rating"
   ]
  },
  {
   "cell_type": "code",
   "execution_count": 26,
   "metadata": {},
   "source": [
    "rating_sum_df = ratings.groupby('MovieID').agg(\n",
    "    RatingSum=('Rating', sum)\n",
    ").reset_index()"
   ],
   "outputs": []
  },
  {
   "cell_type": "code",
   "execution_count": 50,
   "metadata": {},
   "source": [
    "rating_sum_df.sort_values(by='RatingSum', ascending=False).reset_index(drop=True)"
   ],
   "outputs": []
  },
  {
   "cell_type": "code",
   "execution_count": null,
   "metadata": {},
   "source": [
    "def recommend_by_rating_sum(ratings, n_items=10) -> np.ndarray:\n",
    "    rating_sum_df = ratings.groupby('MovieID').agg(\n",
    "        RatingSum=('Rating', sum)\n",
    "    ).reset_index()\n",
    "    n_ids = rating_sum_df.sort_values(by='RatingSum', ascending=False).reset_index(drop=True).loc[:n_items, 'MovieID']\n",
    "    return n_ids"
   ],
   "outputs": []
  },
  {
   "attachments": {},
   "cell_type": "markdown",
   "metadata": {},
   "source": [
    "## Average rating"
   ]
  },
  {
   "cell_type": "code",
   "execution_count": 30,
   "metadata": {},
   "source": [
    "rating_avg_df = ratings.groupby('MovieID').agg(\n",
    "    RatingSum=('Rating', sum),\n",
    "    UserAmount=('UserID', len)\n",
    ").reset_index()\n",
    "\n",
    "rating_avg_df['AvgRating'] = rating_avg_df['RatingSum'] / rating_avg_df['UserAmount']"
   ],
   "outputs": []
  },
  {
   "cell_type": "code",
   "execution_count": 31,
   "metadata": {},
   "source": [
    "rating_avg_df.head()"
   ],
   "outputs": []
  },
  {
   "cell_type": "code",
   "execution_count": null,
   "metadata": {},
   "source": [
    "def recommend_rating_avg(ratings, n_items=10) -> np.ndarray:\n",
    "    rating_avg_df = ratings.groupby('MovieID').agg(\n",
    "        RatingSum=('Rating', sum),\n",
    "        UserAmount=('UserID', len)\n",
    "    ).reset_index()\n",
    "    n_ids = rating_avg_df.sort_values(by='AvgRating', ascending=False).reset_index(drop=True).loc[:n_items, 'MovieID']\n",
    "    return n_ids"
   ],
   "outputs": []
  },
  {
   "attachments": {},
   "cell_type": "markdown",
   "metadata": {},
   "source": [
    "## Interaction count"
   ]
  },
  {
   "cell_type": "code",
   "execution_count": 32,
   "metadata": {},
   "source": [
    "interaction_count_df = ratings.groupby('MovieID').agg(\n",
    "    UserAmount=('UserID', len)\n",
    ").reset_index()"
   ],
   "outputs": []
  },
  {
   "cell_type": "code",
   "execution_count": 33,
   "metadata": {},
   "source": [
    "interaction_count_df"
   ],
   "outputs": []
  },
  {
   "cell_type": "code",
   "execution_count": null,
   "metadata": {},
   "source": [
    "def recommend_interaction_count(ratings, n_items=10) -> np.ndarray:\n",
    "    interaction_count_df = ratings.groupby('MovieID').agg(\n",
    "        UserAmount=('UserID', len)\n",
    "    ).reset_index()\n",
    "    n_ids = interaction_count_df.sort_values(by='UserAmount', ascending=False).reset_index(drop=True).loc[:n_items, 'MovieID']\n",
    "    return n_ids"
   ],
   "outputs": []
  },
  {
   "cell_type": "code",
   "execution_count": null,
   "metadata": {},
   "source": [],
   "outputs": []
  }
 ],
 "metadata": {
  "kernelspec": {
   "display_name": "ucu",
   "language": "python",
   "name": "python3"
  },
  "language_info": {
   "codemirror_mode": {
    "name": "ipython",
    "version": 3
   },
   "file_extension": ".py",
   "mimetype": "text/x-python",
   "name": "python",
   "nbconvert_exporter": "python",
   "pygments_lexer": "ipython3",
   "version": "3.10.0 (tags/v3.10.0:b494f59, Oct  4 2021, 19:00:18) [MSC v.1929 64 bit (AMD64)]"
  },
  "orig_nbformat": 4,
  "vscode": {
   "interpreter": {
    "hash": "88d9097c2c55b0550f80553c409a663ec24d48df849dd2c27de881004e324280"
   }
  }
 },
 "nbformat": 4,
 "nbformat_minor": 2
}
