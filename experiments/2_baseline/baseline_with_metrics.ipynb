{
 "cells": [
  {
   "cell_type": "code",
   "execution_count": 1,
   "metadata": {},
   "outputs": [],
   "source": [
    "import numpy as np\n",
    "import pandas as pd\n",
    "\n",
    "from src import utils, models, metrics"
   ]
  },
  {
   "cell_type": "code",
   "execution_count": 2,
   "metadata": {},
   "outputs": [],
   "source": [
    "# read data\n",
    "df_movies, df_users, df_ratings = utils.read_pickles(\"../../data/ml-1m-after_eda/\")"
   ]
  },
  {
   "cell_type": "markdown",
   "metadata": {},
   "source": [
    "#### 1 Ordered splitting. 80% data in train"
   ]
  },
  {
   "cell_type": "code",
   "execution_count": 3,
   "metadata": {},
   "outputs": [
    {
     "name": "stdout",
     "output_type": "stream",
     "text": [
      "Train shape: (800167, 6)\n",
      "Test shape: (200042, 6)\n",
      "ML merics: {'mae': 0.785, 'rmse': 0.985, 'precision': 0.805, 'recall': 0.361, 'f1': 0.498, 'roc_auc': 0.617}\n",
      "Predictive merics: {'k': 5, 'threshold': 4, 'precision_at_k': 0.869, 'recall_at_k': 0.101, 'avrg_prec_at_k': 0.869, 'n_users_with_k': 1246}\n",
      "Rank merics: {'mean_reciprocal_rank': 1.182, 'hit_rate': 0.997}\n"
     ]
    }
   ],
   "source": [
    "# split data\n",
    "train, test = utils.TrainTestSplitter.split_by_percent(df_ratings, 0.8)\n",
    "print(f\"Train shape: {train.shape}\")\n",
    "print(f\"Test shape: {test.shape}\")\n",
    "\n",
    "# get true\n",
    "true_scores = test[\"Rating\"]\n",
    "\n",
    "# get predict\n",
    "base_model = models.BaseModelAverage()\n",
    "base_model.fit(train)\n",
    "predicted_scores = base_model.predict(test[\"MovieID\"])\n",
    "\n",
    "# evaluate\n",
    "print(f\"ML merics: {metrics.ml_metrics(true_scores, predicted_scores)}\")\n",
    "print(f\"Predictive merics: {metrics.predictive_metrics(test, predicted_scores, k=5, threshold=4)}\")\n",
    "print(f\"Rank merics: {metrics.rank_metrics(test, predicted_scores, k=5, threshold=4)}\")"
   ]
  },
  {
   "cell_type": "markdown",
   "metadata": {},
   "source": [
    "#### 2 Random splitting (only for experiment). 80% data in train"
   ]
  },
  {
   "cell_type": "code",
   "execution_count": 4,
   "metadata": {},
   "outputs": [
    {
     "name": "stdout",
     "output_type": "stream",
     "text": [
      "Train shape: (800167, 6)\n",
      "Test shape: (200042, 6)\n",
      "ML merics: {'mae': 0.782, 'rmse': 0.98, 'precision': 0.811, 'recall': 0.334, 'f1': 0.473, 'roc_auc': 0.614}\n",
      "Predictive merics: {'k': 5, 'threshold': 4, 'precision_at_k': 0.795, 'recall_at_k': 0.393, 'avrg_prec_at_k': 0.851, 'n_users_with_k': 5584}\n",
      "Rank merics: {'mean_reciprocal_rank': 1.206, 'hit_rate': 0.99}\n"
     ]
    }
   ],
   "source": [
    "# split data\n",
    "train, test = utils.TrainTestSplitter.split_by_percent(df_ratings, 0.8, random_split=True)\n",
    "print(f\"Train shape: {train.shape}\")\n",
    "print(f\"Test shape: {test.shape}\")\n",
    "\n",
    "# get true\n",
    "true_scores = test[\"Rating\"]\n",
    "\n",
    "# get predict\n",
    "base_model = models.BaseModelAverage()\n",
    "base_model.fit(train)\n",
    "predicted_scores = base_model.predict(test[\"MovieID\"])\n",
    "\n",
    "# evaluate\n",
    "print(f\"ML merics: {metrics.ml_metrics(true_scores, predicted_scores)}\")\n",
    "print(f\"Predictive merics: {metrics.predictive_metrics(test, predicted_scores, k=5, threshold=4)}\")\n",
    "print(f\"Rank merics: {metrics.rank_metrics(test, predicted_scores, k=5, threshold=4)}\")"
   ]
  },
  {
   "cell_type": "markdown",
   "metadata": {},
   "source": [
    "#### 3 Users based splitting. 10 reviews for each user in test"
   ]
  },
  {
   "cell_type": "code",
   "execution_count": 5,
   "metadata": {},
   "outputs": [
    {
     "name": "stdout",
     "output_type": "stream",
     "text": [
      "Train shape: (939809, 6)\n",
      "Test shape: (60400, 6)\n",
      "ML merics: {'mae': 0.793, 'rmse': 0.999, 'precision': 0.814, 'recall': 0.438, 'f1': 0.569, 'roc_auc': 0.628}\n",
      "Predictive merics: {'k': 5, 'threshold': 4, 'precision_at_k': 0.757, 'recall_at_k': 0.61, 'avrg_prec_at_k': 0.806, 'n_users_with_k': 6040}\n",
      "Rank merics: {'mean_reciprocal_rank': 1.253, 'hit_rate': 0.993}\n"
     ]
    }
   ],
   "source": [
    "# split data\n",
    "train, test = utils.TrainTestSplitter.split_by_users(df_ratings, n_reviews_in_test=10)\n",
    "print(f\"Train shape: {train.shape}\")\n",
    "print(f\"Test shape: {test.shape}\")\n",
    "\n",
    "# get true\n",
    "true_scores = test[\"Rating\"]\n",
    "\n",
    "# get predict\n",
    "base_model = models.BaseModelAverage()\n",
    "base_model.fit(train)\n",
    "predicted_scores = base_model.predict(test[\"MovieID\"])\n",
    "\n",
    "# evaluate\n",
    "print(f\"ML merics: {metrics.ml_metrics(true_scores, predicted_scores)}\")\n",
    "print(f\"Predictive merics: {metrics.predictive_metrics(test, predicted_scores, k=5, threshold=4)}\")\n",
    "print(f\"Rank merics: {metrics.rank_metrics(test, predicted_scores, k=5, threshold=4)}\")"
   ]
  }
 ],
 "metadata": {
  "kernelspec": {
   "display_name": "ucu-recsys",
   "language": "python",
   "name": "python3"
  },
  "language_info": {
   "codemirror_mode": {
    "name": "ipython",
    "version": 3
   },
   "file_extension": ".py",
   "mimetype": "text/x-python",
   "name": "python",
   "nbconvert_exporter": "python",
   "pygments_lexer": "ipython3",
   "version": "3.11.8"
  }
 },
 "nbformat": 4,
 "nbformat_minor": 2
}
