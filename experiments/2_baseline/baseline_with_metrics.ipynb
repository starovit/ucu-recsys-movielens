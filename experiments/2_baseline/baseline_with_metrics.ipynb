{
 "cells": [
  {
   "cell_type": "code",
   "execution_count": 3,
   "metadata": {},
   "source": [
    "import numpy as np\n",
    "import pandas as pd\n",
    "\n",
    "from src import utils, models, metrics"
   ],
   "outputs": []
  },
  {
   "cell_type": "code",
   "execution_count": 4,
   "metadata": {},
   "source": [
    "# read data\n",
    "df_movies, df_users, df_ratings = utils.read_pickles(\"../../data/ml-1m-after_eda/\")"
   ],
   "outputs": []
  },
  {
   "cell_type": "markdown",
   "metadata": {},
   "source": [
    "#### 1 Ordered splitting. 80% data in train"
   ]
  },
  {
   "cell_type": "code",
   "execution_count": 21,
   "metadata": {},
   "source": [
    "# split data\n",
    "train, test = utils.TrainTestSplitter.split_by_percent(df_ratings, 0.8)\n",
    "print(f\"Train shape: {train.shape}\")\n",
    "print(f\"Test shape: {test.shape}\")\n",
    "\n",
    "# get true\n",
    "true_scores = test[\"Rating\"]\n",
    "\n",
    "# get predict\n",
    "base_model = models.BaseModelAverage()\n",
    "base_model.fit(train)\n",
    "predicted_scores = base_model.predict(test[\"MovieID\"])\n",
    "\n",
    "# evaluate\n",
    "print(f\"ML merics: {metrics.ml_metrics(true_scores, predicted_scores)}\")\n",
    "print(f\"Predictive merics: {metrics.predictive_metrics(test, predicted_scores, k=5)}\")\n",
    "print(f\"Rank merics: {metrics.rank_metrics(test, predicted_scores, k=1, threshold=5)}\")"
   ],
   "outputs": []
  },
  {
   "cell_type": "markdown",
   "metadata": {},
   "source": [
    "#### 2 Random splitting (only for experiment). 80% data in train"
   ]
  },
  {
   "cell_type": "code",
   "execution_count": 4,
   "metadata": {},
   "source": [
    "# split data\n",
    "train, test = utils.TrainTestSplitter.split_by_percent(df_ratings, 0.8, random_split=True)\n",
    "print(f\"Train shape: {train.shape}\")\n",
    "print(f\"Test shape: {test.shape}\")\n",
    "\n",
    "# get true\n",
    "true_scores = test[\"Rating\"]\n",
    "\n",
    "# get predict\n",
    "base_model = models.BaseModelAverage()\n",
    "base_model.fit(train)\n",
    "predicted_scores = base_model.predict(test[\"MovieID\"])\n",
    "\n",
    "# evaluate\n",
    "print(f\"ML merics: {metrics.ml_metrics(true_scores, predicted_scores)}\")\n",
    "print(f\"Predictive merics: {metrics.predictive_metrics(test, predicted_scores, k=5, threshold=4)}\")\n",
    "print(f\"Rank merics: {metrics.rank_metrics(test, predicted_scores, k=5, threshold=4)}\")"
   ],
   "outputs": []
  },
  {
   "cell_type": "markdown",
   "metadata": {},
   "source": [
    "#### 3 Users based splitting. 10 reviews for each user in test"
   ]
  },
  {
   "cell_type": "code",
   "execution_count": 5,
   "metadata": {},
   "source": [
    "# split data\n",
    "train, test = utils.TrainTestSplitter.split_by_users(df_ratings, n_reviews_in_test=10)\n",
    "print(f\"Train shape: {train.shape}\")\n",
    "print(f\"Test shape: {test.shape}\")\n",
    "\n",
    "# get true\n",
    "true_scores = test[\"Rating\"]\n",
    "\n",
    "# get predict\n",
    "base_model = models.BaseModelAverage()\n",
    "base_model.fit(train)\n",
    "predicted_scores = base_model.predict(test[\"MovieID\"])\n",
    "\n",
    "# evaluate\n",
    "print(f\"ML merics: {metrics.ml_metrics(true_scores, predicted_scores)}\")\n",
    "print(f\"Predictive merics: {metrics.predictive_metrics(test, predicted_scores, k=5, threshold=4)}\")\n",
    "print(f\"Rank merics: {metrics.rank_metrics(test, predicted_scores, k=5, threshold=4)}\")"
   ],
   "outputs": []
  }
 ],
 "metadata": {
  "kernelspec": {
   "display_name": "ucu-recsys",
   "language": "python",
   "name": "python3"
  },
  "language_info": {
   "codemirror_mode": {
    "name": "ipython",
    "version": 3
   },
   "file_extension": ".py",
   "mimetype": "text/x-python",
   "name": "python",
   "nbconvert_exporter": "python",
   "pygments_lexer": "ipython3",
   "version": "3.11.8"
  }
 },
 "nbformat": 4,
 "nbformat_minor": 2
}
