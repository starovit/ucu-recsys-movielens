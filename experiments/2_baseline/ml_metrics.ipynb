{
 "cells": [
  {
   "cell_type": "code",
   "execution_count": 14,
   "metadata": {},
   "outputs": [],
   "source": [
    "import numpy as np\n",
    "import pandas as pd\n",
    "\n",
    "import src.metrics as sm\n",
    "import src.process as sp"
   ]
  },
  {
   "cell_type": "markdown",
   "metadata": {},
   "source": [
    "#### Baseline model"
   ]
  },
  {
   "cell_type": "code",
   "execution_count": 15,
   "metadata": {},
   "outputs": [],
   "source": [
    "df_movies, df_users, df_ratings = sp.read_pickles(\"../../data/ml-1m-after_eda/\")"
   ]
  },
  {
   "cell_type": "code",
   "execution_count": 52,
   "metadata": {},
   "outputs": [
    {
     "name": "stdout",
     "output_type": "stream",
     "text": [
      "Train shape: (797116, 3)\n",
      "Test shape: (203093, 3)\n"
     ]
    }
   ],
   "source": [
    "def train_test_split(df, split_date):\n",
    "    train = df[df[\"Date\"] < split_date][[\"UserID\", \"MovieID\", \"Rating\"]]\n",
    "    test = df[df[\"Date\"] >= split_date][[\"UserID\", \"MovieID\", \"Rating\"]]\n",
    "    return train, test\n",
    "\n",
    "split_date = pd.to_datetime(\"2000-12-02\").date()\n",
    "train, test = train_test_split(df_ratings, split_date)\n",
    "print(f\"Train shape: {train.shape}\")\n",
    "print(f\"Test shape: {test.shape}\")"
   ]
  },
  {
   "cell_type": "code",
   "execution_count": 53,
   "metadata": {},
   "outputs": [
    {
     "data": {
      "text/plain": [
       "{'mae': 0.771, 'rmse': 0.969, 'precision': 0.8, 'recall': 0.315}"
      ]
     },
     "execution_count": 53,
     "metadata": {},
     "output_type": "execute_result"
    }
   ],
   "source": [
    "# get true\n",
    "true_scores = test[\"Rating\"]\n",
    "\n",
    "# get predict\n",
    "model = BaselineModel()\n",
    "model.fit(train)\n",
    "predict_scores = model.predict(test[\"MovieID\"])\n",
    "\n",
    "apply_ml_metrics(true_scores, predict_scores)"
   ]
  }
 ],
 "metadata": {
  "kernelspec": {
   "display_name": "ucu-recsys",
   "language": "python",
   "name": "python3"
  },
  "language_info": {
   "codemirror_mode": {
    "name": "ipython",
    "version": 3
   },
   "file_extension": ".py",
   "mimetype": "text/x-python",
   "name": "python",
   "nbconvert_exporter": "python",
   "pygments_lexer": "ipython3",
   "version": "3.11.8"
  }
 },
 "nbformat": 4,
 "nbformat_minor": 2
}
