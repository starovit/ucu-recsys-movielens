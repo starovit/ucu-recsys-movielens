{
 "cells": [
  {
   "cell_type": "code",
   "execution_count": 49,
   "metadata": {},
   "source": [
    "import numpy as np\n",
    "import pandas as pd\n",
    "\n",
    "from sklearn.metrics import mean_absolute_error, mean_squared_error\n",
    "from sklearn.metrics import precision_score, recall_score"
   ],
   "outputs": []
  },
  {
   "cell_type": "code",
   "execution_count": 50,
   "metadata": {},
   "source": [
    "def apply_ml_metrics(true_scores, predict_scores, threshold=4):\n",
    "\n",
    "    true_scores_cat = (true_scores >= threshold).astype(int)\n",
    "    predict_scores_cat = (predict_scores >= threshold).astype(int)\n",
    "    \n",
    "    mae = mean_absolute_error(true_scores, predict_scores)\n",
    "    rmse = np.sqrt(mean_squared_error(true_scores, predict_scores))\n",
    "    precision = precision_score(true_scores_cat, predict_scores_cat)\n",
    "    recall = recall_score(true_scores_cat, predict_scores_cat)\n",
    "\n",
    "    return {\"mae\": round(mae, 3),\n",
    "            \"rmse\": round(rmse, 3),\n",
    "            \"precision\": round(precision, 3),\n",
    "            \"recall\": round(recall, 3)}\n",
    "\n",
    "class BaselineModel():\n",
    "\n",
    "    def fit(self, train):\n",
    "        self.rate_dict = train.groupby(\"MovieID\").mean()[\"Rating\"].to_dict()\n",
    "        self.avrg_rate = train.groupby(\"MovieID\").mean()[\"Rating\"].mean()\n",
    "\n",
    "    def predict(self, movies_ids):\n",
    "        predict = []\n",
    "        for movie_id in movies_ids:\n",
    "            if movie_id in self.rate_dict:\n",
    "                predict.append(self.rate_dict[movie_id])\n",
    "            else:\n",
    "                predict.append(self.avrg_rate)\n",
    "        return np.array(predict)"
   ],
   "outputs": []
  },
  {
   "cell_type": "markdown",
   "metadata": {},
   "source": [
    "#### Baseline model"
   ]
  },
  {
   "cell_type": "code",
   "execution_count": 51,
   "metadata": {},
   "source": [
    "df_movies = pd.read_pickle(\"../../data/ml-1m-after_eda/movies.pickle\")\n",
    "df_users = pd.read_pickle(\"../../data/ml-1m-after_eda/users.pickle\")\n",
    "df_ratings = pd.read_pickle(\"../../data/ml-1m-after_eda/ratings.pickle\")"
   ],
   "outputs": []
  },
  {
   "cell_type": "code",
   "execution_count": 52,
   "metadata": {},
   "source": [
    "def train_test_split(df, split_date):\n",
    "    train = df[df[\"Date\"] < split_date][[\"UserID\", \"MovieID\", \"Rating\"]]\n",
    "    test = df[df[\"Date\"] >= split_date][[\"UserID\", \"MovieID\", \"Rating\"]]\n",
    "    return train, test\n",
    "\n",
    "split_date = pd.to_datetime(\"2000-12-02\").date()\n",
    "train, test = train_test_split(df_ratings, split_date)\n",
    "print(f\"Train shape: {train.shape}\")\n",
    "print(f\"Test shape: {test.shape}\")"
   ],
   "outputs": []
  },
  {
   "cell_type": "code",
   "execution_count": 53,
   "metadata": {},
   "source": [
    "# get true\n",
    "true_scores = test[\"Rating\"]\n",
    "\n",
    "# get predict\n",
    "model = BaselineModel()\n",
    "model.fit(train)\n",
    "predict_scores = model.predict(test[\"MovieID\"])\n",
    "\n",
    "apply_ml_metrics(true_scores, predict_scores)"
   ],
   "outputs": []
  }
 ],
 "metadata": {
  "kernelspec": {
   "display_name": "ucu-recsys",
   "language": "python",
   "name": "python3"
  },
  "language_info": {
   "codemirror_mode": {
    "name": "ipython",
    "version": 3
   },
   "file_extension": ".py",
   "mimetype": "text/x-python",
   "name": "python",
   "nbconvert_exporter": "python",
   "pygments_lexer": "ipython3",
   "version": "3.11.8"
  }
 },
 "nbformat": 4,
 "nbformat_minor": 2
}
