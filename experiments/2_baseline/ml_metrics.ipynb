{
 "cells": [
  {
   "cell_type": "code",
   "execution_count": 1,
   "metadata": {},
   "outputs": [],
   "source": [
    "import numpy as np\n",
    "import pandas as pd\n",
    "\n",
    "from src import utils, models, metrics"
   ]
  },
  {
   "cell_type": "code",
   "execution_count": 2,
   "metadata": {},
   "outputs": [
    {
     "name": "stdout",
     "output_type": "stream",
     "text": [
      "Train shape: (800167, 6)\n",
      "Test shape: (200042, 6)\n"
     ]
    }
   ],
   "source": [
    "# read data\n",
    "df_movies, df_users, df_ratings = utils.read_pickles(\"../../data/ml-1m-after_eda/\")\n",
    "\n",
    "# split data\n",
    "train, test = utils.TrainTestSplitter.split_by_percent(df_ratings, 0.8)\n",
    "print(f\"Train shape: {train.shape}\")\n",
    "print(f\"Test shape: {test.shape}\")"
   ]
  },
  {
   "cell_type": "code",
   "execution_count": 6,
   "metadata": {},
   "outputs": [],
   "source": [
    "# get true\n",
    "true_scores = test[\"Rating\"]\n",
    "\n",
    "# get predict\n",
    "base_model = models.BaseModelAverage()\n",
    "base_model.fit(train)\n",
    "predict_scores = base_model.predict(test[\"MovieID\"])"
   ]
  },
  {
   "cell_type": "code",
   "execution_count": 7,
   "metadata": {},
   "outputs": [
    {
     "data": {
      "text/plain": [
       "{'mae': 0.785, 'rmse': 0.985, 'precision': 0.805, 'recall': 0.361}"
      ]
     },
     "execution_count": 7,
     "metadata": {},
     "output_type": "execute_result"
    }
   ],
   "source": [
    "metrics.get_ml_metrics(true_scores, predict_scores)"
   ]
  }
 ],
 "metadata": {
  "kernelspec": {
   "display_name": "ucu-recsys",
   "language": "python",
   "name": "python3"
  },
  "language_info": {
   "codemirror_mode": {
    "name": "ipython",
    "version": 3
   },
   "file_extension": ".py",
   "mimetype": "text/x-python",
   "name": "python",
   "nbconvert_exporter": "python",
   "pygments_lexer": "ipython3",
   "version": "3.11.8"
  }
 },
 "nbformat": 4,
 "nbformat_minor": 2
}
