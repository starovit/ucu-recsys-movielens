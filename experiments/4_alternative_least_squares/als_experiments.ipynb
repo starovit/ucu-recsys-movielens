{
 "cells": [
  {
   "cell_type": "code",
   "id": "initial_id",
   "metadata": {
    "collapsed": true,
    "ExecuteTime": {
     "end_time": "2024-07-07T20:02:06.461484Z",
     "start_time": "2024-07-07T20:02:06.457004Z"
    }
   },
   "source": [
    "from src.utils import TrainTestSplitter\n",
    "import pandas as pd\n",
    "from sklearn.metrics import mean_squared_error, f1_score\n",
    "\n",
    "from src.utils import read_pickles\n",
    "from sklearn.preprocessing import LabelEncoder\n",
    "import numpy as np\n",
    "from tqdm import tqdm"
   ],
   "outputs": [],
   "execution_count": 121
  },
  {
   "metadata": {},
   "cell_type": "markdown",
   "source": [
    "# Alternative Least Squares\n",
    "---\n",
    "\n",
    "Alternative Least Squares (ALS) is a matrix factorization technique used in recommender systems to predict user preferences for items. It decomposes the user-item interaction matrix into two lower-dimensional matrices, representing users and items, capturing latent factors that influence user behavior and item appeal. ALS iteratively alternates between updating these matrices by solving a series of least squares problems, minimizing the difference between predicted and actual interactions. This process continues until the model converges, achieving accurate predictions. ALS is particularly effective for handling large, sparse datasets, making it a popular choice for recommendation tasks."
   ],
   "id": "e97cfce9cfd1ad3c"
  },
  {
   "metadata": {},
   "cell_type": "markdown",
   "source": [
    "Let's talk about math, ALS can be represented in following way:\n",
    "   $$\n",
    "   \\min_{U, V} \\sum_{(i, j) \\in \\mathcal{K}} (R_{ij} - U_i^T V_j)^2 + \\lambda (\\|U_i\\|^2 + \\|V_j\\|^2)\n",
    "   $$\n",
    "   where:\n",
    "   - $R$ is the user-item interaction matrix with $R_{ij}$ representing the rating given by user $i$ to item $j$.\n",
    "   - $U$ is the user matrix of size $m \\times k$, where $m$ is the number of users and $k$ is the number of latent factors.\n",
    "   - $V$ is the item matrix of size $n \\times k$, where $n$ is the number of items and $k$ is the number of latent factors.\n",
    "   - $\\mathcal{K}$ is the set of observed (user, item) pairs.\n",
    "   - $\\lambda$ is the regularization parameter to prevent overfitting.\n",
    "   - $U_i$ is the latent factor vector for user $i$.\n",
    "   - $V_j$ is the latent factor vector for item $j$.\n"
   ],
   "id": "61cf9f6b74278dcf"
  },
  {
   "metadata": {
    "ExecuteTime": {
     "end_time": "2024-07-07T19:40:44.007372Z",
     "start_time": "2024-07-07T19:40:43.566464Z"
    }
   },
   "cell_type": "code",
   "source": [
    "df_movies, df_users, df_ratings = read_pickles(\"../../data/ml-1m-after_eda/\")\n",
    "user_encoder = LabelEncoder()\n",
    "movie_encoder = LabelEncoder()\n",
    "\n",
    "df_ratings['UserID'] = user_encoder.fit_transform(df_ratings['UserID'])\n",
    "df_ratings['MovieID'] = movie_encoder.fit_transform(df_ratings['MovieID'])\n",
    "\n",
    "rating_matrix = df_ratings.pivot_table(index='UserID', columns='MovieID', values='Rating', fill_value=0)"
   ],
   "id": "96c9724f51ee1e3c",
   "outputs": [],
   "execution_count": 113
  },
  {
   "metadata": {},
   "cell_type": "markdown",
   "source": [
    "# Train Test Split\n",
    "\n",
    "---\n",
    "For train/test split I will drop 10 percent of data and will ask model to predict it using ALS\n",
    "\n",
    "![alt text](https://i0.wp.com/neptune.ai/wp-content/uploads/2022/10/How-to-Test-a-Recommender-System27.png?ssl=1\n",
    ")\n"
   ],
   "id": "816b39fa5916996e"
  },
  {
   "metadata": {
    "ExecuteTime": {
     "end_time": "2024-07-07T19:40:44.447204Z",
     "start_time": "2024-07-07T19:40:44.008186Z"
    }
   },
   "cell_type": "code",
   "source": "train, test, indicies_of_zero = TrainTestSplitter.split_by_deleting_reviews(rating_matrix, 0.1)\n",
   "id": "72f5c9e7294d0444",
   "outputs": [],
   "execution_count": 114
  },
  {
   "metadata": {
    "ExecuteTime": {
     "end_time": "2024-07-07T19:40:44.491571Z",
     "start_time": "2024-07-07T19:40:44.487603Z"
    }
   },
   "cell_type": "code",
   "source": [
    "class AlternatingLeastSquares:\n",
    "    def __init__(self, num_factors=10, regularization=0.1, iterations=10):\n",
    "        self.num_factors = num_factors\n",
    "        self.regularization = regularization\n",
    "        self.iterations = iterations\n",
    "\n",
    "    def fit(self, interaction_matrix):\n",
    "        self.num_users, self.num_items = interaction_matrix.shape\n",
    "        self.user_factors = np.random.random((self.num_users, self.num_factors))\n",
    "        self.item_factors = np.random.random((self.num_items, self.num_factors))\n",
    "\n",
    "        for iteration in tqdm(range(self.iterations), desc=\"ALS Training Progress\"):\n",
    "            self.user_factors = self._als_step(interaction_matrix, self.user_factors, self.item_factors)\n",
    "            self.item_factors = self._als_step(interaction_matrix.T, self.item_factors, self.user_factors)\n",
    "\n",
    "\n",
    "    def _als_step(self, interaction_matrix, update_vecs, fixed_vecs):\n",
    "        A = fixed_vecs.T.dot(fixed_vecs) + np.eye(self.num_factors) * self.regularization\n",
    "        b = interaction_matrix.dot(fixed_vecs)\n",
    "        A_inv = np.linalg.inv(A)\n",
    "        update_vecs = b.dot(A_inv)\n",
    "        return update_vecs\n",
    "\n",
    "\n",
    "    def predict(self, user_id=None):\n",
    "        if user_id is None:\n",
    "            predictions = self.user_factors.dot(self.item_factors.T)\n",
    "            return predictions\n",
    "        else:\n",
    "            predictions =  self.user_factors.dot(self.item_factors.T)\n",
    "            print(predictions.shape)\n",
    "            return predictions[user_id]    \n",
    "\n",
    "    def calculate_mse(self, interaction_matrix):\n",
    "        if isinstance(interaction_matrix, pd.DataFrame):\n",
    "            interaction_matrix = interaction_matrix.values\n",
    "\n",
    "        predictions = self.predict()\n",
    "        mse = mean_squared_error(interaction_matrix, predictions)\n",
    "        return mse\n",
    "\n",
    "    def calculate_f1(self, interaction_matrix, threshold=0.5):\n",
    "        if isinstance(interaction_matrix, pd.DataFrame):\n",
    "            print(\"dataframe detected\")\n",
    "            interaction_matrix = interaction_matrix.values\n",
    "    \n",
    "        predictions = self.predict()\n",
    "        binary_predictions = (predictions >= threshold).astype(int)\n",
    "        binary_interactions = (interaction_matrix >= threshold).astype(int)\n",
    "        f1 = f1_score(np.array(binary_interactions).flatten(), np.array(binary_predictions).flatten())\n",
    "        return f1\n"
   ],
   "id": "64eb44522c5cabc7",
   "outputs": [],
   "execution_count": 115
  },
  {
   "metadata": {
    "ExecuteTime": {
     "end_time": "2024-07-07T19:41:21.725752Z",
     "start_time": "2024-07-07T19:40:44.955594Z"
    }
   },
   "cell_type": "code",
   "source": [
    "als = AlternatingLeastSquares(num_factors=500, regularization=0.1, iterations=100)\n",
    "\n",
    "als.fit(train)"
   ],
   "id": "f353fa70131bf58c",
   "outputs": [
    {
     "name": "stderr",
     "output_type": "stream",
     "text": [
      "ALS Training Progress: 100%|██████████| 100/100 [00:36<00:00,  2.72it/s]\n"
     ]
    }
   ],
   "execution_count": 116
  },
  {
   "metadata": {
    "ExecuteTime": {
     "end_time": "2024-07-07T19:41:53.082569Z",
     "start_time": "2024-07-07T19:41:53.078721Z"
    }
   },
   "cell_type": "code",
   "source": [
    "def find_recommendations(user_id, number_of_recommendations=15):\n",
    "    predictions = als.predict(user_id)\n",
    "    high_score_movie_ids = np.argsort(predictions)[::-1][:number_of_recommendations]\n",
    "    items_to_recommend = df_movies.where(df_movies['MovieID'].isin(high_score_movie_ids)).dropna()\n",
    "    print(items_to_recommend[['Title', 'Genres']])"
   ],
   "id": "dd3e579180a613d8",
   "outputs": [],
   "execution_count": 117
  },
  {
   "metadata": {},
   "cell_type": "markdown",
   "source": "## We would recommend following items to user with id 20\n",
   "id": "8d5b700f8fa9c6d5"
  },
  {
   "metadata": {
    "ExecuteTime": {
     "end_time": "2024-07-07T19:41:53.872386Z",
     "start_time": "2024-07-07T19:41:53.709167Z"
    }
   },
   "cell_type": "code",
   "source": "find_recommendations(20, 15)",
   "id": "4d9f1d4dfe1fe43d",
   "outputs": [
    {
     "name": "stdout",
     "output_type": "stream",
     "text": [
      "(6040, 3706)\n",
      "                                         Title                 Genres\n",
      "146                  Awfully Big Adventure, An                [Drama]\n",
      "297                                  Quiz Show                [Drama]\n",
      "545   Thirty-Two Short Films About Glenn Gould          [Documentary]\n",
      "770                     Independence Day (ID4)  [Action, Sci-Fi, War]\n",
      "1650                      Big Bang Theory, The                [Crime]\n",
      "1677                              Postman, The                [Drama]\n",
      "1689                              Men of Means        [Action, Drama]\n",
      "1827                              Cousin Bette               [Comedy]\n",
      "2026                          Shaggy D.A., The   [Children's, Comedy]\n",
      "2108                               Family Plot     [Comedy, Thriller]\n",
      "2661                              Barry Lyndon                [Drama]\n",
      "3230                                Hanging Up        [Comedy, Drama]\n"
     ]
    }
   ],
   "execution_count": 118
  },
  {
   "metadata": {},
   "cell_type": "markdown",
   "source": "## Calculate MSE ",
   "id": "1318bf9011f51b5b"
  },
  {
   "metadata": {
    "ExecuteTime": {
     "end_time": "2024-07-07T19:41:55.199077Z",
     "start_time": "2024-07-07T19:41:54.953014Z"
    }
   },
   "cell_type": "code",
   "source": [
    "mse = als.calculate_mse(rating_matrix)\n",
    "mse"
   ],
   "id": "5df341bb854135d4",
   "outputs": [
    {
     "data": {
      "text/plain": [
       "0.17148738668471872"
      ]
     },
     "execution_count": 119,
     "metadata": {},
     "output_type": "execute_result"
    }
   ],
   "execution_count": 119
  },
  {
   "metadata": {},
   "cell_type": "markdown",
   "source": "## Calculate F1 ",
   "id": "3146a482323faf53"
  },
  {
   "metadata": {
    "ExecuteTime": {
     "end_time": "2024-07-07T19:41:59.826506Z",
     "start_time": "2024-07-07T19:41:55.872719Z"
    }
   },
   "cell_type": "code",
   "source": [
    "f1 = als.calculate_f1(rating_matrix)\n",
    "f1"
   ],
   "id": "23a187396b0d2ba",
   "outputs": [
    {
     "name": "stdout",
     "output_type": "stream",
     "text": [
      "dataframe detected\n"
     ]
    },
    {
     "data": {
      "text/plain": [
       "0.6697590797360656"
      ]
     },
     "execution_count": 120,
     "metadata": {},
     "output_type": "execute_result"
    }
   ],
   "execution_count": 120
  },
  {
   "metadata": {},
   "cell_type": "markdown",
   "source": "ALS performs much better if we increase number of factors. During experiments I tried different number of iterations and factors and the second property plays much significant role. Maybe after som e iteration matrix of predictions converges and there is no point of computations, however as number of factors stayed the same it's not surprise that results haven't changed after convergance.",
   "id": "6f33603ad9f50794"
  },
  {
   "metadata": {},
   "cell_type": "code",
   "outputs": [],
   "execution_count": null,
   "source": "",
   "id": "4c1c5b0ed3e41920"
  }
 ],
 "metadata": {
  "kernelspec": {
   "display_name": "Python 3",
   "language": "python",
   "name": "python3"
  },
  "language_info": {
   "codemirror_mode": {
    "name": "ipython",
    "version": 2
   },
   "file_extension": ".py",
   "mimetype": "text/x-python",
   "name": "python",
   "nbconvert_exporter": "python",
   "pygments_lexer": "ipython2",
   "version": "2.7.6"
  }
 },
 "nbformat": 4,
 "nbformat_minor": 5
}
