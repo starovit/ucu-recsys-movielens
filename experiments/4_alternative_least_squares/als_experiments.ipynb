{
 "cells": [
  {
   "cell_type": "code",
   "id": "initial_id",
   "metadata": {
    "collapsed": true,
    "ExecuteTime": {
     "end_time": "2024-07-07T19:21:22.458562Z",
     "start_time": "2024-07-07T19:21:22.455598Z"
    }
   },
   "source": [
    "from src.utils import TrainTestSplitter\n",
    "from src.models import  BaseModelAverage\n",
    "from src.metrics import ml_metrics, predictive_metrics, rank_metrics\n",
    "\n",
    "from src.utils import read_pickles\n",
    "\n",
    "from scipy.sparse import csr_matrix\n",
    "from sklearn.preprocessing import LabelEncoder\n",
    "import numpy as np"
   ],
   "outputs": [],
   "execution_count": 13
  },
  {
   "metadata": {
    "ExecuteTime": {
     "end_time": "2024-07-07T19:21:47.025330Z",
     "start_time": "2024-07-07T19:21:46.555717Z"
    }
   },
   "cell_type": "code",
   "source": [
    "df_movies, df_users, df_ratings = read_pickles(\"../../data/ml-1m-after_eda/\")\n",
    "user_encoder = LabelEncoder()\n",
    "movie_encoder = LabelEncoder()\n",
    "\n",
    "df_ratings['UserID'] = user_encoder.fit_transform(df_ratings['UserID'])\n",
    "df_ratings['MovieID'] = movie_encoder.fit_transform(df_ratings['MovieID'])\n",
    "\n",
    "rating_matrix = df_ratings.pivot_table(index='UserID', columns='MovieID', values='Rating', fill_value=0)"
   ],
   "id": "96c9724f51ee1e3c",
   "outputs": [],
   "execution_count": 16
  },
  {
   "metadata": {
    "ExecuteTime": {
     "end_time": "2024-07-07T19:21:52.582477Z",
     "start_time": "2024-07-07T19:21:52.078671Z"
    }
   },
   "cell_type": "code",
   "source": "train, test, indicies_of_zero = TrainTestSplitter.split_by_deleting_reviews(rating_matrix, 0.1)\n",
   "id": "72f5c9e7294d0444",
   "outputs": [],
   "execution_count": 18
  },
  {
   "metadata": {
    "ExecuteTime": {
     "end_time": "2024-07-07T19:21:54.374463Z",
     "start_time": "2024-07-07T19:21:54.369637Z"
    }
   },
   "cell_type": "code",
   "source": [
    "class AlternatingLeastSquares:\n",
    "    def __init__(self, num_factors=10, regularization=0.1, iterations=10):\n",
    "        self.num_factors = num_factors\n",
    "        self.regularization = regularization\n",
    "        self.iterations = iterations\n",
    "\n",
    "    def fit(self, interaction_matrix):\n",
    "        self.num_users, self.num_items = interaction_matrix.shape\n",
    "        self.user_factors = np.random.random((self.num_users, self.num_factors))\n",
    "        self.item_factors = np.random.random((self.num_items, self.num_factors))\n",
    "\n",
    "        for iteration in range(self.iterations):\n",
    "            self.user_factors = self._als_step(interaction_matrix, self.user_factors, self.item_factors)\n",
    "            self.item_factors = self._als_step(interaction_matrix.T, self.item_factors, self.user_factors)\n",
    "\n",
    "\n",
    "    def _als_step(self, interaction_matrix, update_vecs, fixed_vecs):\n",
    "        A = fixed_vecs.T.dot(fixed_vecs) + np.eye(self.num_factors) * self.regularization\n",
    "        b = interaction_matrix.dot(fixed_vecs)\n",
    "        A_inv = np.linalg.inv(A)\n",
    "        update_vecs = b.dot(A_inv)\n",
    "        return update_vecs\n",
    "\n",
    "\n",
    "    def predict(self, user_id):\n",
    "        predictions =  self.user_factors.dot(self.item_factors.T)\n",
    "        print(predictions.shape)\n",
    "        return predictions[user_id]\n"
   ],
   "id": "64eb44522c5cabc7",
   "outputs": [],
   "execution_count": 19
  },
  {
   "metadata": {
    "ExecuteTime": {
     "end_time": "2024-07-07T19:21:54.814720Z",
     "start_time": "2024-07-07T19:21:54.646608Z"
    }
   },
   "cell_type": "code",
   "source": [
    "als = AlternatingLeastSquares(num_factors=10, regularization=0.1, iterations=10)\n",
    "\n",
    "als.fit(train)"
   ],
   "id": "f353fa70131bf58c",
   "outputs": [],
   "execution_count": 20
  },
  {
   "metadata": {
    "ExecuteTime": {
     "end_time": "2024-07-07T19:21:57.647053Z",
     "start_time": "2024-07-07T19:21:57.644019Z"
    }
   },
   "cell_type": "code",
   "source": [
    "def find_recommendations(user_id, number_of_recommendations=15):\n",
    "    predictions = als.predict(user_id)\n",
    "    high_score_movie_ids = np.argsort(predictions)[::-1][:number_of_recommendations]\n",
    "    items_to_recommend = df_movies.where(df_movies['MovieID'].isin(high_score_movie_ids)).dropna()\n",
    "    print(items_to_recommend[['Title', 'Genres']])"
   ],
   "id": "dd3e579180a613d8",
   "outputs": [],
   "execution_count": 21
  },
  {
   "metadata": {},
   "cell_type": "markdown",
   "source": "## We would recommend following items to user with id 20\n",
   "id": "8d5b700f8fa9c6d5"
  },
  {
   "metadata": {
    "ExecuteTime": {
     "end_time": "2024-07-07T19:21:58.388240Z",
     "start_time": "2024-07-07T19:21:58.282436Z"
    }
   },
   "cell_type": "code",
   "source": "find_recommendations(20, 15)",
   "id": "4d9f1d4dfe1fe43d",
   "outputs": [
    {
     "name": "stdout",
     "output_type": "stream",
     "text": [
      "(6040, 3706)\n",
      "                          Title            Genres\n",
      "146   Awfully Big Adventure, An           [Drama]\n",
      "519            Ruby in Paradise           [Drama]\n",
      "1164               Hear My Song          [Comedy]\n",
      "2234                  Nashville  [Drama, Musical]\n",
      "3154       Zed & Two Noughts, A           [Drama]\n",
      "3321          Shanghai Surprise       [Adventure]\n",
      "3413             Price of Glory           [Drama]\n",
      "3580            American Gigolo           [Drama]\n"
     ]
    }
   ],
   "execution_count": 22
  },
  {
   "metadata": {},
   "cell_type": "code",
   "outputs": [],
   "execution_count": null,
   "source": "",
   "id": "5df341bb854135d4"
  }
 ],
 "metadata": {
  "kernelspec": {
   "display_name": "Python 3",
   "language": "python",
   "name": "python3"
  },
  "language_info": {
   "codemirror_mode": {
    "name": "ipython",
    "version": 2
   },
   "file_extension": ".py",
   "mimetype": "text/x-python",
   "name": "python",
   "nbconvert_exporter": "python",
   "pygments_lexer": "ipython2",
   "version": "2.7.6"
  }
 },
 "nbformat": 4,
 "nbformat_minor": 5
}
