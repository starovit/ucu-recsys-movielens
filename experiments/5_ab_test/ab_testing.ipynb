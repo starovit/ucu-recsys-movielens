{
 "cells": [
  {
   "cell_type": "code",
   "execution_count": 14,
   "metadata": {
    "ExecuteTime": {
     "end_time": "2024-07-07T20:44:57.761502Z",
     "start_time": "2024-07-07T20:44:57.757226Z"
    }
   },
   "outputs": [],
   "source": [
    "import pandas as pd\n",
    "import numpy as np\n",
    "import matplotlib.pyplot as plt\n",
    "import seaborn as sns\n",
    "from src.utils import TrainTestSplitter\n",
    "from src.metrics import ml_metrics\n",
    "\n",
    "from src.utils import read_pickles\n",
    "from sklearn.preprocessing import LabelEncoder\n",
    "import datetime\n",
    "\n",
    "from scipy.stats import norm, ttest_ind\n",
    "from als import  AlternatingLeastSquares\n",
    "from funk_svd.svd import SVD"
   ]
  },
  {
   "cell_type": "code",
   "execution_count": 15,
   "metadata": {
    "ExecuteTime": {
     "end_time": "2024-07-07T20:44:58.519724Z",
     "start_time": "2024-07-07T20:44:57.902849Z"
    }
   },
   "outputs": [],
   "source": [
    "df_5 = pd.read_pickle('../../artifacts/df_5_factors.pkl')\n",
    "df_20 = pd.read_pickle('../../artifacts/df_20_factors.pkl')"
   ]
  },
  {
   "cell_type": "code",
   "execution_count": 16,
   "metadata": {
    "ExecuteTime": {
     "end_time": "2024-07-07T20:44:58.961686Z",
     "start_time": "2024-07-07T20:44:58.953918Z"
    }
   },
   "outputs": [
    {
     "data": {
      "text/html": [
       "<div>\n",
       "<style scoped>\n",
       "    .dataframe tbody tr th:only-of-type {\n",
       "        vertical-align: middle;\n",
       "    }\n",
       "\n",
       "    .dataframe tbody tr th {\n",
       "        vertical-align: top;\n",
       "    }\n",
       "\n",
       "    .dataframe thead th {\n",
       "        text-align: right;\n",
       "    }\n",
       "</style>\n",
       "<table border=\"1\" class=\"dataframe\">\n",
       "  <thead>\n",
       "    <tr style=\"text-align: right;\">\n",
       "      <th></th>\n",
       "      <th>u_id</th>\n",
       "      <th>i_id</th>\n",
       "      <th>rating</th>\n",
       "      <th>Timestamp</th>\n",
       "      <th>Datetime</th>\n",
       "      <th>Date</th>\n",
       "      <th>pred</th>\n",
       "    </tr>\n",
       "  </thead>\n",
       "  <tbody>\n",
       "    <tr>\n",
       "      <th>0</th>\n",
       "      <td>1</td>\n",
       "      <td>1193</td>\n",
       "      <td>5</td>\n",
       "      <td>978300760</td>\n",
       "      <td>2000-12-31 22:12:40</td>\n",
       "      <td>2000-12-31</td>\n",
       "      <td>3.007321</td>\n",
       "    </tr>\n",
       "    <tr>\n",
       "      <th>1</th>\n",
       "      <td>1</td>\n",
       "      <td>661</td>\n",
       "      <td>3</td>\n",
       "      <td>978302109</td>\n",
       "      <td>2000-12-31 22:35:09</td>\n",
       "      <td>2000-12-31</td>\n",
       "      <td>2.903425</td>\n",
       "    </tr>\n",
       "    <tr>\n",
       "      <th>2</th>\n",
       "      <td>1</td>\n",
       "      <td>914</td>\n",
       "      <td>3</td>\n",
       "      <td>978301968</td>\n",
       "      <td>2000-12-31 22:32:48</td>\n",
       "      <td>2000-12-31</td>\n",
       "      <td>3.148438</td>\n",
       "    </tr>\n",
       "    <tr>\n",
       "      <th>3</th>\n",
       "      <td>1</td>\n",
       "      <td>3408</td>\n",
       "      <td>4</td>\n",
       "      <td>978300275</td>\n",
       "      <td>2000-12-31 22:04:35</td>\n",
       "      <td>2000-12-31</td>\n",
       "      <td>2.875940</td>\n",
       "    </tr>\n",
       "    <tr>\n",
       "      <th>4</th>\n",
       "      <td>1</td>\n",
       "      <td>2355</td>\n",
       "      <td>5</td>\n",
       "      <td>978824291</td>\n",
       "      <td>2001-01-06 23:38:11</td>\n",
       "      <td>2001-01-06</td>\n",
       "      <td>2.545164</td>\n",
       "    </tr>\n",
       "  </tbody>\n",
       "</table>\n",
       "</div>"
      ],
      "text/plain": [
       "   u_id  i_id  rating  Timestamp            Datetime        Date      pred\n",
       "0     1  1193       5  978300760 2000-12-31 22:12:40  2000-12-31  3.007321\n",
       "1     1   661       3  978302109 2000-12-31 22:35:09  2000-12-31  2.903425\n",
       "2     1   914       3  978301968 2000-12-31 22:32:48  2000-12-31  3.148438\n",
       "3     1  3408       4  978300275 2000-12-31 22:04:35  2000-12-31  2.875940\n",
       "4     1  2355       5  978824291 2001-01-06 23:38:11  2001-01-06  2.545164"
      ]
     },
     "execution_count": 16,
     "metadata": {},
     "output_type": "execute_result"
    }
   ],
   "source": [
    "df_5.head()"
   ]
  },
  {
   "cell_type": "code",
   "execution_count": 17,
   "metadata": {
    "ExecuteTime": {
     "end_time": "2024-07-07T20:44:59.950775Z",
     "start_time": "2024-07-07T20:44:59.946909Z"
    }
   },
   "outputs": [
    {
     "data": {
      "text/html": [
       "<div>\n",
       "<style scoped>\n",
       "    .dataframe tbody tr th:only-of-type {\n",
       "        vertical-align: middle;\n",
       "    }\n",
       "\n",
       "    .dataframe tbody tr th {\n",
       "        vertical-align: top;\n",
       "    }\n",
       "\n",
       "    .dataframe thead th {\n",
       "        text-align: right;\n",
       "    }\n",
       "</style>\n",
       "<table border=\"1\" class=\"dataframe\">\n",
       "  <thead>\n",
       "    <tr style=\"text-align: right;\">\n",
       "      <th></th>\n",
       "      <th>u_id</th>\n",
       "      <th>i_id</th>\n",
       "      <th>rating</th>\n",
       "      <th>Timestamp</th>\n",
       "      <th>Datetime</th>\n",
       "      <th>Date</th>\n",
       "      <th>pred</th>\n",
       "    </tr>\n",
       "  </thead>\n",
       "  <tbody>\n",
       "    <tr>\n",
       "      <th>0</th>\n",
       "      <td>1</td>\n",
       "      <td>1193</td>\n",
       "      <td>5</td>\n",
       "      <td>978300760</td>\n",
       "      <td>2000-12-31 22:12:40</td>\n",
       "      <td>2000-12-31</td>\n",
       "      <td>4.477665</td>\n",
       "    </tr>\n",
       "    <tr>\n",
       "      <th>1</th>\n",
       "      <td>1</td>\n",
       "      <td>661</td>\n",
       "      <td>3</td>\n",
       "      <td>978302109</td>\n",
       "      <td>2000-12-31 22:35:09</td>\n",
       "      <td>2000-12-31</td>\n",
       "      <td>3.512411</td>\n",
       "    </tr>\n",
       "    <tr>\n",
       "      <th>2</th>\n",
       "      <td>1</td>\n",
       "      <td>914</td>\n",
       "      <td>3</td>\n",
       "      <td>978301968</td>\n",
       "      <td>2000-12-31 22:32:48</td>\n",
       "      <td>2000-12-31</td>\n",
       "      <td>4.196619</td>\n",
       "    </tr>\n",
       "    <tr>\n",
       "      <th>3</th>\n",
       "      <td>1</td>\n",
       "      <td>3408</td>\n",
       "      <td>4</td>\n",
       "      <td>978300275</td>\n",
       "      <td>2000-12-31 22:04:35</td>\n",
       "      <td>2000-12-31</td>\n",
       "      <td>3.963851</td>\n",
       "    </tr>\n",
       "    <tr>\n",
       "      <th>4</th>\n",
       "      <td>1</td>\n",
       "      <td>2355</td>\n",
       "      <td>5</td>\n",
       "      <td>978824291</td>\n",
       "      <td>2001-01-06 23:38:11</td>\n",
       "      <td>2001-01-06</td>\n",
       "      <td>3.903793</td>\n",
       "    </tr>\n",
       "  </tbody>\n",
       "</table>\n",
       "</div>"
      ],
      "text/plain": [
       "   u_id  i_id  rating  Timestamp            Datetime        Date      pred\n",
       "0     1  1193       5  978300760 2000-12-31 22:12:40  2000-12-31  4.477665\n",
       "1     1   661       3  978302109 2000-12-31 22:35:09  2000-12-31  3.512411\n",
       "2     1   914       3  978301968 2000-12-31 22:32:48  2000-12-31  4.196619\n",
       "3     1  3408       4  978300275 2000-12-31 22:04:35  2000-12-31  3.963851\n",
       "4     1  2355       5  978824291 2001-01-06 23:38:11  2001-01-06  3.903793"
      ]
     },
     "execution_count": 17,
     "metadata": {},
     "output_type": "execute_result"
    }
   ],
   "source": [
    "df_20.head()"
   ]
  },
  {
   "cell_type": "code",
   "execution_count": 18,
   "metadata": {
    "ExecuteTime": {
     "end_time": "2024-07-07T20:44:59.955570Z",
     "start_time": "2024-07-07T20:44:59.951877Z"
    }
   },
   "outputs": [],
   "source": [
    "def plot_dist(array1, array2):\n",
    "    plt.figure(figsize=(12, 6))\n",
    "    sns.histplot(array1, kde=True, color='blue', label='Group A', stat=\"density\", linewidth=0)\n",
    "    sns.histplot(array2, kde=True, color='red', label='Group B', stat=\"density\", linewidth=0)\n",
    "    plt.axvline(np.mean(array1), color='blue', linestyle='dashed', linewidth=2)\n",
    "    plt.axvline(np.mean(array2), color='red', linestyle='dashed', linewidth=2)\n",
    "    plt.legend()\n",
    "    plt.title('Distributions of Ratings for Groups A and B')\n",
    "    plt.xlabel('Rating')\n",
    "    plt.ylabel('Density')\n",
    "    plt.show()"
   ]
  },
  {
   "cell_type": "code",
   "execution_count": 20,
   "metadata": {
    "ExecuteTime": {
     "end_time": "2024-07-07T20:45:01.132413Z",
     "start_time": "2024-07-07T20:45:01.127779Z"
    }
   },
   "outputs": [],
   "source": [
    "thresh = 0.05\n",
    "\n",
    "t_stat, p_value = ttest_ind(np.abs(df_5['pred'] - df_5['rating']), np.abs(df_20['pred'] - df_20['rating']), equal_var=False)"
   ]
  },
  {
   "attachments": {},
   "cell_type": "markdown",
   "metadata": {},
   "source": [
    "We want to compare predictions from 2 models of funk-svd that has 5 and 20 latent features"
   ]
  },
  {
   "cell_type": "code",
   "execution_count": null,
   "metadata": {},
   "outputs": [],
   "source": [
    "print(f\"Mean 5 - {np.abs(df_5['pred'] - df_5['rating'])}\")\n",
    "print(f\"Mean 20 - {np.abs(df_20['pred'] - df_20['rating'])}\")"
   ]
  },
  {
   "cell_type": "code",
   "execution_count": 21,
   "metadata": {
    "ExecuteTime": {
     "end_time": "2024-07-07T20:45:01.134424Z",
     "start_time": "2024-07-07T20:45:01.132971Z"
    }
   },
   "outputs": [
    {
     "name": "stdout",
     "output_type": "stream",
     "text": [
      "There is a significant difference. Means are not equal\n"
     ]
    }
   ],
   "source": [
    "if p_value < thresh:\n",
    "    print(\"There is a significant difference. Means are not equal\")\n",
    "else:\n",
    "    print(\"There is not enough evidence of significant difference\")"
   ]
  },
  {
   "cell_type": "markdown",
   "metadata": {},
   "source": [
    "# Hypothersis statement\n",
    "## Let's assume we have two algorithms, Funk SVD and ALS\n",
    "\n",
    "we should test what performs better for user recommendation. As we DON'T HAVE live environments we will use offline metrics as criteria to test Hypothesis A (Funk SVD is better for recommendation) and Hypothesis B (ALS is better for recomendations)"
   ]
  },
  {
   "cell_type": "markdown",
   "metadata": {},
   "source": [
    "# Funk SVD"
   ]
  },
  {
   "cell_type": "code",
   "execution_count": 22,
   "metadata": {
    "ExecuteTime": {
     "end_time": "2024-07-07T20:45:02.333739Z",
     "start_time": "2024-07-07T20:45:02.019526Z"
    }
   },
   "outputs": [],
   "source": [
    "movies, users, ratings = read_pickles(\"../../data/ml-1m-after_eda/\")\n",
    "ratings.columns = ['u_id', 'i_id', 'rating', 'Timestamp', 'Datetime', 'Date']\n",
    "train, test = TrainTestSplitter.split_by_date(ratings, datetime.datetime.strptime('2000-12-02', '%Y-%m-%d').date())\n",
    "train_user_to_item = train.pivot(index='u_id', columns='i_id', values='rating')\n",
    "val_user_to_item = test.pivot(index='u_id', columns='i_id', values='rating')"
   ]
  },
  {
   "cell_type": "code",
   "execution_count": 23,
   "metadata": {
    "ExecuteTime": {
     "end_time": "2024-07-07T20:45:03.505910Z",
     "start_time": "2024-07-07T20:45:02.334459Z"
    }
   },
   "outputs": [
    {
     "name": "stdout",
     "output_type": "stream",
     "text": [
      "Preprocessing data...\n",
      "\n",
      "Preprocessing data...\n",
      "\n",
      "Epoch 1/100  | val_loss: 0.93 - val_rmse: 0.96 - val_mae: 0.76 - took 0.0 sec\n",
      "Epoch 2/100  | val_loss: 0.91 - val_rmse: 0.96 - val_mae: 0.76 - took 0.0 sec\n",
      "Epoch 3/100  | val_loss: 0.91 - val_rmse: 0.95 - val_mae: 0.75 - took 0.0 sec\n",
      "Epoch 4/100  | val_loss: 0.91 - val_rmse: 0.95 - val_mae: 0.75 - took 0.0 sec\n",
      "Epoch 5/100  | val_loss: 0.91 - val_rmse: 0.95 - val_mae: 0.75 - took 0.0 sec\n",
      "Epoch 6/100  | val_loss: 0.90 - val_rmse: 0.95 - val_mae: 0.75 - took 0.0 sec\n",
      "Epoch 7/100  | val_loss: 0.90 - val_rmse: 0.95 - val_mae: 0.75 - took 0.0 sec\n",
      "Epoch 8/100  | val_loss: 0.90 - val_rmse: 0.95 - val_mae: 0.75 - took 0.0 sec\n",
      "Epoch 9/100  | val_loss: 0.90 - val_rmse: 0.95 - val_mae: 0.75 - took 0.0 sec\n",
      "Epoch 10/100 | val_loss: 0.90 - val_rmse: 0.95 - val_mae: 0.75 - took 0.0 sec\n",
      "Epoch 11/100 | val_loss: 0.90 - val_rmse: 0.95 - val_mae: 0.75 - took 0.0 sec\n",
      "Epoch 12/100 | val_loss: 0.90 - val_rmse: 0.95 - val_mae: 0.75 - took 0.0 sec\n",
      "Epoch 13/100 | val_loss: 0.90 - val_rmse: 0.95 - val_mae: 0.75 - took 0.0 sec\n",
      "Epoch 14/100 | val_loss: 0.90 - val_rmse: 0.95 - val_mae: 0.75 - took 0.0 sec\n",
      "Epoch 15/100 | val_loss: 0.90 - val_rmse: 0.95 - val_mae: 0.75 - took 0.0 sec\n",
      "Epoch 16/100 | val_loss: 0.89 - val_rmse: 0.95 - val_mae: 0.75 - took 0.0 sec\n",
      "Epoch 17/100 | val_loss: 0.89 - val_rmse: 0.95 - val_mae: 0.75 - took 0.0 sec\n",
      "Epoch 18/100 | val_loss: 0.89 - val_rmse: 0.94 - val_mae: 0.75 - took 0.0 sec\n",
      "Epoch 19/100 | val_loss: 0.89 - val_rmse: 0.94 - val_mae: 0.75 - took 0.0 sec\n",
      "Epoch 20/100 | val_loss: 0.89 - val_rmse: 0.94 - val_mae: 0.75 - took 0.0 sec\n",
      "Epoch 21/100 | val_loss: 0.89 - val_rmse: 0.94 - val_mae: 0.75 - took 0.0 sec\n",
      "Epoch 22/100 | val_loss: 0.89 - val_rmse: 0.94 - val_mae: 0.75 - took 0.0 sec\n",
      "Epoch 23/100 | val_loss: 0.89 - val_rmse: 0.94 - val_mae: 0.75 - took 0.0 sec\n",
      "Epoch 24/100 | val_loss: 0.89 - val_rmse: 0.94 - val_mae: 0.75 - took 0.0 sec\n",
      "Epoch 25/100 | val_loss: 0.89 - val_rmse: 0.94 - val_mae: 0.75 - took 0.0 sec\n",
      "Epoch 26/100 | val_loss: 0.89 - val_rmse: 0.94 - val_mae: 0.75 - took 0.0 sec\n",
      "Epoch 27/100 | val_loss: 0.89 - val_rmse: 0.94 - val_mae: 0.75 - took 0.0 sec\n",
      "Epoch 28/100 | val_loss: 0.89 - val_rmse: 0.94 - val_mae: 0.75 - took 0.0 sec\n",
      "Epoch 29/100 | val_loss: 0.89 - val_rmse: 0.94 - val_mae: 0.75 - took 0.0 sec\n",
      "Epoch 30/100 | val_loss: 0.89 - val_rmse: 0.94 - val_mae: 0.75 - took 0.0 sec\n",
      "Epoch 31/100 | val_loss: 0.89 - val_rmse: 0.94 - val_mae: 0.75 - took 0.0 sec\n",
      "Epoch 32/100 | val_loss: 0.89 - val_rmse: 0.94 - val_mae: 0.75 - took 0.0 sec\n",
      "Epoch 33/100 | val_loss: 0.89 - val_rmse: 0.94 - val_mae: 0.75 - took 0.0 sec\n",
      "Epoch 34/100 | val_loss: 0.89 - val_rmse: 0.94 - val_mae: 0.75 - took 0.0 sec\n",
      "Epoch 35/100 | val_loss: 0.89 - val_rmse: 0.94 - val_mae: 0.75 - took 0.0 sec\n",
      "Epoch 36/100 | val_loss: 0.88 - val_rmse: 0.94 - val_mae: 0.75 - took 0.0 sec\n",
      "Epoch 37/100 | val_loss: 0.88 - val_rmse: 0.94 - val_mae: 0.75 - took 0.0 sec\n",
      "Epoch 38/100 | val_loss: 0.88 - val_rmse: 0.94 - val_mae: 0.75 - took 0.0 sec\n",
      "Epoch 39/100 | val_loss: 0.88 - val_rmse: 0.94 - val_mae: 0.75 - took 0.0 sec\n",
      "Epoch 40/100 | val_loss: 0.88 - val_rmse: 0.94 - val_mae: 0.75 - took 0.0 sec\n",
      "Epoch 41/100 | val_loss: 0.88 - val_rmse: 0.94 - val_mae: 0.75 - took 0.0 sec\n",
      "Epoch 42/100 | val_loss: 0.88 - val_rmse: 0.94 - val_mae: 0.75 - took 0.0 sec\n",
      "Epoch 43/100 | val_loss: 0.88 - val_rmse: 0.94 - val_mae: 0.75 - took 0.0 sec\n",
      "Epoch 44/100 | val_loss: 0.88 - val_rmse: 0.94 - val_mae: 0.75 - took 0.0 sec\n",
      "Epoch 45/100 | val_loss: 0.88 - val_rmse: 0.94 - val_mae: 0.75 - took 0.0 sec\n",
      "Epoch 46/100 | val_loss: 0.88 - val_rmse: 0.94 - val_mae: 0.75 - took 0.0 sec\n",
      "Epoch 47/100 | val_loss: 0.88 - val_rmse: 0.94 - val_mae: 0.75 - took 0.0 sec\n",
      "Epoch 48/100 | val_loss: 0.88 - val_rmse: 0.94 - val_mae: 0.75 - took 0.0 sec\n",
      "Epoch 49/100 | val_loss: 0.88 - val_rmse: 0.94 - val_mae: 0.75 - took 0.0 sec\n",
      "Epoch 50/100 | val_loss: 0.88 - val_rmse: 0.94 - val_mae: 0.75 - took 0.0 sec\n",
      "Epoch 51/100 | val_loss: 0.88 - val_rmse: 0.94 - val_mae: 0.75 - took 0.0 sec\n",
      "Epoch 52/100 | val_loss: 0.88 - val_rmse: 0.94 - val_mae: 0.75 - took 0.0 sec\n",
      "Epoch 53/100 | val_loss: 0.88 - val_rmse: 0.94 - val_mae: 0.75 - took 0.0 sec\n",
      "Epoch 54/100 | val_loss: 0.88 - val_rmse: 0.94 - val_mae: 0.75 - took 0.0 sec\n",
      "Epoch 55/100 | val_loss: 0.88 - val_rmse: 0.94 - val_mae: 0.75 - took 0.0 sec\n",
      "Epoch 56/100 | val_loss: 0.88 - val_rmse: 0.94 - val_mae: 0.75 - took 0.0 sec\n",
      "Epoch 57/100 | val_loss: 0.88 - val_rmse: 0.94 - val_mae: 0.75 - took 0.0 sec\n",
      "Epoch 58/100 | val_loss: 0.88 - val_rmse: 0.94 - val_mae: 0.75 - took 0.0 sec\n",
      "Epoch 59/100 | val_loss: 0.88 - val_rmse: 0.94 - val_mae: 0.75 - took 0.0 sec\n",
      "Epoch 60/100 | val_loss: 0.88 - val_rmse: 0.94 - val_mae: 0.75 - took 0.0 sec\n",
      "Epoch 61/100 | val_loss: 0.88 - val_rmse: 0.94 - val_mae: 0.75 - took 0.0 sec\n",
      "Epoch 62/100 | val_loss: 0.88 - val_rmse: 0.94 - val_mae: 0.75 - took 0.0 sec\n",
      "Epoch 63/100 | val_loss: 0.88 - val_rmse: 0.94 - val_mae: 0.75 - took 0.0 sec\n",
      "Epoch 64/100 | val_loss: 0.88 - val_rmse: 0.94 - val_mae: 0.75 - took 0.0 sec\n",
      "Epoch 65/100 | val_loss: 0.88 - val_rmse: 0.94 - val_mae: 0.75 - took 0.0 sec\n",
      "Epoch 66/100 | val_loss: 0.88 - val_rmse: 0.94 - val_mae: 0.75 - took 0.0 sec\n",
      "Epoch 67/100 | val_loss: 0.88 - val_rmse: 0.94 - val_mae: 0.75 - took 0.0 sec\n",
      "Epoch 68/100 | val_loss: 0.88 - val_rmse: 0.94 - val_mae: 0.75 - took 0.0 sec\n",
      "Epoch 69/100 | val_loss: 0.88 - val_rmse: 0.94 - val_mae: 0.75 - took 0.0 sec\n",
      "Epoch 70/100 | val_loss: 0.88 - val_rmse: 0.94 - val_mae: 0.75 - took 0.0 sec\n",
      "Epoch 71/100 | val_loss: 0.88 - val_rmse: 0.94 - val_mae: 0.75 - took 0.0 sec\n",
      "Epoch 72/100 | val_loss: 0.88 - val_rmse: 0.94 - val_mae: 0.75 - took 0.0 sec\n",
      "Epoch 73/100 | val_loss: 0.88 - val_rmse: 0.94 - val_mae: 0.75 - took 0.0 sec\n",
      "Epoch 74/100 | val_loss: 0.88 - val_rmse: 0.94 - val_mae: 0.75 - took 0.0 sec\n",
      "Epoch 75/100 | val_loss: 0.88 - val_rmse: 0.94 - val_mae: 0.75 - took 0.0 sec\n",
      "Epoch 76/100 | val_loss: 0.88 - val_rmse: 0.94 - val_mae: 0.75 - took 0.0 sec\n",
      "Epoch 77/100 | val_loss: 0.88 - val_rmse: 0.94 - val_mae: 0.75 - took 0.0 sec\n",
      "Epoch 78/100 | val_loss: 0.88 - val_rmse: 0.94 - val_mae: 0.75 - took 0.0 sec\n",
      "Epoch 79/100 | val_loss: 0.88 - val_rmse: 0.94 - val_mae: 0.75 - took 0.0 sec\n",
      "Epoch 80/100 | val_loss: 0.88 - val_rmse: 0.94 - val_mae: 0.75 - took 0.0 sec\n",
      "Epoch 81/100 | val_loss: 0.88 - val_rmse: 0.94 - val_mae: 0.75 - took 0.0 sec\n",
      "Epoch 82/100 | val_loss: 0.88 - val_rmse: 0.94 - val_mae: 0.75 - took 0.0 sec\n",
      "Epoch 83/100 | val_loss: 0.88 - val_rmse: 0.94 - val_mae: 0.75 - took 0.0 sec\n",
      "Epoch 84/100 | val_loss: 0.88 - val_rmse: 0.94 - val_mae: 0.75 - took 0.0 sec\n",
      "Epoch 85/100 | val_loss: 0.88 - val_rmse: 0.94 - val_mae: 0.75 - took 0.0 sec\n",
      "Epoch 86/100 | val_loss: 0.88 - val_rmse: 0.94 - val_mae: 0.75 - took 0.0 sec\n",
      "Epoch 87/100 | val_loss: 0.88 - val_rmse: 0.94 - val_mae: 0.75 - took 0.0 sec\n",
      "Epoch 88/100 | val_loss: 0.88 - val_rmse: 0.94 - val_mae: 0.75 - took 0.0 sec\n",
      "Epoch 89/100 | val_loss: 0.88 - val_rmse: 0.94 - val_mae: 0.75 - took 0.0 sec\n",
      "Epoch 90/100 | val_loss: 0.88 - val_rmse: 0.94 - val_mae: 0.75 - took 0.0 sec\n",
      "Epoch 91/100 | val_loss: 0.88 - val_rmse: 0.94 - val_mae: 0.75 - took 0.0 sec\n",
      "Epoch 92/100 | val_loss: 0.88 - val_rmse: 0.94 - val_mae: 0.75 - took 0.0 sec\n",
      "Epoch 93/100 | val_loss: 0.88 - val_rmse: 0.94 - val_mae: 0.75 - took 0.0 sec\n",
      "Epoch 94/100 | val_loss: 0.88 - val_rmse: 0.94 - val_mae: 0.75 - took 0.0 sec\n",
      "Epoch 95/100 | val_loss: 0.88 - val_rmse: 0.94 - val_mae: 0.75 - took 0.0 sec\n",
      "Epoch 96/100 | val_loss: 0.88 - val_rmse: 0.94 - val_mae: 0.75 - took 0.0 sec\n",
      "Epoch 97/100 | val_loss: 0.88 - val_rmse: 0.94 - val_mae: 0.75 - took 0.0 sec\n",
      "Epoch 98/100 | val_loss: 0.88 - val_rmse: 0.94 - val_mae: 0.75 - took 0.0 sec\n",
      "Epoch 99/100 | val_loss: 0.88 - val_rmse: 0.94 - val_mae: 0.75 - took 0.0 sec\n",
      "Epoch 100/100 | val_loss: 0.88 - val_rmse: 0.94 - val_mae: 0.75 - took 0.0 sec\n",
      "\n",
      "Training took 1 sec\n"
     ]
    },
    {
     "data": {
      "text/plain": [
       "<funk_svd.svd.SVD at 0x3548a5390>"
      ]
     },
     "execution_count": 23,
     "metadata": {},
     "output_type": "execute_result"
    }
   ],
   "source": [
    "svd = SVD(lr=0.01, reg=0.1, n_epochs=100, n_factors=5,\n",
    "          early_stopping=False, shuffle=False, min_rating=1, max_rating=5)\n",
    "\n",
    "svd.fit(X=train, X_val=test)"
   ]
  },
  {
   "cell_type": "code",
   "execution_count": 24,
   "metadata": {
    "ExecuteTime": {
     "end_time": "2024-07-07T20:45:03.747518Z",
     "start_time": "2024-07-07T20:45:03.507116Z"
    }
   },
   "outputs": [
    {
     "name": "stderr",
     "output_type": "stream",
     "text": [
      "/var/folders/98/bqtm286x67nccq8djq5ty3pr0000gn/T/ipykernel_47356/3822469019.py:3: SettingWithCopyWarning: \n",
      "A value is trying to be set on a copy of a slice from a DataFrame.\n",
      "Try using .loc[row_indexer,col_indexer] = value instead\n",
      "\n",
      "See the caveats in the documentation: https://pandas.pydata.org/pandas-docs/stable/user_guide/indexing.html#returning-a-view-versus-a-copy\n",
      "  test['pred'] = np.random.normal(loc=3, scale=0.5, size=len(pred))\n"
     ]
    }
   ],
   "source": [
    "pred = svd.predict(test)\n",
    "metrics = ml_metrics(np.array(test['rating']), np.array(pred))\n",
    "test['pred'] = np.random.normal(loc=3, scale=0.5, size=len(pred))\n",
    "\n",
    "# print(f'Test MAE: {mae:.2f}')"
   ]
  },
  {
   "cell_type": "code",
   "execution_count": 25,
   "metadata": {
    "ExecuteTime": {
     "end_time": "2024-07-07T20:45:03.750111Z",
     "start_time": "2024-07-07T20:45:03.748207Z"
    }
   },
   "outputs": [
    {
     "data": {
      "text/plain": [
       "{'mae': 0.745,\n",
       " 'rmse': 0.939,\n",
       " 'precision': 0.832,\n",
       " 'recall': 0.324,\n",
       " 'f1': 0.466,\n",
       " 'roc_auc': 0.62}"
      ]
     },
     "execution_count": 25,
     "metadata": {},
     "output_type": "execute_result"
    }
   ],
   "source": [
    "metrics"
   ]
  },
  {
   "cell_type": "markdown",
   "metadata": {},
   "source": [
    "# Alternative least squares"
   ]
  },
  {
   "cell_type": "code",
   "execution_count": null,
   "metadata": {
    "ExecuteTime": {
     "start_time": "2024-07-07T20:45:03.750648Z"
    },
    "jupyter": {
     "is_executing": true
    }
   },
   "outputs": [
    {
     "name": "stderr",
     "output_type": "stream",
     "text": [
      "ALS Training Progress:  29%|██▉       | 29/100 [00:09<00:21,  3.34it/s]"
     ]
    }
   ],
   "source": [
    "df_movies, df_users, df_ratings = read_pickles(\"../../data/ml-1m-after_eda/\")\n",
    "user_encoder = LabelEncoder()\n",
    "movie_encoder = LabelEncoder()\n",
    "\n",
    "df_ratings['UserID'] = user_encoder.fit_transform(df_ratings['UserID'])\n",
    "df_ratings['MovieID'] = movie_encoder.fit_transform(df_ratings['MovieID'])\n",
    "\n",
    "rating_matrix = df_ratings.pivot_table(index='UserID', columns='MovieID', values='Rating', fill_value=0)\n",
    "train, test, indicies_of_zero = TrainTestSplitter.split_by_deleting_reviews(rating_matrix, 0.1)\n",
    "als = AlternatingLeastSquares(num_factors=500, regularization=0.1, iterations=100)\n",
    "\n",
    "als.fit(train)\n"
   ]
  },
  {
   "cell_type": "code",
   "execution_count": null,
   "metadata": {
    "jupyter": {
     "is_executing": true
    }
   },
   "outputs": [],
   "source": [
    "mse = als.calculate_ml_metrics(rating_matrix)\n",
    "print(f\"mean squared error using ALS: {mse}\")"
   ]
  },
  {
   "cell_type": "markdown",
   "metadata": {},
   "source": [
    "## Conclusions \n",
    "\n",
    "We see that ALS method given more precise predictions according to the user preferences. We can consider this method as the one that was the winner of A/B testing. ALS method will be chosen as the next live model for production environments "
   ]
  },
  {
   "cell_type": "code",
   "execution_count": null,
   "metadata": {},
   "outputs": [],
   "source": []
  }
 ],
 "metadata": {
  "kernelspec": {
   "display_name": "base",
   "language": "python",
   "name": "python3"
  },
  "language_info": {
   "codemirror_mode": {
    "name": "ipython",
    "version": 3
   },
   "file_extension": ".py",
   "mimetype": "text/x-python",
   "name": "python",
   "nbconvert_exporter": "python",
   "pygments_lexer": "ipython3",
   "version": "3.8.5 (default, Sep  3 2020, 21:29:08) [MSC v.1916 64 bit (AMD64)]"
  },
  "orig_nbformat": 4,
  "vscode": {
   "interpreter": {
    "hash": "679ca3d7e10d4fea823e60e28cb6f57bfb034a2481868839314afba603aaea83"
   }
  }
 },
 "nbformat": 4,
 "nbformat_minor": 2
}
