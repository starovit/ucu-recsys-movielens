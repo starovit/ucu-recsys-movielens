{
 "cells": [
  {
   "cell_type": "code",
   "id": "initial_id",
   "metadata": {
    "collapsed": true,
    "ExecuteTime": {
     "end_time": "2024-07-04T07:09:52.385777Z",
     "start_time": "2024-07-04T07:09:52.128475Z"
    }
   },
   "source": [
    "import numpy as np\n",
    "import pandas as pd\n",
    "\n",
    "from src.utils import read_pickles\n",
    "from sklearn.metrics.pairwise import cosine_similarity\n",
    "from sklearn.metrics import mean_absolute_error, mean_squared_error\n",
    "from sklearn.metrics import precision_score, recall_score\n"
   ],
   "outputs": [],
   "execution_count": 2
  },
  {
   "metadata": {
    "ExecuteTime": {
     "end_time": "2024-07-04T07:09:53.107492Z",
     "start_time": "2024-07-04T07:09:52.988825Z"
    }
   },
   "cell_type": "code",
   "source": "df_movies, df_users, df_ratings = read_pickles(\"../../data/ml-1m-after_eda/\")",
   "id": "8d54b6fe874aae27",
   "outputs": [],
   "execution_count": 3
  },
  {
   "metadata": {
    "ExecuteTime": {
     "end_time": "2024-07-04T07:09:53.500377Z",
     "start_time": "2024-07-04T07:09:53.428536Z"
    }
   },
   "cell_type": "code",
   "source": [
    "def train_test_split(df, split_date):\n",
    "    train = df[df[\"Date\"] < split_date][[\"UserID\", \"MovieID\", \"Rating\"]]\n",
    "    test = df[df[\"Date\"] >= split_date][[\"UserID\", \"MovieID\", \"Rating\"]]\n",
    "    return train, test\n",
    "\n",
    "split_date = pd.to_datetime(\"2000-12-02\").date()\n",
    "train, test = train_test_split(df_ratings, split_date)\n",
    "print(f\"Train shape: {train.shape}\")\n",
    "print(f\"Test shape: {test.shape}\")"
   ],
   "id": "2a7c72dfaf42453",
   "outputs": [
    {
     "name": "stdout",
     "output_type": "stream",
     "text": [
      "Train shape: (797116, 3)\n",
      "Test shape: (203093, 3)\n"
     ]
    }
   ],
   "execution_count": 4
  },
  {
   "metadata": {},
   "cell_type": "markdown",
   "source": "# User-User",
   "id": "6275446f7ab6a190"
  },
  {
   "metadata": {
    "ExecuteTime": {
     "end_time": "2024-07-04T07:09:54.385753Z",
     "start_time": "2024-07-04T07:09:54.373999Z"
    }
   },
   "cell_type": "code",
   "source": [
    "test = test[test[\"UserID\"].isin(train[\"UserID\"])]\n",
    "test = test[test[\"MovieID\"].isin(train[\"MovieID\"])]\n",
    "print(f\"Test shape after deleting 'cold-start' users: {test.shape}\")"
   ],
   "id": "6632715c80db6d2b",
   "outputs": [
    {
     "name": "stdout",
     "output_type": "stream",
     "text": [
      "Test shape after deleting 'cold-start' users: (105999, 3)\n"
     ]
    }
   ],
   "execution_count": 5
  },
  {
   "metadata": {
    "ExecuteTime": {
     "end_time": "2024-07-04T07:09:55.101042Z",
     "start_time": "2024-07-04T07:09:54.862421Z"
    }
   },
   "cell_type": "code",
   "source": [
    "rating_matrix = train.pivot_table(index='UserID', columns='MovieID', \\\n",
    "                                  values='Rating', fill_value=0)\n",
    "rating_matrix.head(3)"
   ],
   "id": "ca448624212ab627",
   "outputs": [
    {
     "data": {
      "text/plain": [
       "MovieID  1     2     3     4     5     6     7     8     9     10    ...  \\\n",
       "UserID                                                               ...   \n",
       "645       0.0   0.0   0.0   0.0   0.0   0.0   0.0   0.0   0.0   0.0  ...   \n",
       "646       0.0   0.0   0.0   0.0   0.0   0.0   0.0   0.0   0.0   0.0  ...   \n",
       "647       0.0   0.0   0.0   0.0   0.0   4.0   5.0   0.0   0.0   0.0  ...   \n",
       "\n",
       "MovieID  3943  3944  3945  3946  3947  3948  3949  3950  3951  3952  \n",
       "UserID                                                               \n",
       "645       0.0   0.0   0.0   0.0   0.0   0.0   0.0   0.0   0.0   0.0  \n",
       "646       0.0   0.0   0.0   0.0   0.0   0.0   0.0   0.0   0.0   0.0  \n",
       "647       0.0   0.0   0.0   0.0   0.0   0.0   0.0   0.0   0.0   0.0  \n",
       "\n",
       "[3 rows x 3662 columns]"
      ],
      "text/html": [
       "<div>\n",
       "<style scoped>\n",
       "    .dataframe tbody tr th:only-of-type {\n",
       "        vertical-align: middle;\n",
       "    }\n",
       "\n",
       "    .dataframe tbody tr th {\n",
       "        vertical-align: top;\n",
       "    }\n",
       "\n",
       "    .dataframe thead th {\n",
       "        text-align: right;\n",
       "    }\n",
       "</style>\n",
       "<table border=\"1\" class=\"dataframe\">\n",
       "  <thead>\n",
       "    <tr style=\"text-align: right;\">\n",
       "      <th>MovieID</th>\n",
       "      <th>1</th>\n",
       "      <th>2</th>\n",
       "      <th>3</th>\n",
       "      <th>4</th>\n",
       "      <th>5</th>\n",
       "      <th>6</th>\n",
       "      <th>7</th>\n",
       "      <th>8</th>\n",
       "      <th>9</th>\n",
       "      <th>10</th>\n",
       "      <th>...</th>\n",
       "      <th>3943</th>\n",
       "      <th>3944</th>\n",
       "      <th>3945</th>\n",
       "      <th>3946</th>\n",
       "      <th>3947</th>\n",
       "      <th>3948</th>\n",
       "      <th>3949</th>\n",
       "      <th>3950</th>\n",
       "      <th>3951</th>\n",
       "      <th>3952</th>\n",
       "    </tr>\n",
       "    <tr>\n",
       "      <th>UserID</th>\n",
       "      <th></th>\n",
       "      <th></th>\n",
       "      <th></th>\n",
       "      <th></th>\n",
       "      <th></th>\n",
       "      <th></th>\n",
       "      <th></th>\n",
       "      <th></th>\n",
       "      <th></th>\n",
       "      <th></th>\n",
       "      <th></th>\n",
       "      <th></th>\n",
       "      <th></th>\n",
       "      <th></th>\n",
       "      <th></th>\n",
       "      <th></th>\n",
       "      <th></th>\n",
       "      <th></th>\n",
       "      <th></th>\n",
       "      <th></th>\n",
       "      <th></th>\n",
       "    </tr>\n",
       "  </thead>\n",
       "  <tbody>\n",
       "    <tr>\n",
       "      <th>645</th>\n",
       "      <td>0.0</td>\n",
       "      <td>0.0</td>\n",
       "      <td>0.0</td>\n",
       "      <td>0.0</td>\n",
       "      <td>0.0</td>\n",
       "      <td>0.0</td>\n",
       "      <td>0.0</td>\n",
       "      <td>0.0</td>\n",
       "      <td>0.0</td>\n",
       "      <td>0.0</td>\n",
       "      <td>...</td>\n",
       "      <td>0.0</td>\n",
       "      <td>0.0</td>\n",
       "      <td>0.0</td>\n",
       "      <td>0.0</td>\n",
       "      <td>0.0</td>\n",
       "      <td>0.0</td>\n",
       "      <td>0.0</td>\n",
       "      <td>0.0</td>\n",
       "      <td>0.0</td>\n",
       "      <td>0.0</td>\n",
       "    </tr>\n",
       "    <tr>\n",
       "      <th>646</th>\n",
       "      <td>0.0</td>\n",
       "      <td>0.0</td>\n",
       "      <td>0.0</td>\n",
       "      <td>0.0</td>\n",
       "      <td>0.0</td>\n",
       "      <td>0.0</td>\n",
       "      <td>0.0</td>\n",
       "      <td>0.0</td>\n",
       "      <td>0.0</td>\n",
       "      <td>0.0</td>\n",
       "      <td>...</td>\n",
       "      <td>0.0</td>\n",
       "      <td>0.0</td>\n",
       "      <td>0.0</td>\n",
       "      <td>0.0</td>\n",
       "      <td>0.0</td>\n",
       "      <td>0.0</td>\n",
       "      <td>0.0</td>\n",
       "      <td>0.0</td>\n",
       "      <td>0.0</td>\n",
       "      <td>0.0</td>\n",
       "    </tr>\n",
       "    <tr>\n",
       "      <th>647</th>\n",
       "      <td>0.0</td>\n",
       "      <td>0.0</td>\n",
       "      <td>0.0</td>\n",
       "      <td>0.0</td>\n",
       "      <td>0.0</td>\n",
       "      <td>4.0</td>\n",
       "      <td>5.0</td>\n",
       "      <td>0.0</td>\n",
       "      <td>0.0</td>\n",
       "      <td>0.0</td>\n",
       "      <td>...</td>\n",
       "      <td>0.0</td>\n",
       "      <td>0.0</td>\n",
       "      <td>0.0</td>\n",
       "      <td>0.0</td>\n",
       "      <td>0.0</td>\n",
       "      <td>0.0</td>\n",
       "      <td>0.0</td>\n",
       "      <td>0.0</td>\n",
       "      <td>0.0</td>\n",
       "      <td>0.0</td>\n",
       "    </tr>\n",
       "  </tbody>\n",
       "</table>\n",
       "<p>3 rows × 3662 columns</p>\n",
       "</div>"
      ]
     },
     "execution_count": 6,
     "metadata": {},
     "output_type": "execute_result"
    }
   ],
   "execution_count": 6
  },
  {
   "metadata": {
    "ExecuteTime": {
     "end_time": "2024-07-04T07:09:56.150273Z",
     "start_time": "2024-07-04T07:09:55.398563Z"
    }
   },
   "cell_type": "code",
   "source": [
    "user_similarity = cosine_similarity(rating_matrix)\n",
    "user_similarity_df = pd.DataFrame(user_similarity, index=rating_matrix.index,\n",
    "                                  columns=rating_matrix.index)"
   ],
   "id": "7718e3df2ab57297",
   "outputs": [],
   "execution_count": 7
  },
  {
   "metadata": {
    "ExecuteTime": {
     "end_time": "2024-07-04T07:09:58.345411Z",
     "start_time": "2024-07-04T07:09:56.174473Z"
    }
   },
   "cell_type": "code",
   "source": [
    "top_n = 30\n",
    "neighbors_dict = {}\n",
    "\n",
    "for i in range(user_similarity_df.shape[0]):\n",
    "    row = user_similarity_df.iloc[i]\n",
    "    user = row.index[i]\n",
    "    row = row[row.index != user]\n",
    "    neighbors = list(np.argsort(row)[::-1][:top_n])\n",
    "    neighbors_dict[user] = neighbors"
   ],
   "id": "99cd4a422ad0078d",
   "outputs": [],
   "execution_count": 8
  },
  {
   "metadata": {
    "ExecuteTime": {
     "end_time": "2024-07-04T07:10:37.518112Z",
     "start_time": "2024-07-04T07:09:59.052803Z"
    }
   },
   "cell_type": "code",
   "source": [
    "X_test = test[[\"UserID\", \"MovieID\"]]\n",
    "y_test = test[\"Rating\"]\n",
    "\n",
    "predict = []\n",
    "for _, row in X_test.iterrows():\n",
    "    user = row[\"UserID\"]\n",
    "    movie = row[\"MovieID\"]\n",
    "    user_neighbors = neighbors_dict[user]\n",
    "    filtered_df = rating_matrix[rating_matrix.index.isin(neighbors)]\n",
    "    filtered_df = filtered_df.loc[:, movie]\n",
    "    pred = filtered_df[filtered_df != 0].mean()\n",
    "    predict.append(pred)"
   ],
   "id": "2f242f9dba48e734",
   "outputs": [],
   "execution_count": 9
  },
  {
   "metadata": {
    "ExecuteTime": {
     "end_time": "2024-07-04T07:10:37.522803Z",
     "start_time": "2024-07-04T07:10:37.518836Z"
    }
   },
   "cell_type": "code",
   "source": [
    "predict_scores = np.array(predict)\n",
    "true_scores = np.array(y_test)"
   ],
   "id": "44e3d80ad1fba0e7",
   "outputs": [],
   "execution_count": 10
  },
  {
   "metadata": {
    "ExecuteTime": {
     "end_time": "2024-07-04T07:10:37.525790Z",
     "start_time": "2024-07-04T07:10:37.523560Z"
    }
   },
   "cell_type": "code",
   "source": [
    "\n",
    "def apply_ml_metrics(true_scores, predict_scores, threshold=4):\n",
    "    indexes =~np.isnan(predict_scores)\n",
    "    true_scores = true_scores[indexes]\n",
    "    predict_scores = predict_scores[indexes]\n",
    "\n",
    "    true_scores_cat = (true_scores >= threshold).astype(int)\n",
    "    predict_scores_cat = (predict_scores >= threshold).astype(int)\n",
    "\n",
    "    mae = mean_absolute_error(true_scores, predict_scores)\n",
    "    rmse = np.sqrt(mean_squared_error(true_scores, predict_scores))\n",
    "    precision = precision_score(true_scores_cat, predict_scores_cat)\n",
    "    recall = recall_score(true_scores_cat, predict_scores_cat)\n",
    "\n",
    "    return {\"mae\": round(mae, 3),\n",
    "            \"rmse\": round(rmse, 3),\n",
    "            \"precision\": round(precision, 3),\n",
    "            \"recall\": round(recall, 3)}"
   ],
   "id": "55b9b706cc6c5f58",
   "outputs": [],
   "execution_count": 11
  },
  {
   "metadata": {
    "ExecuteTime": {
     "end_time": "2024-07-04T07:10:37.528349Z",
     "start_time": "2024-07-04T07:10:37.526288Z"
    }
   },
   "cell_type": "code",
   "source": "true_scores[~np.isnan(predict_scores)].shape",
   "id": "ce212f63094c9cb9",
   "outputs": [
    {
     "data": {
      "text/plain": [
       "(85295,)"
      ]
     },
     "execution_count": 12,
     "metadata": {},
     "output_type": "execute_result"
    }
   ],
   "execution_count": 12
  },
  {
   "metadata": {
    "ExecuteTime": {
     "end_time": "2024-07-04T07:10:37.563403Z",
     "start_time": "2024-07-04T07:10:37.528969Z"
    }
   },
   "cell_type": "code",
   "source": "apply_ml_metrics(true_scores, predict_scores)",
   "id": "8e595b4903d509a6",
   "outputs": [
    {
     "data": {
      "text/plain": [
       "{'mae': 0.88, 'rmse': 1.151, 'precision': 0.648, 'recall': 0.663}"
      ]
     },
     "execution_count": 13,
     "metadata": {},
     "output_type": "execute_result"
    }
   ],
   "execution_count": 13
  },
  {
   "metadata": {},
   "cell_type": "code",
   "outputs": [],
   "execution_count": null,
   "source": "",
   "id": "d15c8b889f15bfd1"
  }
 ],
 "metadata": {
  "kernelspec": {
   "display_name": "Python 3",
   "language": "python",
   "name": "python3"
  },
  "language_info": {
   "codemirror_mode": {
    "name": "ipython",
    "version": 2
   },
   "file_extension": ".py",
   "mimetype": "text/x-python",
   "name": "python",
   "nbconvert_exporter": "python",
   "pygments_lexer": "ipython2",
   "version": "2.7.6"
  }
 },
 "nbformat": 4,
 "nbformat_minor": 5
}
