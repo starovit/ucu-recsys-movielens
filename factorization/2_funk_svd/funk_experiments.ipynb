{
 "cells": [
  {
   "cell_type": "code",
   "execution_count": 52,
   "metadata": {},
   "outputs": [],
   "source": [
    "import pandas as pd\n",
    "import numpy as np\n",
    "from numpy.linalg import norm\n",
    "\n",
    "import multiprocessing as mp\n",
    "import pandas as pd\n",
    "import numpy as np\n",
    "\n",
    "import pickle\n",
    "import datetime\n",
    "\n",
    "from sklearn.metrics import mean_absolute_error\n",
    "from sklearn.metrics import mean_squared_error\n",
    "\n",
    "from funk_svd.dataset import fetch_ml_ratings\n",
    "from funk_svd.utils import _timer\n",
    "from funk_svd import SVD\n",
    "\n",
    "\n",
    "# import read_pickles\n",
    "# import TrainTest Splitter\n",
    "\n",
    "from funk_svd.svd import SVD"
   ]
  },
  {
   "cell_type": "code",
   "execution_count": 53,
   "metadata": {},
   "outputs": [],
   "source": [
    "class TrainTestSplitter:\n",
    "    \"\"\"Handles splitting of dataframes into train and test sets.\"\"\"\n",
    "    def __init__(self):\n",
    "        pass\n",
    "\n",
    "    @classmethod\n",
    "    def split_by_date(self, df, split_date):\n",
    "        train = df[df[\"Date\"] < split_date]\n",
    "        test = df[df[\"Date\"] >= split_date]\n",
    "        return train, test\n",
    "\n",
    "    @classmethod\n",
    "    def split_by_percent(self, df, percent=0.8, random_split=False):\n",
    "        if random_split:\n",
    "            df = df.sample(frac=1, random_state=1)\n",
    "        split_index = int(df.shape[0] * percent)\n",
    "        train = df.iloc[:split_index]\n",
    "        test = df.iloc[split_index:]\n",
    "        return train, test\n",
    "    \n",
    "    @classmethod\n",
    "    def split_by_users(self, df, n_reviews_in_test=10):\n",
    "        train_list, test_list = zip(*df.groupby('UserID').apply(self.split_user_reviews, n_reviews_in_test))\n",
    "        # Concatenate the list of DataFrames into a single DataFrame for train and test\n",
    "        train = pd.concat([x for x in train_list if x is not None])\n",
    "        test = pd.concat([x for x in test_list if x is not None])\n",
    "        return train, test\n",
    "\n",
    "\n",
    "    def split_user_reviews(group, n_reviews_in_test):\n",
    "        if len(group) > n_reviews_in_test:\n",
    "            return group.iloc[:-10], group.iloc[-10:]\n",
    "        else:\n",
    "            return group, None\n",
    "        \n",
    "\n",
    "def read_pickles(path_to_folder):\n",
    "    df_movies = pd.read_pickle(path_to_folder+\"movies.pickle\")\n",
    "    df_users = pd.read_pickle(path_to_folder+\"users.pickle\")\n",
    "    df_ratings = pd.read_pickle(path_to_folder+\"ratings.pickle\")\n",
    "    return df_movies, df_users, df_ratings"
   ]
  },
  {
   "cell_type": "code",
   "execution_count": 54,
   "metadata": {},
   "outputs": [],
   "source": [
    "movies, users, ratings = read_pickles(\"../ucu-recsys-movielens/data/ml-1m-after_eda/\")"
   ]
  },
  {
   "cell_type": "code",
   "execution_count": 55,
   "metadata": {},
   "outputs": [],
   "source": [
    "ratings.columns = ['u_id', 'i_id', 'rating', 'Timestamp', 'Datetime', 'Date']"
   ]
  },
  {
   "cell_type": "code",
   "execution_count": 56,
   "metadata": {},
   "outputs": [],
   "source": [
    "train, test = TrainTestSplitter.split_by_date(ratings, datetime.datetime.strptime('2000-12-02', '%Y-%m-%d').date())"
   ]
  },
  {
   "cell_type": "code",
   "execution_count": 57,
   "metadata": {},
   "outputs": [],
   "source": [
    "train_user_to_item = train.pivot(index='u_id', columns='i_id', values='rating')\n",
    "val_user_to_item = test.pivot(index='u_id', columns='i_id', values='rating')"
   ]
  },
  {
   "cell_type": "code",
   "execution_count": 58,
   "metadata": {},
   "outputs": [
    {
     "name": "stdout",
     "output_type": "stream",
     "text": [
      "Preprocessing data...\n",
      "\n",
      "Preprocessing data...\n",
      "\n",
      "Epoch 1/100  | val_loss: 0.93 - val_rmse: 0.96 - val_mae: 0.76 - took 0.0 sec\n",
      "Epoch 2/100  | val_loss: 0.91 - val_rmse: 0.96 - val_mae: 0.76 - took 0.0 sec\n",
      "Epoch 3/100  | val_loss: 0.91 - val_rmse: 0.95 - val_mae: 0.75 - took 0.0 sec\n",
      "Epoch 4/100  | val_loss: 0.91 - val_rmse: 0.95 - val_mae: 0.75 - took 0.0 sec\n",
      "Epoch 5/100  | val_loss: 0.91 - val_rmse: 0.95 - val_mae: 0.75 - took 0.0 sec\n",
      "Epoch 6/100  | val_loss: 0.90 - val_rmse: 0.95 - val_mae: 0.75 - took 0.0 sec\n",
      "Epoch 7/100  | val_loss: 0.90 - val_rmse: 0.95 - val_mae: 0.75 - took 0.0 sec\n",
      "Epoch 8/100  | val_loss: 0.90 - val_rmse: 0.95 - val_mae: 0.75 - took 0.0 sec\n",
      "Epoch 9/100  | val_loss: 0.90 - val_rmse: 0.95 - val_mae: 0.75 - took 0.0 sec\n",
      "Epoch 10/100 | val_loss: 0.90 - val_rmse: 0.95 - val_mae: 0.75 - took 0.0 sec\n",
      "Epoch 11/100 | val_loss: 0.90 - val_rmse: 0.95 - val_mae: 0.75 - took 0.0 sec\n",
      "Epoch 12/100 | val_loss: 0.90 - val_rmse: 0.95 - val_mae: 0.75 - took 0.0 sec\n",
      "Epoch 13/100 | val_loss: 0.90 - val_rmse: 0.95 - val_mae: 0.75 - took 0.0 sec\n",
      "Epoch 14/100 | val_loss: 0.90 - val_rmse: 0.95 - val_mae: 0.75 - took 0.0 sec\n",
      "Epoch 15/100 | val_loss: 0.90 - val_rmse: 0.95 - val_mae: 0.75 - took 0.0 sec\n",
      "Epoch 16/100 | val_loss: 0.89 - val_rmse: 0.95 - val_mae: 0.75 - took 0.0 sec\n",
      "Epoch 17/100 | val_loss: 0.89 - val_rmse: 0.95 - val_mae: 0.75 - took 0.0 sec\n",
      "Epoch 18/100 | val_loss: 0.89 - val_rmse: 0.94 - val_mae: 0.75 - took 0.0 sec\n",
      "Epoch 19/100 | val_loss: 0.89 - val_rmse: 0.94 - val_mae: 0.75 - took 0.0 sec\n",
      "Epoch 20/100 | val_loss: 0.89 - val_rmse: 0.94 - val_mae: 0.75 - took 0.0 sec\n",
      "Epoch 21/100 | val_loss: 0.89 - val_rmse: 0.94 - val_mae: 0.75 - took 0.0 sec\n",
      "Epoch 22/100 | val_loss: 0.89 - val_rmse: 0.94 - val_mae: 0.75 - took 0.0 sec\n",
      "Epoch 23/100 | val_loss: 0.89 - val_rmse: 0.94 - val_mae: 0.75 - took 0.0 sec\n",
      "Epoch 24/100 | val_loss: 0.89 - val_rmse: 0.94 - val_mae: 0.75 - took 0.0 sec\n",
      "Epoch 25/100 | val_loss: 0.89 - val_rmse: 0.94 - val_mae: 0.75 - took 0.0 sec\n",
      "Epoch 26/100 | val_loss: 0.89 - val_rmse: 0.94 - val_mae: 0.75 - took 0.0 sec\n",
      "Epoch 27/100 | val_loss: 0.89 - val_rmse: 0.94 - val_mae: 0.75 - took 0.0 sec\n",
      "Epoch 28/100 | val_loss: 0.89 - val_rmse: 0.94 - val_mae: 0.75 - took 0.0 sec\n",
      "Epoch 29/100 | val_loss: 0.89 - val_rmse: 0.94 - val_mae: 0.75 - took 0.0 sec\n",
      "Epoch 30/100 | val_loss: 0.89 - val_rmse: 0.94 - val_mae: 0.75 - took 0.0 sec\n",
      "Epoch 31/100 | val_loss: 0.89 - val_rmse: 0.94 - val_mae: 0.75 - took 0.0 sec\n",
      "Epoch 32/100 | val_loss: 0.89 - val_rmse: 0.94 - val_mae: 0.75 - took 0.0 sec\n",
      "Epoch 33/100 | val_loss: 0.89 - val_rmse: 0.94 - val_mae: 0.75 - took 0.0 sec\n",
      "Epoch 34/100 | val_loss: 0.88 - val_rmse: 0.94 - val_mae: 0.75 - took 0.0 sec\n",
      "Epoch 35/100 | val_loss: 0.88 - val_rmse: 0.94 - val_mae: 0.75 - took 0.0 sec\n",
      "Epoch 36/100 | val_loss: 0.88 - val_rmse: 0.94 - val_mae: 0.75 - took 0.0 sec\n",
      "Epoch 37/100 | val_loss: 0.88 - val_rmse: 0.94 - val_mae: 0.75 - took 0.0 sec\n",
      "Epoch 38/100 | val_loss: 0.88 - val_rmse: 0.94 - val_mae: 0.75 - took 0.0 sec\n",
      "Epoch 39/100 | val_loss: 0.88 - val_rmse: 0.94 - val_mae: 0.75 - took 0.0 sec\n",
      "Epoch 40/100 | val_loss: 0.88 - val_rmse: 0.94 - val_mae: 0.75 - took 0.0 sec\n",
      "Epoch 41/100 | val_loss: 0.88 - val_rmse: 0.94 - val_mae: 0.75 - took 0.0 sec\n",
      "Epoch 42/100 | val_loss: 0.88 - val_rmse: 0.94 - val_mae: 0.75 - took 0.0 sec\n",
      "Epoch 43/100 | val_loss: 0.88 - val_rmse: 0.94 - val_mae: 0.75 - took 0.0 sec\n",
      "Epoch 44/100 | val_loss: 0.88 - val_rmse: 0.94 - val_mae: 0.75 - took 0.0 sec\n",
      "Epoch 45/100 | val_loss: 0.88 - val_rmse: 0.94 - val_mae: 0.75 - took 0.0 sec\n",
      "Epoch 46/100 | val_loss: 0.88 - val_rmse: 0.94 - val_mae: 0.75 - took 0.0 sec\n",
      "Epoch 47/100 | val_loss: 0.88 - val_rmse: 0.94 - val_mae: 0.75 - took 0.0 sec\n",
      "Epoch 48/100 | val_loss: 0.88 - val_rmse: 0.94 - val_mae: 0.75 - took 0.0 sec\n",
      "Epoch 49/100 | val_loss: 0.88 - val_rmse: 0.94 - val_mae: 0.75 - took 0.0 sec\n",
      "Epoch 50/100 | val_loss: 0.88 - val_rmse: 0.94 - val_mae: 0.75 - took 0.0 sec\n",
      "Epoch 51/100 | val_loss: 0.88 - val_rmse: 0.94 - val_mae: 0.75 - took 0.0 sec\n",
      "Epoch 52/100 | val_loss: 0.88 - val_rmse: 0.94 - val_mae: 0.75 - took 0.0 sec\n",
      "Epoch 53/100 | val_loss: 0.88 - val_rmse: 0.94 - val_mae: 0.75 - took 0.0 sec\n",
      "Epoch 54/100 | val_loss: 0.88 - val_rmse: 0.94 - val_mae: 0.75 - took 0.0 sec\n",
      "Epoch 55/100 | val_loss: 0.88 - val_rmse: 0.94 - val_mae: 0.75 - took 0.0 sec\n",
      "Epoch 56/100 | val_loss: 0.88 - val_rmse: 0.94 - val_mae: 0.75 - took 0.0 sec\n",
      "Epoch 57/100 | val_loss: 0.88 - val_rmse: 0.94 - val_mae: 0.75 - took 0.0 sec\n",
      "Epoch 58/100 | val_loss: 0.88 - val_rmse: 0.94 - val_mae: 0.75 - took 0.0 sec\n",
      "Epoch 59/100 | val_loss: 0.88 - val_rmse: 0.94 - val_mae: 0.75 - took 0.0 sec\n",
      "Epoch 60/100 | val_loss: 0.88 - val_rmse: 0.94 - val_mae: 0.75 - took 0.0 sec\n",
      "Epoch 61/100 | val_loss: 0.88 - val_rmse: 0.94 - val_mae: 0.75 - took 0.0 sec\n",
      "Epoch 62/100 | val_loss: 0.88 - val_rmse: 0.94 - val_mae: 0.75 - took 0.0 sec\n",
      "Epoch 63/100 | val_loss: 0.88 - val_rmse: 0.94 - val_mae: 0.75 - took 0.0 sec\n",
      "Epoch 64/100 | val_loss: 0.88 - val_rmse: 0.94 - val_mae: 0.75 - took 0.0 sec\n",
      "Epoch 65/100 | val_loss: 0.88 - val_rmse: 0.94 - val_mae: 0.75 - took 0.0 sec\n",
      "Epoch 66/100 | val_loss: 0.88 - val_rmse: 0.94 - val_mae: 0.75 - took 0.0 sec\n",
      "Epoch 67/100 | val_loss: 0.88 - val_rmse: 0.94 - val_mae: 0.75 - took 0.0 sec\n",
      "Epoch 68/100 | val_loss: 0.88 - val_rmse: 0.94 - val_mae: 0.75 - took 0.0 sec\n",
      "Epoch 69/100 | val_loss: 0.88 - val_rmse: 0.94 - val_mae: 0.75 - took 0.0 sec\n",
      "Epoch 70/100 | val_loss: 0.88 - val_rmse: 0.94 - val_mae: 0.75 - took 0.0 sec\n",
      "Epoch 71/100 | val_loss: 0.88 - val_rmse: 0.94 - val_mae: 0.75 - took 0.0 sec\n",
      "Epoch 72/100 | val_loss: 0.88 - val_rmse: 0.94 - val_mae: 0.75 - took 0.0 sec\n",
      "Epoch 73/100 | val_loss: 0.88 - val_rmse: 0.94 - val_mae: 0.75 - took 0.0 sec\n",
      "Epoch 74/100 | val_loss: 0.88 - val_rmse: 0.94 - val_mae: 0.75 - took 0.0 sec\n",
      "Epoch 75/100 | val_loss: 0.88 - val_rmse: 0.94 - val_mae: 0.75 - took 0.0 sec\n",
      "Epoch 76/100 | val_loss: 0.88 - val_rmse: 0.94 - val_mae: 0.75 - took 0.0 sec\n",
      "Epoch 77/100 | val_loss: 0.88 - val_rmse: 0.94 - val_mae: 0.75 - took 0.0 sec\n",
      "Epoch 78/100 | val_loss: 0.88 - val_rmse: 0.94 - val_mae: 0.75 - took 0.0 sec\n",
      "Epoch 79/100 | val_loss: 0.88 - val_rmse: 0.94 - val_mae: 0.75 - took 0.0 sec\n",
      "Epoch 80/100 | val_loss: 0.88 - val_rmse: 0.94 - val_mae: 0.75 - took 0.0 sec\n",
      "Epoch 81/100 | val_loss: 0.88 - val_rmse: 0.94 - val_mae: 0.75 - took 0.0 sec\n",
      "Epoch 82/100 | val_loss: 0.88 - val_rmse: 0.94 - val_mae: 0.75 - took 0.0 sec\n",
      "Epoch 83/100 | val_loss: 0.88 - val_rmse: 0.94 - val_mae: 0.75 - took 0.0 sec\n",
      "Epoch 84/100 | val_loss: 0.88 - val_rmse: 0.94 - val_mae: 0.75 - took 0.0 sec\n",
      "Epoch 85/100 | val_loss: 0.88 - val_rmse: 0.94 - val_mae: 0.75 - took 0.0 sec\n",
      "Epoch 86/100 | val_loss: 0.88 - val_rmse: 0.94 - val_mae: 0.75 - took 0.0 sec\n",
      "Epoch 87/100 | val_loss: 0.88 - val_rmse: 0.94 - val_mae: 0.75 - took 0.0 sec\n",
      "Epoch 88/100 | val_loss: 0.88 - val_rmse: 0.94 - val_mae: 0.75 - took 0.0 sec\n",
      "Epoch 89/100 | val_loss: 0.88 - val_rmse: 0.94 - val_mae: 0.75 - took 0.0 sec\n",
      "Epoch 90/100 | val_loss: 0.88 - val_rmse: 0.94 - val_mae: 0.75 - took 0.0 sec\n",
      "Epoch 91/100 | val_loss: 0.88 - val_rmse: 0.94 - val_mae: 0.75 - took 0.0 sec\n",
      "Epoch 92/100 | val_loss: 0.88 - val_rmse: 0.94 - val_mae: 0.75 - took 0.0 sec\n",
      "Epoch 93/100 | val_loss: 0.88 - val_rmse: 0.94 - val_mae: 0.75 - took 0.0 sec\n",
      "Epoch 94/100 | val_loss: 0.88 - val_rmse: 0.94 - val_mae: 0.75 - took 0.0 sec\n",
      "Epoch 95/100 | val_loss: 0.88 - val_rmse: 0.94 - val_mae: 0.75 - took 0.0 sec\n",
      "Epoch 96/100 | val_loss: 0.88 - val_rmse: 0.94 - val_mae: 0.75 - took 0.0 sec\n",
      "Epoch 97/100 | val_loss: 0.88 - val_rmse: 0.94 - val_mae: 0.75 - took 0.0 sec\n",
      "Epoch 98/100 | val_loss: 0.88 - val_rmse: 0.94 - val_mae: 0.75 - took 0.0 sec\n",
      "Epoch 99/100 | val_loss: 0.88 - val_rmse: 0.94 - val_mae: 0.75 - took 0.0 sec\n",
      "Epoch 100/100 | val_loss: 0.88 - val_rmse: 0.94 - val_mae: 0.75 - took 0.0 sec\n",
      "\n",
      "Training took 2 sec\n"
     ]
    },
    {
     "data": {
      "text/plain": [
       "<funk_svd.svd.SVD at 0x1fdd91a9550>"
      ]
     },
     "execution_count": 58,
     "metadata": {},
     "output_type": "execute_result"
    }
   ],
   "source": [
    "svd = SVD(lr=0.01, reg=0.1, n_epochs=100, n_factors=5,\n",
    "          early_stopping=False, shuffle=False, min_rating=1, max_rating=5)\n",
    "\n",
    "svd.fit(X=train, X_val=test)"
   ]
  },
  {
   "cell_type": "code",
   "execution_count": 62,
   "metadata": {},
   "outputs": [
    {
     "name": "stdout",
     "output_type": "stream",
     "text": [
      "Test MAE: 0.75\n"
     ]
    },
    {
     "name": "stderr",
     "output_type": "stream",
     "text": [
      "<ipython-input-62-03fc186d5e1e>:3: SettingWithCopyWarning: \n",
      "A value is trying to be set on a copy of a slice from a DataFrame.\n",
      "Try using .loc[row_indexer,col_indexer] = value instead\n",
      "\n",
      "See the caveats in the documentation: https://pandas.pydata.org/pandas-docs/stable/user_guide/indexing.html#returning-a-view-versus-a-copy\n",
      "  test['pred'] = np.random.normal(loc=3, scale=0.5, size=len(pred))\n"
     ]
    }
   ],
   "source": [
    "pred = svd.predict(test)\n",
    "mae = mean_absolute_error(test['rating'], pred)\n",
    "test['pred'] = np.random.normal(loc=3, scale=0.5, size=len(pred))\n",
    "\n",
    "print(f'Test MAE: {mae:.2f}')"
   ]
  },
  {
   "cell_type": "code",
   "execution_count": 65,
   "metadata": {},
   "outputs": [
    {
     "name": "stdout",
     "output_type": "stream",
     "text": [
      "[4.309891052165428, 3.4280481067763118, 3.9716537576688102, 3.9770967645829276, 3.9226874854193934, 4.2281711962075965, 3.8879647821610734, 4.226429169066795, 3.8099047126852854, 4.147639706751417, 3.8084515357528614, 3.3908693628481004, 3.794871200944771, 4.025607069910902, 3.9684607794006257, 3.895957313931766, 3.637653622312006, 3.681276271308918, 3.7504970699509808, 3.795775112525225, 3.6500331016744783, 4.230715881289319, 3.8127093953783358, 4.43577195254901, 3.3152844028416872]\n"
     ]
    }
   ],
   "source": [
    "print(pred[:25])"
   ]
  },
  {
   "cell_type": "code",
   "execution_count": 63,
   "metadata": {},
   "outputs": [
    {
     "data": {
      "text/html": [
       "<div>\n",
       "<style scoped>\n",
       "    .dataframe tbody tr th:only-of-type {\n",
       "        vertical-align: middle;\n",
       "    }\n",
       "\n",
       "    .dataframe tbody tr th {\n",
       "        vertical-align: top;\n",
       "    }\n",
       "\n",
       "    .dataframe thead th {\n",
       "        text-align: right;\n",
       "    }\n",
       "</style>\n",
       "<table border=\"1\" class=\"dataframe\">\n",
       "  <thead>\n",
       "    <tr style=\"text-align: right;\">\n",
       "      <th></th>\n",
       "      <th>u_id</th>\n",
       "      <th>i_id</th>\n",
       "      <th>rating</th>\n",
       "      <th>Timestamp</th>\n",
       "      <th>Datetime</th>\n",
       "      <th>Date</th>\n",
       "      <th>pred</th>\n",
       "    </tr>\n",
       "  </thead>\n",
       "  <tbody>\n",
       "    <tr>\n",
       "      <th>0</th>\n",
       "      <td>1</td>\n",
       "      <td>1193</td>\n",
       "      <td>5</td>\n",
       "      <td>978300760</td>\n",
       "      <td>2000-12-31 22:12:40</td>\n",
       "      <td>2000-12-31</td>\n",
       "      <td>3.246398</td>\n",
       "    </tr>\n",
       "    <tr>\n",
       "      <th>1</th>\n",
       "      <td>1</td>\n",
       "      <td>661</td>\n",
       "      <td>3</td>\n",
       "      <td>978302109</td>\n",
       "      <td>2000-12-31 22:35:09</td>\n",
       "      <td>2000-12-31</td>\n",
       "      <td>3.626570</td>\n",
       "    </tr>\n",
       "    <tr>\n",
       "      <th>2</th>\n",
       "      <td>1</td>\n",
       "      <td>914</td>\n",
       "      <td>3</td>\n",
       "      <td>978301968</td>\n",
       "      <td>2000-12-31 22:32:48</td>\n",
       "      <td>2000-12-31</td>\n",
       "      <td>2.660016</td>\n",
       "    </tr>\n",
       "    <tr>\n",
       "      <th>3</th>\n",
       "      <td>1</td>\n",
       "      <td>3408</td>\n",
       "      <td>4</td>\n",
       "      <td>978300275</td>\n",
       "      <td>2000-12-31 22:04:35</td>\n",
       "      <td>2000-12-31</td>\n",
       "      <td>3.390802</td>\n",
       "    </tr>\n",
       "    <tr>\n",
       "      <th>4</th>\n",
       "      <td>1</td>\n",
       "      <td>2355</td>\n",
       "      <td>5</td>\n",
       "      <td>978824291</td>\n",
       "      <td>2001-01-06 23:38:11</td>\n",
       "      <td>2001-01-06</td>\n",
       "      <td>2.826671</td>\n",
       "    </tr>\n",
       "  </tbody>\n",
       "</table>\n",
       "</div>"
      ],
      "text/plain": [
       "   u_id  i_id  rating  Timestamp            Datetime        Date      pred\n",
       "0     1  1193       5  978300760 2000-12-31 22:12:40  2000-12-31  3.246398\n",
       "1     1   661       3  978302109 2000-12-31 22:35:09  2000-12-31  3.626570\n",
       "2     1   914       3  978301968 2000-12-31 22:32:48  2000-12-31  2.660016\n",
       "3     1  3408       4  978300275 2000-12-31 22:04:35  2000-12-31  3.390802\n",
       "4     1  2355       5  978824291 2001-01-06 23:38:11  2001-01-06  2.826671"
      ]
     },
     "execution_count": 63,
     "metadata": {},
     "output_type": "execute_result"
    }
   ],
   "source": [
    "test.head()"
   ]
  },
  {
   "cell_type": "code",
   "execution_count": 61,
   "metadata": {},
   "outputs": [],
   "source": [
    "test.to_pickle('df_5_factors.pkl')"
   ]
  }
 ],
 "metadata": {
  "kernelspec": {
   "display_name": "base",
   "language": "python",
   "name": "python3"
  },
  "language_info": {
   "codemirror_mode": {
    "name": "ipython",
    "version": 3
   },
   "file_extension": ".py",
   "mimetype": "text/x-python",
   "name": "python",
   "nbconvert_exporter": "python",
   "pygments_lexer": "ipython3",
   "version": "3.8.5 (default, Sep  3 2020, 21:29:08) [MSC v.1916 64 bit (AMD64)]"
  },
  "orig_nbformat": 4,
  "vscode": {
   "interpreter": {
    "hash": "679ca3d7e10d4fea823e60e28cb6f57bfb034a2481868839314afba603aaea83"
   }
  }
 },
 "nbformat": 4,
 "nbformat_minor": 2
}
